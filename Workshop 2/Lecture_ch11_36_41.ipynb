{
  "nbformat": 4,
  "nbformat_minor": 0,
  "metadata": {
    "colab": {
      "provenance": [],
      "authorship_tag": "ABX9TyMAFRyekl/Z3vtcqP7LJKx7",
      "include_colab_link": true
    },
    "kernelspec": {
      "name": "python3",
      "display_name": "Python 3"
    },
    "language_info": {
      "name": "python"
    }
  },
  "cells": [
    {
      "cell_type": "markdown",
      "metadata": {
        "id": "view-in-github",
        "colab_type": "text"
      },
      "source": [
        "<a href=\"https://colab.research.google.com/github/saoter/AQM2023/blob/main/Workshop%202/Lecture_ch11_36_41.ipynb\" target=\"_parent\"><img src=\"https://colab.research.google.com/assets/colab-badge.svg\" alt=\"Open In Colab\"/></a>"
      ]
    },
    {
      "cell_type": "code",
      "execution_count": 1,
      "metadata": {
        "id": "K22OtmUCMCJM"
      },
      "outputs": [],
      "source": [
        "# Import packages\n",
        "import numpy as np\n",
        "import pandas as pd\n",
        "from scipy import stats\n",
        "import matplotlib.pyplot as plt #for visualisation\n",
        "\n",
        "\n",
        "from IPython.display import display, Math #This allow us to make subscripts\n",
        "\n"
      ]
    },
    {
      "cell_type": "markdown",
      "source": [
        "# **Exercise 11.36**\n",
        "\n",
        "A random sample of 18 young adult men  (20–30 years old) was sampled. Each person was asked how many minutes of sports he watched on television daily. The responses are listed here. It is known that σ = 10. Test to determine at the 5% significance level whether there is enough statistical evidence to infer that the mean amount of television watched daily by all young adult men is greater than 50 minutes.\n",
        "\n",
        "Times = 50, 48, 65, 74, 66, 37, 45, 68, 64, 65, 58, 55, 52, 63, 59, 57, 74, 65"
      ],
      "metadata": {
        "id": "vrIDciQGMXOu"
      }
    },
    {
      "cell_type": "code",
      "source": [
        "# Here we clone GitHub repository\n",
        "from google.colab import drive\n",
        "drive.mount('/content/drive')\n",
        "!git clone \"https://github.com/saoter/AQM2023.git\""
      ],
      "metadata": {
        "colab": {
          "base_uri": "https://localhost:8080/"
        },
        "id": "YmGJLW8xriaN",
        "outputId": "b0d10f6b-ac67-4547-9ea3-9521265ffa46"
      },
      "execution_count": 3,
      "outputs": [
        {
          "output_type": "stream",
          "name": "stdout",
          "text": [
            "Mounted at /content/drive\n",
            "Cloning into 'AQM2023'...\n",
            "remote: Enumerating objects: 267, done.\u001b[K\n",
            "remote: Counting objects: 100% (110/110), done.\u001b[K\n",
            "remote: Compressing objects: 100% (39/39), done.\u001b[K\n",
            "remote: Total 267 (delta 71), reused 107 (delta 70), pack-reused 157\u001b[K\n",
            "Receiving objects: 100% (267/267), 6.69 MiB | 15.85 MiB/s, done.\n",
            "Resolving deltas: 100% (156/156), done.\n"
          ]
        }
      ]
    },
    {
      "cell_type": "code",
      "source": [
        "# as alternative, you can also upload file from you computer\n",
        "#import dataset\n",
        "\n",
        "\n",
        "#from google.colab import files\n",
        "#uploaded = files.upload()\n"
      ],
      "metadata": {
        "id": "avtkRX1n1sni"
      },
      "execution_count": null,
      "outputs": []
    },
    {
      "cell_type": "code",
      "source": [
        "%cd /content/AQM2023/Workshop 2/data"
      ],
      "metadata": {
        "colab": {
          "base_uri": "https://localhost:8080/"
        },
        "id": "aFXbZ-jHs9ag",
        "outputId": "9e8e7269-3545-47f3-bea3-5d337761ac2f"
      },
      "execution_count": 4,
      "outputs": [
        {
          "output_type": "stream",
          "name": "stdout",
          "text": [
            "/content/AQM2023/Workshop 2/data\n"
          ]
        }
      ]
    },
    {
      "cell_type": "code",
      "source": [
        "df = pd.read_excel('Xr11-36.xlsx')\n",
        "data = df['Times']\n"
      ],
      "metadata": {
        "id": "QHJF6RLu2lrn"
      },
      "execution_count": 5,
      "outputs": []
    },
    {
      "cell_type": "code",
      "source": [
        "# Define Hypothesises\n",
        "display(Math('H_{0}'), \"The mean amount of television watched daily by all young adult men is not greater than 50 minutes (μ ≤ 50)\")\n",
        "display(Math('H_{1}'), \"The mean amount of television watched daily by all young adult men is greater than 50 minutes (μ > 50).\")\n",
        "\n"
      ],
      "metadata": {
        "colab": {
          "base_uri": "https://localhost:8080/",
          "height": 98
        },
        "id": "_1DUf_1DMifq",
        "outputId": "b48715b1-da9b-4604-f020-cea76b8209ba"
      },
      "execution_count": 6,
      "outputs": [
        {
          "output_type": "display_data",
          "data": {
            "text/plain": [
              "<IPython.core.display.Math object>"
            ],
            "text/latex": "$\\displaystyle H_{0}$"
          },
          "metadata": {}
        },
        {
          "output_type": "display_data",
          "data": {
            "text/plain": [
              "'The mean amount of television watched daily by all young adult men is not greater than 50 minutes (μ ≤ 50)'"
            ],
            "application/vnd.google.colaboratory.intrinsic+json": {
              "type": "string"
            }
          },
          "metadata": {}
        },
        {
          "output_type": "display_data",
          "data": {
            "text/plain": [
              "<IPython.core.display.Math object>"
            ],
            "text/latex": "$\\displaystyle H_{1}$"
          },
          "metadata": {}
        },
        {
          "output_type": "display_data",
          "data": {
            "text/plain": [
              "'The mean amount of television watched daily by all young adult men is greater than 50 minutes (μ > 50).'"
            ],
            "application/vnd.google.colaboratory.intrinsic+json": {
              "type": "string"
            }
          },
          "metadata": {}
        }
      ]
    },
    {
      "cell_type": "code",
      "source": [
        "# Variables\n",
        "sample_mean = np.mean(data)\n",
        "stddev = 10 #we can do our own calculation, see last cell in this exercise\n",
        "z = (sample_mean - 50) / (stddev / np.sqrt(len(data)))\n",
        "alpha = 0.05\n",
        "p_value = 1 - stats.t.cdf(z, df=len(data)-1)\n"
      ],
      "metadata": {
        "id": "umdar3HePvuG"
      },
      "execution_count": 7,
      "outputs": []
    },
    {
      "cell_type": "code",
      "source": [
        "print(\"z value = \",z)\n",
        "print(\"p-value = \", p_value)"
      ],
      "metadata": {
        "colab": {
          "base_uri": "https://localhost:8080/"
        },
        "id": "-kHrpjgURL3U",
        "outputId": "e8bd28e3-00ed-41ee-e3e3-4cc88187b997"
      },
      "execution_count": 8,
      "outputs": [
        {
          "output_type": "stream",
          "name": "stdout",
          "text": [
            "z value =  3.8890872965260104\n",
            "p-value =  0.000589643654909211\n"
          ]
        }
      ]
    },
    {
      "cell_type": "code",
      "source": [
        "\n",
        "\n",
        "p_value < alpha\n"
      ],
      "metadata": {
        "colab": {
          "base_uri": "https://localhost:8080/"
        },
        "id": "25dQJcSnQtH2",
        "outputId": "1e9ce1d0-85c7-4587-f058-05028f9716c6"
      },
      "execution_count": 9,
      "outputs": [
        {
          "output_type": "execute_result",
          "data": {
            "text/plain": [
              "True"
            ]
          },
          "metadata": {},
          "execution_count": 9
        }
      ]
    },
    {
      "cell_type": "markdown",
      "source": [
        "P-value is smaller than the level of significance, thus we can reject the null hypothesis. There is enough evidence to infer that the mean amount of sport watched on television daily by all young adult men is greater than 50 minutes."
      ],
      "metadata": {
        "id": "HH52xp2b370C"
      }
    },
    {
      "cell_type": "markdown",
      "source": [
        "# Exercise 11.41\n",
        "\n",
        "A  manufacturer  of  light  bulbs  advertises  that, on average, its long life bulb will last more than 5,000 hours. To test the claim, a statistician took a random sample of 100 bulbs and measured the amount of time until each bulb burned out. If we assume that the lifetime of this type of bulb has a standard deviation of 400 hours, can we conclude at the 5% significance level that the claim is true?"
      ],
      "metadata": {
        "id": "0h7ldRgm7eTD"
      }
    },
    {
      "cell_type": "code",
      "source": [
        "#import dataset\n",
        "df = pd.read_excel('Xr11-41.xlsx')\n",
        "data = df['Bulbs']"
      ],
      "metadata": {
        "colab": {
          "base_uri": "https://localhost:8080/"
        },
        "id": "NZmtee_c8aZ_",
        "outputId": "a3ae723e-2f1a-4617-ce9f-065b2592f176"
      },
      "execution_count": 10,
      "outputs": [
        {
          "output_type": "stream",
          "name": "stderr",
          "text": [
            "/usr/local/lib/python3.10/dist-packages/openpyxl/worksheet/header_footer.py:48: UserWarning: Cannot parse header or footer so it will be ignored\n",
            "  warn(\"\"\"Cannot parse header or footer so it will be ignored\"\"\")\n"
          ]
        }
      ]
    },
    {
      "cell_type": "code",
      "source": [
        "# Define Hypothesises\n",
        "display(Math('H_{0}'), \"The average lifetime of the long-life bulbs is 5,000 hours (μ = 5000).\")\n",
        "display(Math('H_{1}'), \"The average lifetime of the long-life bulbs is greater than 5,000 hours (μ > 5000).\")"
      ],
      "metadata": {
        "colab": {
          "base_uri": "https://localhost:8080/",
          "height": 98
        },
        "id": "Rraf8DST89Bg",
        "outputId": "1f7df401-879e-428c-a8f6-451648b39bb4"
      },
      "execution_count": 11,
      "outputs": [
        {
          "output_type": "display_data",
          "data": {
            "text/plain": [
              "<IPython.core.display.Math object>"
            ],
            "text/latex": "$\\displaystyle H_{0}$"
          },
          "metadata": {}
        },
        {
          "output_type": "display_data",
          "data": {
            "text/plain": [
              "'The average lifetime of the long-life bulbs is 5,000 hours (μ = 5000).'"
            ],
            "application/vnd.google.colaboratory.intrinsic+json": {
              "type": "string"
            }
          },
          "metadata": {}
        },
        {
          "output_type": "display_data",
          "data": {
            "text/plain": [
              "<IPython.core.display.Math object>"
            ],
            "text/latex": "$\\displaystyle H_{1}$"
          },
          "metadata": {}
        },
        {
          "output_type": "display_data",
          "data": {
            "text/plain": [
              "'The average lifetime of the long-life bulbs is greater than 5,000 hours (μ > 5000).'"
            ],
            "application/vnd.google.colaboratory.intrinsic+json": {
              "type": "string"
            }
          },
          "metadata": {}
        }
      ]
    },
    {
      "cell_type": "code",
      "source": [
        "# Variables\n",
        "sample_mean = np.mean(data)\n",
        "stddev = 400 #we can do our own calculation, see last cell in this exercise\n",
        "z = (sample_mean - 5000) / (stddev / np.sqrt(len(data)))\n",
        "alpha = 0.05\n",
        "p_value = 1 - stats.t.cdf(z, df=len(data)-1)\n"
      ],
      "metadata": {
        "id": "0aedP5wd929f"
      },
      "execution_count": 12,
      "outputs": []
    },
    {
      "cell_type": "code",
      "source": [
        "print(\"z value = \",z)\n",
        "print(\"p-value = \", p_value)"
      ],
      "metadata": {
        "colab": {
          "base_uri": "https://localhost:8080/"
        },
        "id": "Latk0ubz-D4B",
        "outputId": "1492c62f-342d-40b4-d440-cd78892a1657"
      },
      "execution_count": 13,
      "outputs": [
        {
          "output_type": "stream",
          "name": "stdout",
          "text": [
            "z value =  1.624000000000001\n",
            "p-value =  0.053777838639939235\n"
          ]
        }
      ]
    },
    {
      "cell_type": "code",
      "source": [
        "p_value < alpha"
      ],
      "metadata": {
        "colab": {
          "base_uri": "https://localhost:8080/"
        },
        "id": "0gczmmDL-VaR",
        "outputId": "6e5abe68-986f-42ff-c58a-f48bf9b5e8fa"
      },
      "execution_count": 14,
      "outputs": [
        {
          "output_type": "execute_result",
          "data": {
            "text/plain": [
              "False"
            ]
          },
          "metadata": {},
          "execution_count": 14
        }
      ]
    },
    {
      "cell_type": "markdown",
      "source": [
        "P-value is not smaller than 5% so there is not enough evidence to conclude that manufacturers advertisment is correct."
      ],
      "metadata": {
        "id": "XUGnWH_r_OUg"
      }
    },
    {
      "cell_type": "markdown",
      "source": [
        "# Exercise 11.2\n",
        "\n",
        "#### book p. 307\n",
        "\n",
        "#### data:  xm11-02"
      ],
      "metadata": {
        "id": "K_11pr7rfb35"
      }
    },
    {
      "cell_type": "markdown",
      "source": [
        "## SciPy package\n",
        "\n",
        "SciPy is an open-source software for mathematics, science, and engineering.\n",
        "\n",
        "Statistical functions are called with scipy.stat and everything you need to know can be found in theri manual:\n",
        "\n",
        "https://docs.scipy.org/doc/scipy/reference/stats.html"
      ],
      "metadata": {
        "id": "MUgVgy5StzgE"
      }
    },
    {
      "cell_type": "markdown",
      "source": [
        "## Comparison of at&t and its competitor\n",
        "\n",
        "In  recent  years,  several  companies  have  been  formed  to  compete  with  AT&T  in  long-distance  calls.  All   advertise that their rates are lower than AT&T’s, and as a result their bills will be lower. AT&T has responded by arguing that there will be no difference in billing for the average consumer. Suppose that a statistics prac-titioner working for AT&T determines that the mean and standard deviation of monthly long-distance bills for all its residential customers are €17.09 and €3.87, respectively. He then takes a random sample of 100 customers and recalculates their last month’s bill using the rates quoted by a leading competitor. Assuming that the standard deviation of this population is the same as for AT&T, can we conclude at the 5% signifi-cance level that there is a difference between the average AT&T bill and that of the leading competitor?"
      ],
      "metadata": {
        "id": "Z_p43tn2fhSS"
      }
    },
    {
      "cell_type": "code",
      "source": [
        "# Here we clone GitHub repository\n",
        "from google.colab import drive\n",
        "drive.mount('/content/drive')\n",
        "!git clone \"https://github.com/saoter/AQM2023.git\""
      ],
      "metadata": {
        "id": "5pX0ELDwfuGC",
        "outputId": "1d15cbe1-52a0-4e48-e367-4500c6a590e4",
        "colab": {
          "base_uri": "https://localhost:8080/"
        }
      },
      "execution_count": 15,
      "outputs": [
        {
          "output_type": "stream",
          "name": "stdout",
          "text": [
            "Drive already mounted at /content/drive; to attempt to forcibly remount, call drive.mount(\"/content/drive\", force_remount=True).\n",
            "Cloning into 'AQM2023'...\n",
            "remote: Enumerating objects: 267, done.\u001b[K\n",
            "remote: Counting objects: 100% (110/110), done.\u001b[K\n",
            "remote: Compressing objects: 100% (39/39), done.\u001b[K\n",
            "remote: Total 267 (delta 71), reused 107 (delta 70), pack-reused 157\u001b[K\n",
            "Receiving objects: 100% (267/267), 6.69 MiB | 15.46 MiB/s, done.\n",
            "Resolving deltas: 100% (156/156), done.\n"
          ]
        }
      ]
    },
    {
      "cell_type": "code",
      "source": [
        "#import dataset\n",
        "%cd /content/AQM2023/Workshop 2/data\n",
        "data = pd.read_excel(\"Xm11-02.xlsx\")"
      ],
      "metadata": {
        "id": "7ofr6Iqvf_9Z",
        "outputId": "774dbfde-94e5-4b0f-d7d1-5879d85af8ff",
        "colab": {
          "base_uri": "https://localhost:8080/"
        }
      },
      "execution_count": 16,
      "outputs": [
        {
          "output_type": "stream",
          "name": "stdout",
          "text": [
            "/content/AQM2023/Workshop 2/data\n"
          ]
        }
      ]
    },
    {
      "cell_type": "code",
      "source": [
        "data.head()"
      ],
      "metadata": {
        "id": "nAuRfhZagftp",
        "outputId": "8a59ae4e-e72a-4026-e739-0157fed38983",
        "colab": {
          "base_uri": "https://localhost:8080/",
          "height": 206
        }
      },
      "execution_count": 17,
      "outputs": [
        {
          "output_type": "execute_result",
          "data": {
            "text/plain": [
              "   Bills\n",
              "0  15.60\n",
              "1  13.45\n",
              "2  18.85\n",
              "3  19.24\n",
              "4  23.23"
            ],
            "text/html": [
              "\n",
              "  <div id=\"df-2b3818d0-9844-49a3-8f64-f34934de7261\" class=\"colab-df-container\">\n",
              "    <div>\n",
              "<style scoped>\n",
              "    .dataframe tbody tr th:only-of-type {\n",
              "        vertical-align: middle;\n",
              "    }\n",
              "\n",
              "    .dataframe tbody tr th {\n",
              "        vertical-align: top;\n",
              "    }\n",
              "\n",
              "    .dataframe thead th {\n",
              "        text-align: right;\n",
              "    }\n",
              "</style>\n",
              "<table border=\"1\" class=\"dataframe\">\n",
              "  <thead>\n",
              "    <tr style=\"text-align: right;\">\n",
              "      <th></th>\n",
              "      <th>Bills</th>\n",
              "    </tr>\n",
              "  </thead>\n",
              "  <tbody>\n",
              "    <tr>\n",
              "      <th>0</th>\n",
              "      <td>15.60</td>\n",
              "    </tr>\n",
              "    <tr>\n",
              "      <th>1</th>\n",
              "      <td>13.45</td>\n",
              "    </tr>\n",
              "    <tr>\n",
              "      <th>2</th>\n",
              "      <td>18.85</td>\n",
              "    </tr>\n",
              "    <tr>\n",
              "      <th>3</th>\n",
              "      <td>19.24</td>\n",
              "    </tr>\n",
              "    <tr>\n",
              "      <th>4</th>\n",
              "      <td>23.23</td>\n",
              "    </tr>\n",
              "  </tbody>\n",
              "</table>\n",
              "</div>\n",
              "    <div class=\"colab-df-buttons\">\n",
              "\n",
              "  <div class=\"colab-df-container\">\n",
              "    <button class=\"colab-df-convert\" onclick=\"convertToInteractive('df-2b3818d0-9844-49a3-8f64-f34934de7261')\"\n",
              "            title=\"Convert this dataframe to an interactive table.\"\n",
              "            style=\"display:none;\">\n",
              "\n",
              "  <svg xmlns=\"http://www.w3.org/2000/svg\" height=\"24px\" viewBox=\"0 -960 960 960\">\n",
              "    <path d=\"M120-120v-720h720v720H120Zm60-500h600v-160H180v160Zm220 220h160v-160H400v160Zm0 220h160v-160H400v160ZM180-400h160v-160H180v160Zm440 0h160v-160H620v160ZM180-180h160v-160H180v160Zm440 0h160v-160H620v160Z\"/>\n",
              "  </svg>\n",
              "    </button>\n",
              "\n",
              "  <style>\n",
              "    .colab-df-container {\n",
              "      display:flex;\n",
              "      gap: 12px;\n",
              "    }\n",
              "\n",
              "    .colab-df-convert {\n",
              "      background-color: #E8F0FE;\n",
              "      border: none;\n",
              "      border-radius: 50%;\n",
              "      cursor: pointer;\n",
              "      display: none;\n",
              "      fill: #1967D2;\n",
              "      height: 32px;\n",
              "      padding: 0 0 0 0;\n",
              "      width: 32px;\n",
              "    }\n",
              "\n",
              "    .colab-df-convert:hover {\n",
              "      background-color: #E2EBFA;\n",
              "      box-shadow: 0px 1px 2px rgba(60, 64, 67, 0.3), 0px 1px 3px 1px rgba(60, 64, 67, 0.15);\n",
              "      fill: #174EA6;\n",
              "    }\n",
              "\n",
              "    .colab-df-buttons div {\n",
              "      margin-bottom: 4px;\n",
              "    }\n",
              "\n",
              "    [theme=dark] .colab-df-convert {\n",
              "      background-color: #3B4455;\n",
              "      fill: #D2E3FC;\n",
              "    }\n",
              "\n",
              "    [theme=dark] .colab-df-convert:hover {\n",
              "      background-color: #434B5C;\n",
              "      box-shadow: 0px 1px 3px 1px rgba(0, 0, 0, 0.15);\n",
              "      filter: drop-shadow(0px 1px 2px rgba(0, 0, 0, 0.3));\n",
              "      fill: #FFFFFF;\n",
              "    }\n",
              "  </style>\n",
              "\n",
              "    <script>\n",
              "      const buttonEl =\n",
              "        document.querySelector('#df-2b3818d0-9844-49a3-8f64-f34934de7261 button.colab-df-convert');\n",
              "      buttonEl.style.display =\n",
              "        google.colab.kernel.accessAllowed ? 'block' : 'none';\n",
              "\n",
              "      async function convertToInteractive(key) {\n",
              "        const element = document.querySelector('#df-2b3818d0-9844-49a3-8f64-f34934de7261');\n",
              "        const dataTable =\n",
              "          await google.colab.kernel.invokeFunction('convertToInteractive',\n",
              "                                                    [key], {});\n",
              "        if (!dataTable) return;\n",
              "\n",
              "        const docLinkHtml = 'Like what you see? Visit the ' +\n",
              "          '<a target=\"_blank\" href=https://colab.research.google.com/notebooks/data_table.ipynb>data table notebook</a>'\n",
              "          + ' to learn more about interactive tables.';\n",
              "        element.innerHTML = '';\n",
              "        dataTable['output_type'] = 'display_data';\n",
              "        await google.colab.output.renderOutput(dataTable, element);\n",
              "        const docLink = document.createElement('div');\n",
              "        docLink.innerHTML = docLinkHtml;\n",
              "        element.appendChild(docLink);\n",
              "      }\n",
              "    </script>\n",
              "  </div>\n",
              "\n",
              "\n",
              "<div id=\"df-4fd2a744-f88a-45cc-9e7c-793f64fbdb24\">\n",
              "  <button class=\"colab-df-quickchart\" onclick=\"quickchart('df-4fd2a744-f88a-45cc-9e7c-793f64fbdb24')\"\n",
              "            title=\"Suggest charts.\"\n",
              "            style=\"display:none;\">\n",
              "\n",
              "<svg xmlns=\"http://www.w3.org/2000/svg\" height=\"24px\"viewBox=\"0 0 24 24\"\n",
              "     width=\"24px\">\n",
              "    <g>\n",
              "        <path d=\"M19 3H5c-1.1 0-2 .9-2 2v14c0 1.1.9 2 2 2h14c1.1 0 2-.9 2-2V5c0-1.1-.9-2-2-2zM9 17H7v-7h2v7zm4 0h-2V7h2v10zm4 0h-2v-4h2v4z\"/>\n",
              "    </g>\n",
              "</svg>\n",
              "  </button>\n",
              "\n",
              "<style>\n",
              "  .colab-df-quickchart {\n",
              "      --bg-color: #E8F0FE;\n",
              "      --fill-color: #1967D2;\n",
              "      --hover-bg-color: #E2EBFA;\n",
              "      --hover-fill-color: #174EA6;\n",
              "      --disabled-fill-color: #AAA;\n",
              "      --disabled-bg-color: #DDD;\n",
              "  }\n",
              "\n",
              "  [theme=dark] .colab-df-quickchart {\n",
              "      --bg-color: #3B4455;\n",
              "      --fill-color: #D2E3FC;\n",
              "      --hover-bg-color: #434B5C;\n",
              "      --hover-fill-color: #FFFFFF;\n",
              "      --disabled-bg-color: #3B4455;\n",
              "      --disabled-fill-color: #666;\n",
              "  }\n",
              "\n",
              "  .colab-df-quickchart {\n",
              "    background-color: var(--bg-color);\n",
              "    border: none;\n",
              "    border-radius: 50%;\n",
              "    cursor: pointer;\n",
              "    display: none;\n",
              "    fill: var(--fill-color);\n",
              "    height: 32px;\n",
              "    padding: 0;\n",
              "    width: 32px;\n",
              "  }\n",
              "\n",
              "  .colab-df-quickchart:hover {\n",
              "    background-color: var(--hover-bg-color);\n",
              "    box-shadow: 0 1px 2px rgba(60, 64, 67, 0.3), 0 1px 3px 1px rgba(60, 64, 67, 0.15);\n",
              "    fill: var(--button-hover-fill-color);\n",
              "  }\n",
              "\n",
              "  .colab-df-quickchart-complete:disabled,\n",
              "  .colab-df-quickchart-complete:disabled:hover {\n",
              "    background-color: var(--disabled-bg-color);\n",
              "    fill: var(--disabled-fill-color);\n",
              "    box-shadow: none;\n",
              "  }\n",
              "\n",
              "  .colab-df-spinner {\n",
              "    border: 2px solid var(--fill-color);\n",
              "    border-color: transparent;\n",
              "    border-bottom-color: var(--fill-color);\n",
              "    animation:\n",
              "      spin 1s steps(1) infinite;\n",
              "  }\n",
              "\n",
              "  @keyframes spin {\n",
              "    0% {\n",
              "      border-color: transparent;\n",
              "      border-bottom-color: var(--fill-color);\n",
              "      border-left-color: var(--fill-color);\n",
              "    }\n",
              "    20% {\n",
              "      border-color: transparent;\n",
              "      border-left-color: var(--fill-color);\n",
              "      border-top-color: var(--fill-color);\n",
              "    }\n",
              "    30% {\n",
              "      border-color: transparent;\n",
              "      border-left-color: var(--fill-color);\n",
              "      border-top-color: var(--fill-color);\n",
              "      border-right-color: var(--fill-color);\n",
              "    }\n",
              "    40% {\n",
              "      border-color: transparent;\n",
              "      border-right-color: var(--fill-color);\n",
              "      border-top-color: var(--fill-color);\n",
              "    }\n",
              "    60% {\n",
              "      border-color: transparent;\n",
              "      border-right-color: var(--fill-color);\n",
              "    }\n",
              "    80% {\n",
              "      border-color: transparent;\n",
              "      border-right-color: var(--fill-color);\n",
              "      border-bottom-color: var(--fill-color);\n",
              "    }\n",
              "    90% {\n",
              "      border-color: transparent;\n",
              "      border-bottom-color: var(--fill-color);\n",
              "    }\n",
              "  }\n",
              "</style>\n",
              "\n",
              "  <script>\n",
              "    async function quickchart(key) {\n",
              "      const quickchartButtonEl =\n",
              "        document.querySelector('#' + key + ' button');\n",
              "      quickchartButtonEl.disabled = true;  // To prevent multiple clicks.\n",
              "      quickchartButtonEl.classList.add('colab-df-spinner');\n",
              "      try {\n",
              "        const charts = await google.colab.kernel.invokeFunction(\n",
              "            'suggestCharts', [key], {});\n",
              "      } catch (error) {\n",
              "        console.error('Error during call to suggestCharts:', error);\n",
              "      }\n",
              "      quickchartButtonEl.classList.remove('colab-df-spinner');\n",
              "      quickchartButtonEl.classList.add('colab-df-quickchart-complete');\n",
              "    }\n",
              "    (() => {\n",
              "      let quickchartButtonEl =\n",
              "        document.querySelector('#df-4fd2a744-f88a-45cc-9e7c-793f64fbdb24 button');\n",
              "      quickchartButtonEl.style.display =\n",
              "        google.colab.kernel.accessAllowed ? 'block' : 'none';\n",
              "    })();\n",
              "  </script>\n",
              "</div>\n",
              "    </div>\n",
              "  </div>\n"
            ]
          },
          "metadata": {},
          "execution_count": 17
        }
      ]
    },
    {
      "cell_type": "code",
      "source": [
        "#Find variables and define hypotheses\n",
        "display(Math('H_{0}'), \"µ = 17.09\")\n",
        "display(Math('H_{1}'), \"µ ≠ 17.09\")"
      ],
      "metadata": {
        "id": "EHHRkjicgnop",
        "outputId": "c29187ad-81b5-4dbd-8beb-882bf8856fe9",
        "colab": {
          "base_uri": "https://localhost:8080/",
          "height": 98
        }
      },
      "execution_count": 18,
      "outputs": [
        {
          "output_type": "display_data",
          "data": {
            "text/plain": [
              "<IPython.core.display.Math object>"
            ],
            "text/latex": "$\\displaystyle H_{0}$"
          },
          "metadata": {}
        },
        {
          "output_type": "display_data",
          "data": {
            "text/plain": [
              "'µ = 17.09'"
            ],
            "application/vnd.google.colaboratory.intrinsic+json": {
              "type": "string"
            }
          },
          "metadata": {}
        },
        {
          "output_type": "display_data",
          "data": {
            "text/plain": [
              "<IPython.core.display.Math object>"
            ],
            "text/latex": "$\\displaystyle H_{1}$"
          },
          "metadata": {}
        },
        {
          "output_type": "display_data",
          "data": {
            "text/plain": [
              "'µ ≠ 17.09'"
            ],
            "application/vnd.google.colaboratory.intrinsic+json": {
              "type": "string"
            }
          },
          "metadata": {}
        }
      ]
    },
    {
      "cell_type": "code",
      "source": [
        "µ = 17.09\n",
        "alpha = 0.05\n",
        "sample_mean = np.mean(data['Bills'])\n",
        "stddev = 3.87\n",
        "n = 100 #100 customers"
      ],
      "metadata": {
        "id": "1jBS3nBshwlE"
      },
      "execution_count": 19,
      "outputs": []
    },
    {
      "cell_type": "code",
      "source": [
        "#Find rejection region\n",
        "alpha = 0.05\n",
        "alpha_over_2 = alpha / 2\n",
        "\n",
        "left_rejection_value = stats.norm.ppf(alpha_over_2)\n",
        "right_rejection_value = stats.norm.ppf(1 - alpha_over_2)\n",
        "\n",
        "print(\"Left rejection value is \",left_rejection_value)\n",
        "print(\"Right rejection value is \",right_rejection_value)\n"
      ],
      "metadata": {
        "id": "pdaxvQcDiS9p",
        "outputId": "e8ec8a93-2f43-4fdc-b843-bc08446e19e4",
        "colab": {
          "base_uri": "https://localhost:8080/"
        }
      },
      "execution_count": 20,
      "outputs": [
        {
          "output_type": "stream",
          "name": "stdout",
          "text": [
            "Left rejection value is  -1.9599639845400545\n",
            "Right rejection value is  1.959963984540054\n"
          ]
        }
      ]
    },
    {
      "cell_type": "code",
      "source": [
        "#Calculate z value\n",
        "z = (sample_mean - µ) / (stddev / np.sqrt(len(data)))\n",
        "print(\"z value is\", z)"
      ],
      "metadata": {
        "id": "u3P8rSkpj31g",
        "outputId": "776bb97b-d4e0-4328-b9c2-fb363bc9447f",
        "colab": {
          "base_uri": "https://localhost:8080/"
        }
      },
      "execution_count": 21,
      "outputs": [
        {
          "output_type": "stream",
          "name": "stdout",
          "text": [
            "z value is 1.1883720930232586\n"
          ]
        }
      ]
    },
    {
      "cell_type": "code",
      "source": [
        "if left_rejection_value < z < right_rejection_value:\n",
        "    print(\"Z-value falls between the rejection values, thus we cannot infer that µ ≠ 17.09\")\n",
        "elif z <= left_rejection_value:\n",
        "    print(\"Z-value falls on the left side of the left rejection value, thus we can infer that µ ≠ 17.09\")\n",
        "elif z >= right_rejection_value:\n",
        "    print(\"Z-value falls on the right side of the right rejection value, thus we can infer that µ ≠ 17.09\")\n"
      ],
      "metadata": {
        "id": "P8p5ZvInlQ8m",
        "outputId": "c94acfce-1e54-4697-e228-8bcfe8843a54",
        "colab": {
          "base_uri": "https://localhost:8080/"
        }
      },
      "execution_count": 22,
      "outputs": [
        {
          "output_type": "stream",
          "name": "stdout",
          "text": [
            "Z-value falls between the rejection values, thus we cannot infer that µ ≠ 17.09\n"
          ]
        }
      ]
    },
    {
      "cell_type": "code",
      "source": [
        "# Calculate p-value\n",
        "\n",
        "p_value = 2 * (1 - stats.norm.cdf(abs(z)))\n",
        "print(\"P-value is \", p_value)\n"
      ],
      "metadata": {
        "id": "ynwKlLCcmR67",
        "outputId": "dd7b95cb-6c2d-444a-ef8b-e4dcf7bc4470",
        "colab": {
          "base_uri": "https://localhost:8080/"
        }
      },
      "execution_count": 23,
      "outputs": [
        {
          "output_type": "stream",
          "name": "stdout",
          "text": [
            "P-value is  0.23468684609229706\n"
          ]
        }
      ]
    },
    {
      "cell_type": "code",
      "source": [
        "#Check if p_value is smaller than alpha\n",
        "if p_value < alpha:\n",
        "  print(\"The probability (p-value is\",p_value*100,\"%) is lower than the chosen significance level (alpha is\",alpha*100,\"%), indicating that there is sufficient statistical evidence to reject the null hypothesis in favor of the alternative hypothesis.\")\n",
        "else:\n",
        "  print(\"The probability (p-value is\",p_value*100,\"%) is higher than the chosen significance level (alpha is\", alpha*100,\"%), indicating that there is not enough statistical evidence to reject the null hypothesis in favor of the alternative hypothesis.\")\n"
      ],
      "metadata": {
        "id": "SE_YEn31pdQ9",
        "outputId": "a185a8d5-8ea5-4ef5-b29c-02d273057c6b",
        "colab": {
          "base_uri": "https://localhost:8080/"
        }
      },
      "execution_count": 24,
      "outputs": [
        {
          "output_type": "stream",
          "name": "stdout",
          "text": [
            "The probability (p-value is 23.468684609229705 %) is higher than the chosen significance level (alpha is 5.0 %), indicating that there is not enough statistical evidence to reject the null hypothesis in favor of the alternative hypothesis.\n"
          ]
        }
      ]
    },
    {
      "cell_type": "markdown",
      "source": [
        "### Interpretation\n",
        "\n",
        "There is not enough evidence to infer that the mean long-distance bill is different from AT&T's mean of €17.09."
      ],
      "metadata": {
        "id": "1B0P9SZrpBgJ"
      }
    }
  ]
}