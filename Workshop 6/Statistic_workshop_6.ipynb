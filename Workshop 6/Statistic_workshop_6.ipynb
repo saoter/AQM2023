{
  "nbformat": 4,
  "nbformat_minor": 0,
  "metadata": {
    "colab": {
      "provenance": [],
      "authorship_tag": "ABX9TyO6XeKpJt7zAOVCbpT6ZRoB",
      "include_colab_link": true
    },
    "kernelspec": {
      "name": "python3",
      "display_name": "Python 3"
    },
    "language_info": {
      "name": "python"
    }
  },
  "cells": [
    {
      "cell_type": "markdown",
      "metadata": {
        "id": "view-in-github",
        "colab_type": "text"
      },
      "source": [
        "<a href=\"https://colab.research.google.com/github/saoter/AQM2023/blob/main/Workshop%206/Statistic_workshop_6.ipynb\" target=\"_parent\"><img src=\"https://colab.research.google.com/assets/colab-badge.svg\" alt=\"Open In Colab\"/></a>"
      ]
    },
    {
      "cell_type": "markdown",
      "source": [
        "# Exercise for Simple linear regression & correlation in statistics with python\n",
        "##About the exercises\n",
        "These are based on the book chapter 16. The examples we will do together are 3 exercices which are Xr16-02, Xr16-07 and finally Xr16-08.\n",
        "\n",
        "Then I will put up the exercises from the appendix and you can try solving them on your own."
      ],
      "metadata": {
        "id": "DRYTpbSvMNf3"
      }
    },
    {
      "cell_type": "markdown",
      "source": [
        "## Exercise 16_2\n",
        "\n"
      ],
      "metadata": {
        "id": "Wzduom6OMXHI"
      }
    },
    {
      "cell_type": "markdown",
      "source": [
        "Attempting to analyse the relationship between advertising and sales the owner of a furniture store recorded the monthly advertising budget ( thousands of euro) and the sales (millions of euros) for a sample of 12 months.\n",
        "\n",
        "A. Draw a scatter diagram does it appear that advertising and sales are linearly related?\n",
        "\n",
        "B. Calculate the least squares lines and interpret the coefficients"
      ],
      "metadata": {
        "id": "Cd3WYrXQbG8C"
      }
    },
    {
      "cell_type": "markdown",
      "source": [
        "    Load the dataset.\n",
        "    Create a scatter plot to visualize the relationship between advertising and sales.\n",
        "\n",
        "Now, let's start by loading the dataset and exploring its structure."
      ],
      "metadata": {
        "id": "jC43BnfXaIHw"
      }
    },
    {
      "cell_type": "code",
      "source": [
        "import pandas as pd\n",
        "import matplotlib.pyplot as plt\n",
        "\n",
        "# Load the dataset\n",
        "data = pd.read_excel('https://github.com/saoter/AQM2023/raw/main/Workshop%206/data/Xr16-02.xlsx')\n",
        "\n",
        "# Display the first few rows of the dataframe\n",
        "data.head()\n"
      ],
      "metadata": {
        "colab": {
          "base_uri": "https://localhost:8080/",
          "height": 206
        },
        "id": "Ke5DVQBxtmC_",
        "outputId": "62130979-a0c9-44de-eeaf-847c656e907c"
      },
      "execution_count": 17,
      "outputs": [
        {
          "output_type": "execute_result",
          "data": {
            "text/plain": [
              "   Advertising  Sales\n",
              "0           23    9.6\n",
              "1           46   11.3\n",
              "2           60   12.8\n",
              "3           54    9.8\n",
              "4           28    8.9"
            ],
            "text/html": [
              "\n",
              "  <div id=\"df-c7427093-2e89-4e40-acc0-153fad8c7f56\" class=\"colab-df-container\">\n",
              "    <div>\n",
              "<style scoped>\n",
              "    .dataframe tbody tr th:only-of-type {\n",
              "        vertical-align: middle;\n",
              "    }\n",
              "\n",
              "    .dataframe tbody tr th {\n",
              "        vertical-align: top;\n",
              "    }\n",
              "\n",
              "    .dataframe thead th {\n",
              "        text-align: right;\n",
              "    }\n",
              "</style>\n",
              "<table border=\"1\" class=\"dataframe\">\n",
              "  <thead>\n",
              "    <tr style=\"text-align: right;\">\n",
              "      <th></th>\n",
              "      <th>Advertising</th>\n",
              "      <th>Sales</th>\n",
              "    </tr>\n",
              "  </thead>\n",
              "  <tbody>\n",
              "    <tr>\n",
              "      <th>0</th>\n",
              "      <td>23</td>\n",
              "      <td>9.6</td>\n",
              "    </tr>\n",
              "    <tr>\n",
              "      <th>1</th>\n",
              "      <td>46</td>\n",
              "      <td>11.3</td>\n",
              "    </tr>\n",
              "    <tr>\n",
              "      <th>2</th>\n",
              "      <td>60</td>\n",
              "      <td>12.8</td>\n",
              "    </tr>\n",
              "    <tr>\n",
              "      <th>3</th>\n",
              "      <td>54</td>\n",
              "      <td>9.8</td>\n",
              "    </tr>\n",
              "    <tr>\n",
              "      <th>4</th>\n",
              "      <td>28</td>\n",
              "      <td>8.9</td>\n",
              "    </tr>\n",
              "  </tbody>\n",
              "</table>\n",
              "</div>\n",
              "    <div class=\"colab-df-buttons\">\n",
              "\n",
              "  <div class=\"colab-df-container\">\n",
              "    <button class=\"colab-df-convert\" onclick=\"convertToInteractive('df-c7427093-2e89-4e40-acc0-153fad8c7f56')\"\n",
              "            title=\"Convert this dataframe to an interactive table.\"\n",
              "            style=\"display:none;\">\n",
              "\n",
              "  <svg xmlns=\"http://www.w3.org/2000/svg\" height=\"24px\" viewBox=\"0 -960 960 960\">\n",
              "    <path d=\"M120-120v-720h720v720H120Zm60-500h600v-160H180v160Zm220 220h160v-160H400v160Zm0 220h160v-160H400v160ZM180-400h160v-160H180v160Zm440 0h160v-160H620v160ZM180-180h160v-160H180v160Zm440 0h160v-160H620v160Z\"/>\n",
              "  </svg>\n",
              "    </button>\n",
              "\n",
              "  <style>\n",
              "    .colab-df-container {\n",
              "      display:flex;\n",
              "      gap: 12px;\n",
              "    }\n",
              "\n",
              "    .colab-df-convert {\n",
              "      background-color: #E8F0FE;\n",
              "      border: none;\n",
              "      border-radius: 50%;\n",
              "      cursor: pointer;\n",
              "      display: none;\n",
              "      fill: #1967D2;\n",
              "      height: 32px;\n",
              "      padding: 0 0 0 0;\n",
              "      width: 32px;\n",
              "    }\n",
              "\n",
              "    .colab-df-convert:hover {\n",
              "      background-color: #E2EBFA;\n",
              "      box-shadow: 0px 1px 2px rgba(60, 64, 67, 0.3), 0px 1px 3px 1px rgba(60, 64, 67, 0.15);\n",
              "      fill: #174EA6;\n",
              "    }\n",
              "\n",
              "    .colab-df-buttons div {\n",
              "      margin-bottom: 4px;\n",
              "    }\n",
              "\n",
              "    [theme=dark] .colab-df-convert {\n",
              "      background-color: #3B4455;\n",
              "      fill: #D2E3FC;\n",
              "    }\n",
              "\n",
              "    [theme=dark] .colab-df-convert:hover {\n",
              "      background-color: #434B5C;\n",
              "      box-shadow: 0px 1px 3px 1px rgba(0, 0, 0, 0.15);\n",
              "      filter: drop-shadow(0px 1px 2px rgba(0, 0, 0, 0.3));\n",
              "      fill: #FFFFFF;\n",
              "    }\n",
              "  </style>\n",
              "\n",
              "    <script>\n",
              "      const buttonEl =\n",
              "        document.querySelector('#df-c7427093-2e89-4e40-acc0-153fad8c7f56 button.colab-df-convert');\n",
              "      buttonEl.style.display =\n",
              "        google.colab.kernel.accessAllowed ? 'block' : 'none';\n",
              "\n",
              "      async function convertToInteractive(key) {\n",
              "        const element = document.querySelector('#df-c7427093-2e89-4e40-acc0-153fad8c7f56');\n",
              "        const dataTable =\n",
              "          await google.colab.kernel.invokeFunction('convertToInteractive',\n",
              "                                                    [key], {});\n",
              "        if (!dataTable) return;\n",
              "\n",
              "        const docLinkHtml = 'Like what you see? Visit the ' +\n",
              "          '<a target=\"_blank\" href=https://colab.research.google.com/notebooks/data_table.ipynb>data table notebook</a>'\n",
              "          + ' to learn more about interactive tables.';\n",
              "        element.innerHTML = '';\n",
              "        dataTable['output_type'] = 'display_data';\n",
              "        await google.colab.output.renderOutput(dataTable, element);\n",
              "        const docLink = document.createElement('div');\n",
              "        docLink.innerHTML = docLinkHtml;\n",
              "        element.appendChild(docLink);\n",
              "      }\n",
              "    </script>\n",
              "  </div>\n",
              "\n",
              "\n",
              "<div id=\"df-985143ab-9103-496e-9991-a6931e870d52\">\n",
              "  <button class=\"colab-df-quickchart\" onclick=\"quickchart('df-985143ab-9103-496e-9991-a6931e870d52')\"\n",
              "            title=\"Suggest charts.\"\n",
              "            style=\"display:none;\">\n",
              "\n",
              "<svg xmlns=\"http://www.w3.org/2000/svg\" height=\"24px\"viewBox=\"0 0 24 24\"\n",
              "     width=\"24px\">\n",
              "    <g>\n",
              "        <path d=\"M19 3H5c-1.1 0-2 .9-2 2v14c0 1.1.9 2 2 2h14c1.1 0 2-.9 2-2V5c0-1.1-.9-2-2-2zM9 17H7v-7h2v7zm4 0h-2V7h2v10zm4 0h-2v-4h2v4z\"/>\n",
              "    </g>\n",
              "</svg>\n",
              "  </button>\n",
              "\n",
              "<style>\n",
              "  .colab-df-quickchart {\n",
              "      --bg-color: #E8F0FE;\n",
              "      --fill-color: #1967D2;\n",
              "      --hover-bg-color: #E2EBFA;\n",
              "      --hover-fill-color: #174EA6;\n",
              "      --disabled-fill-color: #AAA;\n",
              "      --disabled-bg-color: #DDD;\n",
              "  }\n",
              "\n",
              "  [theme=dark] .colab-df-quickchart {\n",
              "      --bg-color: #3B4455;\n",
              "      --fill-color: #D2E3FC;\n",
              "      --hover-bg-color: #434B5C;\n",
              "      --hover-fill-color: #FFFFFF;\n",
              "      --disabled-bg-color: #3B4455;\n",
              "      --disabled-fill-color: #666;\n",
              "  }\n",
              "\n",
              "  .colab-df-quickchart {\n",
              "    background-color: var(--bg-color);\n",
              "    border: none;\n",
              "    border-radius: 50%;\n",
              "    cursor: pointer;\n",
              "    display: none;\n",
              "    fill: var(--fill-color);\n",
              "    height: 32px;\n",
              "    padding: 0;\n",
              "    width: 32px;\n",
              "  }\n",
              "\n",
              "  .colab-df-quickchart:hover {\n",
              "    background-color: var(--hover-bg-color);\n",
              "    box-shadow: 0 1px 2px rgba(60, 64, 67, 0.3), 0 1px 3px 1px rgba(60, 64, 67, 0.15);\n",
              "    fill: var(--button-hover-fill-color);\n",
              "  }\n",
              "\n",
              "  .colab-df-quickchart-complete:disabled,\n",
              "  .colab-df-quickchart-complete:disabled:hover {\n",
              "    background-color: var(--disabled-bg-color);\n",
              "    fill: var(--disabled-fill-color);\n",
              "    box-shadow: none;\n",
              "  }\n",
              "\n",
              "  .colab-df-spinner {\n",
              "    border: 2px solid var(--fill-color);\n",
              "    border-color: transparent;\n",
              "    border-bottom-color: var(--fill-color);\n",
              "    animation:\n",
              "      spin 1s steps(1) infinite;\n",
              "  }\n",
              "\n",
              "  @keyframes spin {\n",
              "    0% {\n",
              "      border-color: transparent;\n",
              "      border-bottom-color: var(--fill-color);\n",
              "      border-left-color: var(--fill-color);\n",
              "    }\n",
              "    20% {\n",
              "      border-color: transparent;\n",
              "      border-left-color: var(--fill-color);\n",
              "      border-top-color: var(--fill-color);\n",
              "    }\n",
              "    30% {\n",
              "      border-color: transparent;\n",
              "      border-left-color: var(--fill-color);\n",
              "      border-top-color: var(--fill-color);\n",
              "      border-right-color: var(--fill-color);\n",
              "    }\n",
              "    40% {\n",
              "      border-color: transparent;\n",
              "      border-right-color: var(--fill-color);\n",
              "      border-top-color: var(--fill-color);\n",
              "    }\n",
              "    60% {\n",
              "      border-color: transparent;\n",
              "      border-right-color: var(--fill-color);\n",
              "    }\n",
              "    80% {\n",
              "      border-color: transparent;\n",
              "      border-right-color: var(--fill-color);\n",
              "      border-bottom-color: var(--fill-color);\n",
              "    }\n",
              "    90% {\n",
              "      border-color: transparent;\n",
              "      border-bottom-color: var(--fill-color);\n",
              "    }\n",
              "  }\n",
              "</style>\n",
              "\n",
              "  <script>\n",
              "    async function quickchart(key) {\n",
              "      const quickchartButtonEl =\n",
              "        document.querySelector('#' + key + ' button');\n",
              "      quickchartButtonEl.disabled = true;  // To prevent multiple clicks.\n",
              "      quickchartButtonEl.classList.add('colab-df-spinner');\n",
              "      try {\n",
              "        const charts = await google.colab.kernel.invokeFunction(\n",
              "            'suggestCharts', [key], {});\n",
              "      } catch (error) {\n",
              "        console.error('Error during call to suggestCharts:', error);\n",
              "      }\n",
              "      quickchartButtonEl.classList.remove('colab-df-spinner');\n",
              "      quickchartButtonEl.classList.add('colab-df-quickchart-complete');\n",
              "    }\n",
              "    (() => {\n",
              "      let quickchartButtonEl =\n",
              "        document.querySelector('#df-985143ab-9103-496e-9991-a6931e870d52 button');\n",
              "      quickchartButtonEl.style.display =\n",
              "        google.colab.kernel.accessAllowed ? 'block' : 'none';\n",
              "    })();\n",
              "  </script>\n",
              "</div>\n",
              "    </div>\n",
              "  </div>\n"
            ]
          },
          "metadata": {},
          "execution_count": 17
        }
      ]
    },
    {
      "cell_type": "markdown",
      "source": [
        "The dataset consists of two columns: \"Advertising\" (representing the monthly advertising budget in thousands of euros) and \"Sales\" (representing the sales in millions of euros).\n",
        "\n",
        "Now, let's create a scatter diagram to visualize the relationship between advertising budget and sales. We'll be able to see if there is an apparent linear relationship between the two variables."
      ],
      "metadata": {
        "id": "bpVH0vi8aLxk"
      }
    },
    {
      "cell_type": "code",
      "execution_count": 7,
      "metadata": {
        "colab": {
          "base_uri": "https://localhost:8080/",
          "height": 564
        },
        "id": "JdIlYPRttc0T",
        "outputId": "134cef77-4e8f-4980-d8ba-84a163f44361"
      },
      "outputs": [
        {
          "output_type": "display_data",
          "data": {
            "text/plain": [
              "<Figure size 1000x600 with 1 Axes>"
            ],
            "image/png": "[encoded data removed]"
          },
          "metadata": {}
        }
      ],
      "source": [
        "# Create a scatter plot\n",
        "plt.figure(figsize=(10, 6))\n",
        "plt.scatter(data['Advertising'], data['Sales'], color='blue', label='Data points')\n",
        "plt.title('Scatter Diagram of Advertising vs Sales')\n",
        "plt.xlabel('Advertising (Thousands of Euros)')\n",
        "plt.ylabel('Sales (Millions of Euros)')\n",
        "plt.grid(True)\n",
        "plt.legend()\n",
        "plt.show()"
      ]
    },
    {
      "cell_type": "markdown",
      "source": [
        "From the scatter diagram above, we can observe that there is a positive trend between advertising and sales. As the advertising budget increases, sales also tend to increase. This suggests that there is a linear relationship between these two variables."
      ],
      "metadata": {
        "id": "mclvXjGcFCLb"
      }
    },
    {
      "cell_type": "markdown",
      "source": [
        "Now, let's proceed to calculate the least squares line. The least squares method aims to find the line that minimizes the sum of the squares of the vertical distances (residuals) of the points from the line.\n",
        "The equation of the line is of the form\n",
        "\n",
        "\\begin{equation}\n",
        "{Sales} =b_0 + b_1 \\times \\text{Advertising}\\\n",
        "\\end{equation}\n",
        "\n",
        "where:\n",
        "-  $b_0$ is the y-intercept,\n",
        "- $b_1$ is the slope of the line.\n",
        "\n",
        "\n",
        "We will calculate $b_0$​ and $b_1$ ​ and plot the least squares line on the scatter diagram."
      ],
      "metadata": {
        "id": "AGlwVx-pFLEe"
      }
    },
    {
      "cell_type": "code",
      "source": [
        "import numpy as np\n",
        "\n",
        "# Extract the variables from the dataframe\n",
        "X = data['Advertising'].values\n",
        "y = data['Sales'].values\n",
        "\n",
        "# Calculate the mean of X and y\n",
        "mean_X = np.mean(X)\n",
        "mean_y = np.mean(y)\n",
        "\n",
        "# Calculate the coefficients b1 and b0\n",
        "# Using the formulas:\n",
        "# b1 = sum((X_i - mean_X) * (y_i - mean_y)) / sum((X_i - mean_X)^2)\n",
        "# b0 = mean_y - b1 * mean_X\n",
        "numerator = np.sum((X - mean_X) * (y - mean_y))\n",
        "denominator = np.sum((X - mean_X)**2)\n",
        "b1 = numerator / denominator\n",
        "b0 = mean_y - b1 * mean_X\n",
        "\n",
        "# Print the coefficients\n",
        "b0, b1\n"
      ],
      "metadata": {
        "colab": {
          "base_uri": "https://localhost:8080/"
        },
        "id": "VPNIlaIIFETs",
        "outputId": "36a0eb4d-046d-420d-e07a-f7e60a0d8623"
      },
      "execution_count": 8,
      "outputs": [
        {
          "output_type": "execute_result",
          "data": {
            "text/plain": [
              "(9.100373877105586, 0.05823085395551872)"
            ]
          },
          "metadata": {},
          "execution_count": 8
        }
      ]
    },
    {
      "cell_type": "markdown",
      "source": [
        "The least squares line has the equation:\n",
        "\n",
        "\\begin{equation}\n",
        "{Sales} =9.1+0.058 \\times \\text{Advertising}\\\n",
        "\\end{equation}\n",
        "\n",
        "\n",
        "Interpretation of Coefficients\n",
        "\n",
        "  Intercept $b0=9.1$: This indicates that when no money is spent on advertising (i.e., advertising budget is zero), the sales are expected to be €9.1 million. However, it's essential to be cautious with this interpretation since the data does not include any observation where the advertising budget is zero.\n",
        "\n",
        "  Slope $b1=0.058b1$: This coefficient tells us that for every additional thousand euros spent on advertising, the sales are expected to increase by €0.058 million or €58,000. It quantifies the rate of change in sales for each thousand-euro increase in the advertising budget."
      ],
      "metadata": {
        "id": "TbTeqQhlFYzx"
      }
    },
    {
      "cell_type": "code",
      "source": [
        "# Create a scatter plot and plot the least squares line\n",
        "plt.figure(figsize=(10, 6))\n",
        "plt.scatter(X, y, color='blue', label='Data points')\n",
        "plt.plot(X, b0 + b1 * X, color='red', label='Least Squares Line')\n",
        "\n",
        "# Labeling the plot\n",
        "plt.title('Advertising vs Sales with Least Squares Line')\n",
        "plt.xlabel('Advertising (Thousands of Euros)')\n",
        "plt.ylabel('Sales (Millions of Euros)')\n",
        "plt.grid(True)\n",
        "plt.legend()\n",
        "plt.show()\n"
      ],
      "metadata": {
        "colab": {
          "base_uri": "https://localhost:8080/",
          "height": 564
        },
        "id": "KRtQS3czFcUK",
        "outputId": "e18053fd-726b-46a9-a5ba-b6bdde521297"
      },
      "execution_count": 10,
      "outputs": [
        {
          "output_type": "display_data",
          "data": {
            "text/plain": [
              "<Figure size 1000x600 with 1 Axes>"
            ],
            "image/png": "[encoded data removed]"
          },
          "metadata": {}
        }
      ]
    },
    {
      "cell_type": "markdown",
      "source": [
        "    Scatter Diagram: We observed a positive linear trend between advertising and sales, indicating a direct linear relationship.\n",
        "    Least Squares Line: The equation of the line is Sales=9.1+0.058×AdvertisingSales=9.1+0.058×Advertising.\n",
        "    Interpretation:\n",
        "        When no money is spent on advertising, the expected sales are €9.1 million (interpret with caution as we don't have data for zero advertising).\n",
        "        For each additional thousand euros spent on advertising, the sales are expected to increase by €58,000."
      ],
      "metadata": {
        "id": "-MfKGf1cFiPb"
      }
    },
    {
      "cell_type": "markdown",
      "source": [
        "\n",
        "\n",
        "## Exercice A16.07\n"
      ],
      "metadata": {
        "id": "JH9AHmv_b_3I"
      }
    },
    {
      "cell_type": "markdown",
      "source": [
        "Apartment ownerships are popular winter retreats for many Europeans. In recent years, the prices have steadily increased. An estate agent wanted to know why prices of similar sized apartments in the same uilding vary. A possible answer lies in the floor. It may be that the higher the floor, the greater the sales price of the apartment. He recorded the price (in 1000s euros) of 1,200 sq. ft. aparmtents ownerships in several buildings in the same location that have sold recently and the floor number of the apartment.\n",
        "\n",
        "a. Determine the regression line\n",
        "\n",
        "b. What do the coefficients tell you about the relationship between the two variable?"
      ],
      "metadata": {
        "id": "_JzJyfARgTfn"
      }
    },
    {
      "cell_type": "code",
      "source": [
        "import pandas as pd\n",
        "import matplotlib.pyplot as plt\n",
        "\n",
        "# Load the dataset\n",
        "df = pd.read_excel('https://github.com/saoter/AQM2023/raw/main/Workshop%206/data/Xr16-07.xlsx')\n",
        "\n",
        "# Display the first few rows of the dataframe\n",
        "df.head()"
      ],
      "metadata": {
        "colab": {
          "base_uri": "https://localhost:8080/",
          "height": 206
        },
        "id": "GltXryDLI5lo",
        "outputId": "f453be7b-830d-4078-cc4e-143c1fc199f2"
      },
      "execution_count": 13,
      "outputs": [
        {
          "output_type": "execute_result",
          "data": {
            "text/plain": [
              "   Floor  Price\n",
              "0     22    212\n",
              "1     20    225\n",
              "2     16    261\n",
              "3      4    184\n",
              "4     18    232"
            ],
            "text/html": [
              "\n",
              "  <div id=\"df-2239b404-5aee-4e69-9566-6c529b8ed989\" class=\"colab-df-container\">\n",
              "    <div>\n",
              "<style scoped>\n",
              "    .dataframe tbody tr th:only-of-type {\n",
              "        vertical-align: middle;\n",
              "    }\n",
              "\n",
              "    .dataframe tbody tr th {\n",
              "        vertical-align: top;\n",
              "    }\n",
              "\n",
              "    .dataframe thead th {\n",
              "        text-align: right;\n",
              "    }\n",
              "</style>\n",
              "<table border=\"1\" class=\"dataframe\">\n",
              "  <thead>\n",
              "    <tr style=\"text-align: right;\">\n",
              "      <th></th>\n",
              "      <th>Floor</th>\n",
              "      <th>Price</th>\n",
              "    </tr>\n",
              "  </thead>\n",
              "  <tbody>\n",
              "    <tr>\n",
              "      <th>0</th>\n",
              "      <td>22</td>\n",
              "      <td>212</td>\n",
              "    </tr>\n",
              "    <tr>\n",
              "      <th>1</th>\n",
              "      <td>20</td>\n",
              "      <td>225</td>\n",
              "    </tr>\n",
              "    <tr>\n",
              "      <th>2</th>\n",
              "      <td>16</td>\n",
              "      <td>261</td>\n",
              "    </tr>\n",
              "    <tr>\n",
              "      <th>3</th>\n",
              "      <td>4</td>\n",
              "      <td>184</td>\n",
              "    </tr>\n",
              "    <tr>\n",
              "      <th>4</th>\n",
              "      <td>18</td>\n",
              "      <td>232</td>\n",
              "    </tr>\n",
              "  </tbody>\n",
              "</table>\n",
              "</div>\n",
              "    <div class=\"colab-df-buttons\">\n",
              "\n",
              "  <div class=\"colab-df-container\">\n",
              "    <button class=\"colab-df-convert\" onclick=\"convertToInteractive('df-2239b404-5aee-4e69-9566-6c529b8ed989')\"\n",
              "            title=\"Convert this dataframe to an interactive table.\"\n",
              "            style=\"display:none;\">\n",
              "\n",
              "  <svg xmlns=\"http://www.w3.org/2000/svg\" height=\"24px\" viewBox=\"0 -960 960 960\">\n",
              "    <path d=\"M120-120v-720h720v720H120Zm60-500h600v-160H180v160Zm220 220h160v-160H400v160Zm0 220h160v-160H400v160ZM180-400h160v-160H180v160Zm440 0h160v-160H620v160ZM180-180h160v-160H180v160Zm440 0h160v-160H620v160Z\"/>\n",
              "  </svg>\n",
              "    </button>\n",
              "\n",
              "  <style>\n",
              "    .colab-df-container {\n",
              "      display:flex;\n",
              "      gap: 12px;\n",
              "    }\n",
              "\n",
              "    .colab-df-convert {\n",
              "      background-color: #E8F0FE;\n",
              "      border: none;\n",
              "      border-radius: 50%;\n",
              "      cursor: pointer;\n",
              "      display: none;\n",
              "      fill: #1967D2;\n",
              "      height: 32px;\n",
              "      padding: 0 0 0 0;\n",
              "      width: 32px;\n",
              "    }\n",
              "\n",
              "    .colab-df-convert:hover {\n",
              "      background-color: #E2EBFA;\n",
              "      box-shadow: 0px 1px 2px rgba(60, 64, 67, 0.3), 0px 1px 3px 1px rgba(60, 64, 67, 0.15);\n",
              "      fill: #174EA6;\n",
              "    }\n",
              "\n",
              "    .colab-df-buttons div {\n",
              "      margin-bottom: 4px;\n",
              "    }\n",
              "\n",
              "    [theme=dark] .colab-df-convert {\n",
              "      background-color: #3B4455;\n",
              "      fill: #D2E3FC;\n",
              "    }\n",
              "\n",
              "    [theme=dark] .colab-df-convert:hover {\n",
              "      background-color: #434B5C;\n",
              "      box-shadow: 0px 1px 3px 1px rgba(0, 0, 0, 0.15);\n",
              "      filter: drop-shadow(0px 1px 2px rgba(0, 0, 0, 0.3));\n",
              "      fill: #FFFFFF;\n",
              "    }\n",
              "  </style>\n",
              "\n",
              "    <script>\n",
              "      const buttonEl =\n",
              "        document.querySelector('#df-2239b404-5aee-4e69-9566-6c529b8ed989 button.colab-df-convert');\n",
              "      buttonEl.style.display =\n",
              "        google.colab.kernel.accessAllowed ? 'block' : 'none';\n",
              "\n",
              "      async function convertToInteractive(key) {\n",
              "        const element = document.querySelector('#df-2239b404-5aee-4e69-9566-6c529b8ed989');\n",
              "        const dataTable =\n",
              "          await google.colab.kernel.invokeFunction('convertToInteractive',\n",
              "                                                    [key], {});\n",
              "        if (!dataTable) return;\n",
              "\n",
              "        const docLinkHtml = 'Like what you see? Visit the ' +\n",
              "          '<a target=\"_blank\" href=https://colab.research.google.com/notebooks/data_table.ipynb>data table notebook</a>'\n",
              "          + ' to learn more about interactive tables.';\n",
              "        element.innerHTML = '';\n",
              "        dataTable['output_type'] = 'display_data';\n",
              "        await google.colab.output.renderOutput(dataTable, element);\n",
              "        const docLink = document.createElement('div');\n",
              "        docLink.innerHTML = docLinkHtml;\n",
              "        element.appendChild(docLink);\n",
              "      }\n",
              "    </script>\n",
              "  </div>\n",
              "\n",
              "\n",
              "<div id=\"df-47083592-8518-4074-82e9-3a0e462620ed\">\n",
              "  <button class=\"colab-df-quickchart\" onclick=\"quickchart('df-47083592-8518-4074-82e9-3a0e462620ed')\"\n",
              "            title=\"Suggest charts.\"\n",
              "            style=\"display:none;\">\n",
              "\n",
              "<svg xmlns=\"http://www.w3.org/2000/svg\" height=\"24px\"viewBox=\"0 0 24 24\"\n",
              "     width=\"24px\">\n",
              "    <g>\n",
              "        <path d=\"M19 3H5c-1.1 0-2 .9-2 2v14c0 1.1.9 2 2 2h14c1.1 0 2-.9 2-2V5c0-1.1-.9-2-2-2zM9 17H7v-7h2v7zm4 0h-2V7h2v10zm4 0h-2v-4h2v4z\"/>\n",
              "    </g>\n",
              "</svg>\n",
              "  </button>\n",
              "\n",
              "<style>\n",
              "  .colab-df-quickchart {\n",
              "      --bg-color: #E8F0FE;\n",
              "      --fill-color: #1967D2;\n",
              "      --hover-bg-color: #E2EBFA;\n",
              "      --hover-fill-color: #174EA6;\n",
              "      --disabled-fill-color: #AAA;\n",
              "      --disabled-bg-color: #DDD;\n",
              "  }\n",
              "\n",
              "  [theme=dark] .colab-df-quickchart {\n",
              "      --bg-color: #3B4455;\n",
              "      --fill-color: #D2E3FC;\n",
              "      --hover-bg-color: #434B5C;\n",
              "      --hover-fill-color: #FFFFFF;\n",
              "      --disabled-bg-color: #3B4455;\n",
              "      --disabled-fill-color: #666;\n",
              "  }\n",
              "\n",
              "  .colab-df-quickchart {\n",
              "    background-color: var(--bg-color);\n",
              "    border: none;\n",
              "    border-radius: 50%;\n",
              "    cursor: pointer;\n",
              "    display: none;\n",
              "    fill: var(--fill-color);\n",
              "    height: 32px;\n",
              "    padding: 0;\n",
              "    width: 32px;\n",
              "  }\n",
              "\n",
              "  .colab-df-quickchart:hover {\n",
              "    background-color: var(--hover-bg-color);\n",
              "    box-shadow: 0 1px 2px rgba(60, 64, 67, 0.3), 0 1px 3px 1px rgba(60, 64, 67, 0.15);\n",
              "    fill: var(--button-hover-fill-color);\n",
              "  }\n",
              "\n",
              "  .colab-df-quickchart-complete:disabled,\n",
              "  .colab-df-quickchart-complete:disabled:hover {\n",
              "    background-color: var(--disabled-bg-color);\n",
              "    fill: var(--disabled-fill-color);\n",
              "    box-shadow: none;\n",
              "  }\n",
              "\n",
              "  .colab-df-spinner {\n",
              "    border: 2px solid var(--fill-color);\n",
              "    border-color: transparent;\n",
              "    border-bottom-color: var(--fill-color);\n",
              "    animation:\n",
              "      spin 1s steps(1) infinite;\n",
              "  }\n",
              "\n",
              "  @keyframes spin {\n",
              "    0% {\n",
              "      border-color: transparent;\n",
              "      border-bottom-color: var(--fill-color);\n",
              "      border-left-color: var(--fill-color);\n",
              "    }\n",
              "    20% {\n",
              "      border-color: transparent;\n",
              "      border-left-color: var(--fill-color);\n",
              "      border-top-color: var(--fill-color);\n",
              "    }\n",
              "    30% {\n",
              "      border-color: transparent;\n",
              "      border-left-color: var(--fill-color);\n",
              "      border-top-color: var(--fill-color);\n",
              "      border-right-color: var(--fill-color);\n",
              "    }\n",
              "    40% {\n",
              "      border-color: transparent;\n",
              "      border-right-color: var(--fill-color);\n",
              "      border-top-color: var(--fill-color);\n",
              "    }\n",
              "    60% {\n",
              "      border-color: transparent;\n",
              "      border-right-color: var(--fill-color);\n",
              "    }\n",
              "    80% {\n",
              "      border-color: transparent;\n",
              "      border-right-color: var(--fill-color);\n",
              "      border-bottom-color: var(--fill-color);\n",
              "    }\n",
              "    90% {\n",
              "      border-color: transparent;\n",
              "      border-bottom-color: var(--fill-color);\n",
              "    }\n",
              "  }\n",
              "</style>\n",
              "\n",
              "  <script>\n",
              "    async function quickchart(key) {\n",
              "      const quickchartButtonEl =\n",
              "        document.querySelector('#' + key + ' button');\n",
              "      quickchartButtonEl.disabled = true;  // To prevent multiple clicks.\n",
              "      quickchartButtonEl.classList.add('colab-df-spinner');\n",
              "      try {\n",
              "        const charts = await google.colab.kernel.invokeFunction(\n",
              "            'suggestCharts', [key], {});\n",
              "      } catch (error) {\n",
              "        console.error('Error during call to suggestCharts:', error);\n",
              "      }\n",
              "      quickchartButtonEl.classList.remove('colab-df-spinner');\n",
              "      quickchartButtonEl.classList.add('colab-df-quickchart-complete');\n",
              "    }\n",
              "    (() => {\n",
              "      let quickchartButtonEl =\n",
              "        document.querySelector('#df-47083592-8518-4074-82e9-3a0e462620ed button');\n",
              "      quickchartButtonEl.style.display =\n",
              "        google.colab.kernel.accessAllowed ? 'block' : 'none';\n",
              "    })();\n",
              "  </script>\n",
              "</div>\n",
              "    </div>\n",
              "  </div>\n"
            ]
          },
          "metadata": {},
          "execution_count": 13
        }
      ]
    },
    {
      "cell_type": "markdown",
      "source": [
        "The dataset contains two columns: \"Floor\" (indicating the floor number of the apartment) and \"Price\" (representing the price of the apartment in thousands of euros)."
      ],
      "metadata": {
        "id": "L24g2_jfJGxi"
      }
    },
    {
      "cell_type": "markdown",
      "source": [
        "We will calculate the coefficients of the regression line using the least squares method. The equation of the regression line will be in the form\n",
        "\\begin{equation}\n",
        "{Price} =b0+b1 \\times \\text{Floor}\\\n",
        "\\end{equation}\n",
        "\n",
        "\n",
        "Let’s proceed with calculating the coefficients $b0$​ and $b1$​."
      ],
      "metadata": {
        "id": "PfJ_z_HXJPAO"
      }
    },
    {
      "cell_type": "code",
      "source": [
        "# Extract the variables from the new dataframe\n",
        "X_new = df['Floor'].values\n",
        "y_new = df['Price'].values\n",
        "\n",
        "# Calculate the mean of X_new and y_new\n",
        "mean_X_new = np.mean(X_new)\n",
        "mean_y_new = np.mean(y_new)\n",
        "\n",
        "# Calculate the coefficients b1 and b0 for the new dataset\n",
        "numerator_new = np.sum((X_new - mean_X_new) * (y_new - mean_y_new))\n",
        "denominator_new = np.sum((X_new - mean_X_new)**2)\n",
        "b1_new = numerator_new / denominator_new\n",
        "b0_new = mean_y_new - b1_new * mean_X_new\n",
        "\n",
        "# Print the coefficients\n",
        "b0_new, b1_new\n"
      ],
      "metadata": {
        "colab": {
          "base_uri": "https://localhost:8080/"
        },
        "id": "V9vY0cEHJA9Q",
        "outputId": "ec2fc461-8407-4a68-f338-c318e89d8c7a"
      },
      "execution_count": 14,
      "outputs": [
        {
          "output_type": "execute_result",
          "data": {
            "text/plain": [
              "(190.3734313077939, 1.4653924482606782)"
            ]
          },
          "metadata": {},
          "execution_count": 14
        }
      ]
    },
    {
      "cell_type": "markdown",
      "source": [
        "The regression line for the relationship between the floor number and the price of the apartment is:\n",
        "\\begin{equation}\n",
        "{Price} =190.37+1.47 \\times \\text{Floor}\\\n",
        "\\end{equation}\n",
        "\n",
        "b. Interpretation of Coefficients\n",
        "\n",
        "  Intercept $b0=190.37$: This value suggests that the base price of an apartment on the ground floor (floor 0) is approximately €190,370. However, as always, interpret this with caution if there are no actual data points for apartments on the ground floor.\n",
        "\n",
        "  Slope $b1=1.47$: This value indicates that for each additional floor higher, the price of the apartment increases by approximately €1,470. In other words, apartments on higher floors tend to be more expensive, supporting the estate agent's hypothesis."
      ],
      "metadata": {
        "id": "SGwpOmNQJc1o"
      }
    },
    {
      "cell_type": "code",
      "source": [
        "# Create a scatter plot and plot the regression line for the new data\n",
        "plt.figure(figsize=(10, 6))\n",
        "plt.scatter(X_new, y_new, color='blue', label='Data points')\n",
        "plt.plot(X_new, b0_new + b1_new * X_new, color='red', label='Regression Line')\n",
        "\n",
        "# Labeling the plot\n",
        "plt.title('Floor vs Price with Regression Line')\n",
        "plt.xlabel('Floor Number')\n",
        "plt.ylabel('Price (Thousands of Euros)')\n",
        "plt.grid(True)\n",
        "plt.legend()\n",
        "plt.show()\n"
      ],
      "metadata": {
        "colab": {
          "base_uri": "https://localhost:8080/",
          "height": 564
        },
        "id": "DneaZak4Jfoz",
        "outputId": "9086e2ab-2f7e-44c3-cd71-888730343345"
      },
      "execution_count": 15,
      "outputs": [
        {
          "output_type": "display_data",
          "data": {
            "text/plain": [
              "<Figure size 1000x600 with 1 Axes>"
            ],
            "image/png": "[encoded data removed]"
          },
          "metadata": {}
        }
      ]
    },
    {
      "cell_type": "markdown",
      "source": [
        "Interpretation Recap:\n",
        "\n",
        "  Intercept $b0$: The base price of an apartment on the ground floor is approximately €190,370. This interpretation is theoretical as it assumes that the linear relationship holds all the way down to the ground floor.\n",
        "  \n",
        "  Slope $b1​$: For each additional floor up, the price of the apartment increases by approximately €1,470. This suggests that higher floors are associated with higher prices, possibly due to better views, less noise, or other factors.\n",
        "\n",
        "This analysis supports the estate agent's hypothesis that the floor level is a significant factor in the pricing of apartments. Each increment in floor level is associated with an increase in the apartment's price, holding other factors constant."
      ],
      "metadata": {
        "id": "dbUEo5G6Jl9J"
      }
    },
    {
      "cell_type": "markdown",
      "source": [
        "## Exercice A16.8\n"
      ],
      "metadata": {
        "id": "tDaxJjoGln14"
      }
    },
    {
      "cell_type": "markdown",
      "source": [
        "In 2010, the US conducted a census of the entire country. The census is completed by mail. To help ensure that the questions are understood, a random sample of Americans take the questionnaire before it is sent out. As part of their analysis, they record the amount of times and ages of the sample. Use the least squares method to analyst the relationship between the amount of time taken to complete the questionnaire and the afe of the individual answering the questions. What do the coefficients tell you about the relationship between the two variable?"
      ],
      "metadata": {
        "id": "AMKaWDi7lzML"
      }
    },
    {
      "cell_type": "code",
      "source": [
        "import pandas as pd\n",
        "import matplotlib.pyplot as plt\n",
        "\n",
        "# Load the dataset\n",
        "data_census = pd.read_excel('https://github.com/saoter/AQM2023/raw/main/Workshop%206/data/Xr16-08.xlsx')\n",
        "\n",
        "# Display the first few rows of the dataframe\n",
        "data_census.head()"
      ],
      "metadata": {
        "colab": {
          "base_uri": "https://localhost:8080/",
          "height": 206
        },
        "id": "3fQwYOBzQySR",
        "outputId": "9e559f43-df24-41f5-82e1-1fafb332d125"
      },
      "execution_count": 20,
      "outputs": [
        {
          "output_type": "execute_result",
          "data": {
            "text/plain": [
              "   Age  Time\n",
              "0   42     9\n",
              "1   42     6\n",
              "2   28     1\n",
              "3   46     8\n",
              "4   52    20"
            ],
            "text/html": [
              "\n",
              "  <div id=\"df-7f506ec1-00c7-4e84-8395-87f6411c5c20\" class=\"colab-df-container\">\n",
              "    <div>\n",
              "<style scoped>\n",
              "    .dataframe tbody tr th:only-of-type {\n",
              "        vertical-align: middle;\n",
              "    }\n",
              "\n",
              "    .dataframe tbody tr th {\n",
              "        vertical-align: top;\n",
              "    }\n",
              "\n",
              "    .dataframe thead th {\n",
              "        text-align: right;\n",
              "    }\n",
              "</style>\n",
              "<table border=\"1\" class=\"dataframe\">\n",
              "  <thead>\n",
              "    <tr style=\"text-align: right;\">\n",
              "      <th></th>\n",
              "      <th>Age</th>\n",
              "      <th>Time</th>\n",
              "    </tr>\n",
              "  </thead>\n",
              "  <tbody>\n",
              "    <tr>\n",
              "      <th>0</th>\n",
              "      <td>42</td>\n",
              "      <td>9</td>\n",
              "    </tr>\n",
              "    <tr>\n",
              "      <th>1</th>\n",
              "      <td>42</td>\n",
              "      <td>6</td>\n",
              "    </tr>\n",
              "    <tr>\n",
              "      <th>2</th>\n",
              "      <td>28</td>\n",
              "      <td>1</td>\n",
              "    </tr>\n",
              "    <tr>\n",
              "      <th>3</th>\n",
              "      <td>46</td>\n",
              "      <td>8</td>\n",
              "    </tr>\n",
              "    <tr>\n",
              "      <th>4</th>\n",
              "      <td>52</td>\n",
              "      <td>20</td>\n",
              "    </tr>\n",
              "  </tbody>\n",
              "</table>\n",
              "</div>\n",
              "    <div class=\"colab-df-buttons\">\n",
              "\n",
              "  <div class=\"colab-df-container\">\n",
              "    <button class=\"colab-df-convert\" onclick=\"convertToInteractive('df-7f506ec1-00c7-4e84-8395-87f6411c5c20')\"\n",
              "            title=\"Convert this dataframe to an interactive table.\"\n",
              "            style=\"display:none;\">\n",
              "\n",
              "  <svg xmlns=\"http://www.w3.org/2000/svg\" height=\"24px\" viewBox=\"0 -960 960 960\">\n",
              "    <path d=\"M120-120v-720h720v720H120Zm60-500h600v-160H180v160Zm220 220h160v-160H400v160Zm0 220h160v-160H400v160ZM180-400h160v-160H180v160Zm440 0h160v-160H620v160ZM180-180h160v-160H180v160Zm440 0h160v-160H620v160Z\"/>\n",
              "  </svg>\n",
              "    </button>\n",
              "\n",
              "  <style>\n",
              "    .colab-df-container {\n",
              "      display:flex;\n",
              "      gap: 12px;\n",
              "    }\n",
              "\n",
              "    .colab-df-convert {\n",
              "      background-color: #E8F0FE;\n",
              "      border: none;\n",
              "      border-radius: 50%;\n",
              "      cursor: pointer;\n",
              "      display: none;\n",
              "      fill: #1967D2;\n",
              "      height: 32px;\n",
              "      padding: 0 0 0 0;\n",
              "      width: 32px;\n",
              "    }\n",
              "\n",
              "    .colab-df-convert:hover {\n",
              "      background-color: #E2EBFA;\n",
              "      box-shadow: 0px 1px 2px rgba(60, 64, 67, 0.3), 0px 1px 3px 1px rgba(60, 64, 67, 0.15);\n",
              "      fill: #174EA6;\n",
              "    }\n",
              "\n",
              "    .colab-df-buttons div {\n",
              "      margin-bottom: 4px;\n",
              "    }\n",
              "\n",
              "    [theme=dark] .colab-df-convert {\n",
              "      background-color: #3B4455;\n",
              "      fill: #D2E3FC;\n",
              "    }\n",
              "\n",
              "    [theme=dark] .colab-df-convert:hover {\n",
              "      background-color: #434B5C;\n",
              "      box-shadow: 0px 1px 3px 1px rgba(0, 0, 0, 0.15);\n",
              "      filter: drop-shadow(0px 1px 2px rgba(0, 0, 0, 0.3));\n",
              "      fill: #FFFFFF;\n",
              "    }\n",
              "  </style>\n",
              "\n",
              "    <script>\n",
              "      const buttonEl =\n",
              "        document.querySelector('#df-7f506ec1-00c7-4e84-8395-87f6411c5c20 button.colab-df-convert');\n",
              "      buttonEl.style.display =\n",
              "        google.colab.kernel.accessAllowed ? 'block' : 'none';\n",
              "\n",
              "      async function convertToInteractive(key) {\n",
              "        const element = document.querySelector('#df-7f506ec1-00c7-4e84-8395-87f6411c5c20');\n",
              "        const dataTable =\n",
              "          await google.colab.kernel.invokeFunction('convertToInteractive',\n",
              "                                                    [key], {});\n",
              "        if (!dataTable) return;\n",
              "\n",
              "        const docLinkHtml = 'Like what you see? Visit the ' +\n",
              "          '<a target=\"_blank\" href=https://colab.research.google.com/notebooks/data_table.ipynb>data table notebook</a>'\n",
              "          + ' to learn more about interactive tables.';\n",
              "        element.innerHTML = '';\n",
              "        dataTable['output_type'] = 'display_data';\n",
              "        await google.colab.output.renderOutput(dataTable, element);\n",
              "        const docLink = document.createElement('div');\n",
              "        docLink.innerHTML = docLinkHtml;\n",
              "        element.appendChild(docLink);\n",
              "      }\n",
              "    </script>\n",
              "  </div>\n",
              "\n",
              "\n",
              "<div id=\"df-9ea5b27b-854f-42fd-9468-952342fea50f\">\n",
              "  <button class=\"colab-df-quickchart\" onclick=\"quickchart('df-9ea5b27b-854f-42fd-9468-952342fea50f')\"\n",
              "            title=\"Suggest charts.\"\n",
              "            style=\"display:none;\">\n",
              "\n",
              "<svg xmlns=\"http://www.w3.org/2000/svg\" height=\"24px\"viewBox=\"0 0 24 24\"\n",
              "     width=\"24px\">\n",
              "    <g>\n",
              "        <path d=\"M19 3H5c-1.1 0-2 .9-2 2v14c0 1.1.9 2 2 2h14c1.1 0 2-.9 2-2V5c0-1.1-.9-2-2-2zM9 17H7v-7h2v7zm4 0h-2V7h2v10zm4 0h-2v-4h2v4z\"/>\n",
              "    </g>\n",
              "</svg>\n",
              "  </button>\n",
              "\n",
              "<style>\n",
              "  .colab-df-quickchart {\n",
              "      --bg-color: #E8F0FE;\n",
              "      --fill-color: #1967D2;\n",
              "      --hover-bg-color: #E2EBFA;\n",
              "      --hover-fill-color: #174EA6;\n",
              "      --disabled-fill-color: #AAA;\n",
              "      --disabled-bg-color: #DDD;\n",
              "  }\n",
              "\n",
              "  [theme=dark] .colab-df-quickchart {\n",
              "      --bg-color: #3B4455;\n",
              "      --fill-color: #D2E3FC;\n",
              "      --hover-bg-color: #434B5C;\n",
              "      --hover-fill-color: #FFFFFF;\n",
              "      --disabled-bg-color: #3B4455;\n",
              "      --disabled-fill-color: #666;\n",
              "  }\n",
              "\n",
              "  .colab-df-quickchart {\n",
              "    background-color: var(--bg-color);\n",
              "    border: none;\n",
              "    border-radius: 50%;\n",
              "    cursor: pointer;\n",
              "    display: none;\n",
              "    fill: var(--fill-color);\n",
              "    height: 32px;\n",
              "    padding: 0;\n",
              "    width: 32px;\n",
              "  }\n",
              "\n",
              "  .colab-df-quickchart:hover {\n",
              "    background-color: var(--hover-bg-color);\n",
              "    box-shadow: 0 1px 2px rgba(60, 64, 67, 0.3), 0 1px 3px 1px rgba(60, 64, 67, 0.15);\n",
              "    fill: var(--button-hover-fill-color);\n",
              "  }\n",
              "\n",
              "  .colab-df-quickchart-complete:disabled,\n",
              "  .colab-df-quickchart-complete:disabled:hover {\n",
              "    background-color: var(--disabled-bg-color);\n",
              "    fill: var(--disabled-fill-color);\n",
              "    box-shadow: none;\n",
              "  }\n",
              "\n",
              "  .colab-df-spinner {\n",
              "    border: 2px solid var(--fill-color);\n",
              "    border-color: transparent;\n",
              "    border-bottom-color: var(--fill-color);\n",
              "    animation:\n",
              "      spin 1s steps(1) infinite;\n",
              "  }\n",
              "\n",
              "  @keyframes spin {\n",
              "    0% {\n",
              "      border-color: transparent;\n",
              "      border-bottom-color: var(--fill-color);\n",
              "      border-left-color: var(--fill-color);\n",
              "    }\n",
              "    20% {\n",
              "      border-color: transparent;\n",
              "      border-left-color: var(--fill-color);\n",
              "      border-top-color: var(--fill-color);\n",
              "    }\n",
              "    30% {\n",
              "      border-color: transparent;\n",
              "      border-left-color: var(--fill-color);\n",
              "      border-top-color: var(--fill-color);\n",
              "      border-right-color: var(--fill-color);\n",
              "    }\n",
              "    40% {\n",
              "      border-color: transparent;\n",
              "      border-right-color: var(--fill-color);\n",
              "      border-top-color: var(--fill-color);\n",
              "    }\n",
              "    60% {\n",
              "      border-color: transparent;\n",
              "      border-right-color: var(--fill-color);\n",
              "    }\n",
              "    80% {\n",
              "      border-color: transparent;\n",
              "      border-right-color: var(--fill-color);\n",
              "      border-bottom-color: var(--fill-color);\n",
              "    }\n",
              "    90% {\n",
              "      border-color: transparent;\n",
              "      border-bottom-color: var(--fill-color);\n",
              "    }\n",
              "  }\n",
              "</style>\n",
              "\n",
              "  <script>\n",
              "    async function quickchart(key) {\n",
              "      const quickchartButtonEl =\n",
              "        document.querySelector('#' + key + ' button');\n",
              "      quickchartButtonEl.disabled = true;  // To prevent multiple clicks.\n",
              "      quickchartButtonEl.classList.add('colab-df-spinner');\n",
              "      try {\n",
              "        const charts = await google.colab.kernel.invokeFunction(\n",
              "            'suggestCharts', [key], {});\n",
              "      } catch (error) {\n",
              "        console.error('Error during call to suggestCharts:', error);\n",
              "      }\n",
              "      quickchartButtonEl.classList.remove('colab-df-spinner');\n",
              "      quickchartButtonEl.classList.add('colab-df-quickchart-complete');\n",
              "    }\n",
              "    (() => {\n",
              "      let quickchartButtonEl =\n",
              "        document.querySelector('#df-9ea5b27b-854f-42fd-9468-952342fea50f button');\n",
              "      quickchartButtonEl.style.display =\n",
              "        google.colab.kernel.accessAllowed ? 'block' : 'none';\n",
              "    })();\n",
              "  </script>\n",
              "</div>\n",
              "    </div>\n",
              "  </div>\n"
            ]
          },
          "metadata": {},
          "execution_count": 20
        }
      ]
    },
    {
      "cell_type": "markdown",
      "source": [
        "The dataset contains two columns: \"Age\" (representing the age of the individuals) and \"Time\" (representing the time taken to complete the questionnaire).\n",
        "\n",
        "We will calculate the coefficients of the regression line using the least squares method. The equation of the regression line will be of the form\n",
        "\\begin{equation}\n",
        "{time} =b0+b1 \\times \\text{Age}\\\n",
        "\\end{equation}\n",
        "\n",
        "\n",
        "Let's proceed to calculate the coefficients $b0$​ and $b1$​."
      ],
      "metadata": {
        "id": "aVjNsl-GRZBs"
      }
    },
    {
      "cell_type": "code",
      "source": [
        "# Extract the variables from the census dataframe\n",
        "X_census = data_census['Age'].values\n",
        "y_census = data_census['Time'].values\n",
        "\n",
        "# Calculate the mean of X_census and y_census\n",
        "mean_X_census = np.mean(X_census)\n",
        "mean_y_census = np.mean(y_census)\n",
        "\n",
        "# Calculate the coefficients b1 and b0 for the census dataset\n",
        "numerator_census = np.sum((X_census - mean_X_census) * (y_census - mean_y_census))\n",
        "denominator_census = np.sum((X_census - mean_X_census)**2)\n",
        "b1_census = numerator_census / denominator_census\n",
        "b0_census = mean_y_census - b1_census * mean_X_census\n",
        "\n",
        "# Print the coefficients\n",
        "b0_census, b1_census\n"
      ],
      "metadata": {
        "colab": {
          "base_uri": "https://localhost:8080/"
        },
        "id": "NGxZzGfpQ2FB",
        "outputId": "8138b4a0-f4cd-4ab0-d2f3-5bc70aaeeacc"
      },
      "execution_count": 21,
      "outputs": [
        {
          "output_type": "execute_result",
          "data": {
            "text/plain": [
              "(7.4617702366353305, 0.0899649276070752)"
            ]
          },
          "metadata": {},
          "execution_count": 21
        }
      ]
    },
    {
      "cell_type": "markdown",
      "source": [
        "The regression line for the relationship between age and the time taken to complete the questionnaire is:\n",
        "\n",
        "\\begin{equation}\n",
        "{time} =7.46+0.09\\times \\text{Age}\\\n",
        "\\end{equation}\n"
      ],
      "metadata": {
        "id": "lx-qTSe-RyAg"
      }
    },
    {
      "cell_type": "code",
      "source": [
        "# Importing matplotlib for plotting\n",
        "import matplotlib.pyplot as plt\n",
        "\n",
        "# Create a scatter plot and plot the regression line for the census data\n",
        "plt.figure(figsize=(10, 6))\n",
        "plt.scatter(X_census, y_census, color='blue', label='Data points')\n",
        "plt.plot(X_census, b0_census + b1_census * X_census, color='red', label='Regression Line')\n",
        "\n",
        "# Labeling the plot\n",
        "plt.title('Age vs Time Taken with Regression Line')\n",
        "plt.xlabel('Age')\n",
        "plt.ylabel('Time Taken to Complete Questionnaire')\n",
        "plt.grid(True)\n",
        "plt.legend()\n",
        "plt.show()\n"
      ],
      "metadata": {
        "colab": {
          "base_uri": "https://localhost:8080/",
          "height": 564
        },
        "id": "SDB1vd8YRrVB",
        "outputId": "6af28449-add2-46a9-9fec-3634a03dadc2"
      },
      "execution_count": 22,
      "outputs": [
        {
          "output_type": "display_data",
          "data": {
            "text/plain": [
              "<Figure size 1000x600 with 1 Axes>"
            ],
            "image/png": "[encoded data removed]"
          },
          "metadata": {}
        }
      ]
    },
    {
      "cell_type": "markdown",
      "source": [
        "Interpretation Recap:\n",
        "\n",
        "  Intercept $b0$: Indicates that a hypothetical individual of age 0 would take approximately 7.46 units of time to complete the questionnaire, though this isn’t a practical interpretation.\n",
        "    \n",
        "  Slope $b1$: For each additional year in age, the time to complete the questionnaire increases by approximately 0.09 units. This suggests a positive, albeit weak, relationship between age and the time taken to complete the questionnaire.\n",
        "\n",
        "This analysis provides insights into the relationship between the age of respondents and the time they take to complete the questionnaire. The positive slope indicates that older individuals might take slightly longer to complete the questionnaire, although the effect is relatively small."
      ],
      "metadata": {
        "id": "7668ZMsxSGiO"
      }
    }
  ]
}