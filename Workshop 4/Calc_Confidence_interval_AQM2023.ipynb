{
  "cells": [
    {
      "cell_type": "markdown",
      "metadata": {
        "colab_type": "text",
        "id": "view-in-github"
      },
      "source": [
        "<a href=\"https://colab.research.google.com/github/saoter/AQM2023/blob/main/Workshop%204/Calc_Confidence_interval_AQM2023.ipynb\" target=\"_parent\"><img src=\"https://colab.research.google.com/assets/colab-badge.svg\" alt=\"Open In Colab\"/></a>"
      ]
    },
    {
      "cell_type": "markdown",
      "metadata": {
        "id": "X1GRsmAOB8xM"
      },
      "source": [
        "#**Installs/imports**"
      ]
    },
    {
      "cell_type": "code",
      "execution_count": null,
      "metadata": {
        "id": "-wCu5aFiB9QP"
      },
      "outputs": [],
      "source": [
        "!pip install scipy -q"
      ]
    },
    {
      "cell_type": "code",
      "execution_count": null,
      "metadata": {
        "id": "BPUN9gglCT8l"
      },
      "outputs": [],
      "source": [
        "import numpy as np\n",
        "from scipy import stats\n",
        "import pandas as pd\n",
        "import seaborn as sns\n",
        "import matplotlib.pyplot as plt"
      ]
    },
    {
      "cell_type": "markdown",
      "metadata": {
        "id": "Md2p1fFfCVAW"
      },
      "source": [
        "##**Load in the data**"
      ]
    },
    {
      "cell_type": "markdown",
      "metadata": {
        "id": "IG_7IA7i_vRk"
      },
      "source": [
        "**Application 12.20 from the book page 335:** <br>\n",
        "A courier service advertises that the average delivery time is less than 6 minutes. A random sample of times for 12 deliveries to a adress across town was recorded. Is this sufficient evidence to support the couriers advertisement, at the %5 level of confidence? <br>\n",
        "The data is available here: <br>\n",
        "https://github.com/saoter/AQM2023/raw/main/Workshop%203/data/Xr12-20.xlsx"
      ]
    },
    {
      "cell_type": "code",
      "execution_count": null,
      "metadata": {
        "id": "vuhsLg74JOwt"
      },
      "outputs": [],
      "source": [
        "file_path = 'https://github.com/saoter/AQM2023/raw/main/Workshop%203/data/Xr12-20.xlsx'\n",
        "times = pd.read_excel(file_path)"
      ]
    },
    {
      "cell_type": "code",
      "execution_count": null,
      "metadata": {
        "colab": {
          "base_uri": "https://localhost:8080/",
          "height": 426
        },
        "id": "afnnuQFZBO58",
        "outputId": "09434c5d-384a-48b4-fde7-0011bde2bb6f"
      },
      "outputs": [
        {
          "data": {
            "text/html": [
              "\n",
              "  <div id=\"df-fc98bc19-3504-4bf7-9964-36ce35c38a26\" class=\"colab-df-container\">\n",
              "    <div>\n",
              "<style scoped>\n",
              "    .dataframe tbody tr th:only-of-type {\n",
              "        vertical-align: middle;\n",
              "    }\n",
              "\n",
              "    .dataframe tbody tr th {\n",
              "        vertical-align: top;\n",
              "    }\n",
              "\n",
              "    .dataframe thead th {\n",
              "        text-align: right;\n",
              "    }\n",
              "</style>\n",
              "<table border=\"1\" class=\"dataframe\">\n",
              "  <thead>\n",
              "    <tr style=\"text-align: right;\">\n",
              "      <th></th>\n",
              "      <th>Times</th>\n",
              "    </tr>\n",
              "  </thead>\n",
              "  <tbody>\n",
              "    <tr>\n",
              "      <th>0</th>\n",
              "      <td>3.03</td>\n",
              "    </tr>\n",
              "    <tr>\n",
              "      <th>1</th>\n",
              "      <td>6.33</td>\n",
              "    </tr>\n",
              "    <tr>\n",
              "      <th>2</th>\n",
              "      <td>6.50</td>\n",
              "    </tr>\n",
              "    <tr>\n",
              "      <th>3</th>\n",
              "      <td>5.22</td>\n",
              "    </tr>\n",
              "    <tr>\n",
              "      <th>4</th>\n",
              "      <td>3.56</td>\n",
              "    </tr>\n",
              "    <tr>\n",
              "      <th>5</th>\n",
              "      <td>6.76</td>\n",
              "    </tr>\n",
              "    <tr>\n",
              "      <th>6</th>\n",
              "      <td>7.98</td>\n",
              "    </tr>\n",
              "    <tr>\n",
              "      <th>7</th>\n",
              "      <td>4.82</td>\n",
              "    </tr>\n",
              "    <tr>\n",
              "      <th>8</th>\n",
              "      <td>7.96</td>\n",
              "    </tr>\n",
              "    <tr>\n",
              "      <th>9</th>\n",
              "      <td>4.54</td>\n",
              "    </tr>\n",
              "    <tr>\n",
              "      <th>10</th>\n",
              "      <td>5.09</td>\n",
              "    </tr>\n",
              "    <tr>\n",
              "      <th>11</th>\n",
              "      <td>6.46</td>\n",
              "    </tr>\n",
              "  </tbody>\n",
              "</table>\n",
              "</div>\n",
              "    <div class=\"colab-df-buttons\">\n",
              "\n",
              "  <div class=\"colab-df-container\">\n",
              "    <button class=\"colab-df-convert\" onclick=\"convertToInteractive('df-fc98bc19-3504-4bf7-9964-36ce35c38a26')\"\n",
              "            title=\"Convert this dataframe to an interactive table.\"\n",
              "            style=\"display:none;\">\n",
              "\n",
              "  <svg xmlns=\"http://www.w3.org/2000/svg\" height=\"24px\" viewBox=\"0 -960 960 960\">\n",
              "    <path d=\"M120-120v-720h720v720H120Zm60-500h600v-160H180v160Zm220 220h160v-160H400v160Zm0 220h160v-160H400v160ZM180-400h160v-160H180v160Zm440 0h160v-160H620v160ZM180-180h160v-160H180v160Zm440 0h160v-160H620v160Z\"/>\n",
              "  </svg>\n",
              "    </button>\n",
              "\n",
              "  <style>\n",
              "    .colab-df-container {\n",
              "      display:flex;\n",
              "      gap: 12px;\n",
              "    }\n",
              "\n",
              "    .colab-df-convert {\n",
              "      background-color: #E8F0FE;\n",
              "      border: none;\n",
              "      border-radius: 50%;\n",
              "      cursor: pointer;\n",
              "      display: none;\n",
              "      fill: #1967D2;\n",
              "      height: 32px;\n",
              "      padding: 0 0 0 0;\n",
              "      width: 32px;\n",
              "    }\n",
              "\n",
              "    .colab-df-convert:hover {\n",
              "      background-color: #E2EBFA;\n",
              "      box-shadow: 0px 1px 2px rgba(60, 64, 67, 0.3), 0px 1px 3px 1px rgba(60, 64, 67, 0.15);\n",
              "      fill: #174EA6;\n",
              "    }\n",
              "\n",
              "    .colab-df-buttons div {\n",
              "      margin-bottom: 4px;\n",
              "    }\n",
              "\n",
              "    [theme=dark] .colab-df-convert {\n",
              "      background-color: #3B4455;\n",
              "      fill: #D2E3FC;\n",
              "    }\n",
              "\n",
              "    [theme=dark] .colab-df-convert:hover {\n",
              "      background-color: #434B5C;\n",
              "      box-shadow: 0px 1px 3px 1px rgba(0, 0, 0, 0.15);\n",
              "      filter: drop-shadow(0px 1px 2px rgba(0, 0, 0, 0.3));\n",
              "      fill: #FFFFFF;\n",
              "    }\n",
              "  </style>\n",
              "\n",
              "    <script>\n",
              "      const buttonEl =\n",
              "        document.querySelector('#df-fc98bc19-3504-4bf7-9964-36ce35c38a26 button.colab-df-convert');\n",
              "      buttonEl.style.display =\n",
              "        google.colab.kernel.accessAllowed ? 'block' : 'none';\n",
              "\n",
              "      async function convertToInteractive(key) {\n",
              "        const element = document.querySelector('#df-fc98bc19-3504-4bf7-9964-36ce35c38a26');\n",
              "        const dataTable =\n",
              "          await google.colab.kernel.invokeFunction('convertToInteractive',\n",
              "                                                    [key], {});\n",
              "        if (!dataTable) return;\n",
              "\n",
              "        const docLinkHtml = 'Like what you see? Visit the ' +\n",
              "          '<a target=\"_blank\" href=https://colab.research.google.com/notebooks/data_table.ipynb>data table notebook</a>'\n",
              "          + ' to learn more about interactive tables.';\n",
              "        element.innerHTML = '';\n",
              "        dataTable['output_type'] = 'display_data';\n",
              "        await google.colab.output.renderOutput(dataTable, element);\n",
              "        const docLink = document.createElement('div');\n",
              "        docLink.innerHTML = docLinkHtml;\n",
              "        element.appendChild(docLink);\n",
              "      }\n",
              "    </script>\n",
              "  </div>\n",
              "\n",
              "\n",
              "<div id=\"df-406d2ae4-aa46-4637-9436-50eda18c851c\">\n",
              "  <button class=\"colab-df-quickchart\" onclick=\"quickchart('df-406d2ae4-aa46-4637-9436-50eda18c851c')\"\n",
              "            title=\"Suggest charts.\"\n",
              "            style=\"display:none;\">\n",
              "\n",
              "<svg xmlns=\"http://www.w3.org/2000/svg\" height=\"24px\"viewBox=\"0 0 24 24\"\n",
              "     width=\"24px\">\n",
              "    <g>\n",
              "        <path d=\"M19 3H5c-1.1 0-2 .9-2 2v14c0 1.1.9 2 2 2h14c1.1 0 2-.9 2-2V5c0-1.1-.9-2-2-2zM9 17H7v-7h2v7zm4 0h-2V7h2v10zm4 0h-2v-4h2v4z\"/>\n",
              "    </g>\n",
              "</svg>\n",
              "  </button>\n",
              "\n",
              "<style>\n",
              "  .colab-df-quickchart {\n",
              "      --bg-color: #E8F0FE;\n",
              "      --fill-color: #1967D2;\n",
              "      --hover-bg-color: #E2EBFA;\n",
              "      --hover-fill-color: #174EA6;\n",
              "      --disabled-fill-color: #AAA;\n",
              "      --disabled-bg-color: #DDD;\n",
              "  }\n",
              "\n",
              "  [theme=dark] .colab-df-quickchart {\n",
              "      --bg-color: #3B4455;\n",
              "      --fill-color: #D2E3FC;\n",
              "      --hover-bg-color: #434B5C;\n",
              "      --hover-fill-color: #FFFFFF;\n",
              "      --disabled-bg-color: #3B4455;\n",
              "      --disabled-fill-color: #666;\n",
              "  }\n",
              "\n",
              "  .colab-df-quickchart {\n",
              "    background-color: var(--bg-color);\n",
              "    border: none;\n",
              "    border-radius: 50%;\n",
              "    cursor: pointer;\n",
              "    display: none;\n",
              "    fill: var(--fill-color);\n",
              "    height: 32px;\n",
              "    padding: 0;\n",
              "    width: 32px;\n",
              "  }\n",
              "\n",
              "  .colab-df-quickchart:hover {\n",
              "    background-color: var(--hover-bg-color);\n",
              "    box-shadow: 0 1px 2px rgba(60, 64, 67, 0.3), 0 1px 3px 1px rgba(60, 64, 67, 0.15);\n",
              "    fill: var(--button-hover-fill-color);\n",
              "  }\n",
              "\n",
              "  .colab-df-quickchart-complete:disabled,\n",
              "  .colab-df-quickchart-complete:disabled:hover {\n",
              "    background-color: var(--disabled-bg-color);\n",
              "    fill: var(--disabled-fill-color);\n",
              "    box-shadow: none;\n",
              "  }\n",
              "\n",
              "  .colab-df-spinner {\n",
              "    border: 2px solid var(--fill-color);\n",
              "    border-color: transparent;\n",
              "    border-bottom-color: var(--fill-color);\n",
              "    animation:\n",
              "      spin 1s steps(1) infinite;\n",
              "  }\n",
              "\n",
              "  @keyframes spin {\n",
              "    0% {\n",
              "      border-color: transparent;\n",
              "      border-bottom-color: var(--fill-color);\n",
              "      border-left-color: var(--fill-color);\n",
              "    }\n",
              "    20% {\n",
              "      border-color: transparent;\n",
              "      border-left-color: var(--fill-color);\n",
              "      border-top-color: var(--fill-color);\n",
              "    }\n",
              "    30% {\n",
              "      border-color: transparent;\n",
              "      border-left-color: var(--fill-color);\n",
              "      border-top-color: var(--fill-color);\n",
              "      border-right-color: var(--fill-color);\n",
              "    }\n",
              "    40% {\n",
              "      border-color: transparent;\n",
              "      border-right-color: var(--fill-color);\n",
              "      border-top-color: var(--fill-color);\n",
              "    }\n",
              "    60% {\n",
              "      border-color: transparent;\n",
              "      border-right-color: var(--fill-color);\n",
              "    }\n",
              "    80% {\n",
              "      border-color: transparent;\n",
              "      border-right-color: var(--fill-color);\n",
              "      border-bottom-color: var(--fill-color);\n",
              "    }\n",
              "    90% {\n",
              "      border-color: transparent;\n",
              "      border-bottom-color: var(--fill-color);\n",
              "    }\n",
              "  }\n",
              "</style>\n",
              "\n",
              "  <script>\n",
              "    async function quickchart(key) {\n",
              "      const quickchartButtonEl =\n",
              "        document.querySelector('#' + key + ' button');\n",
              "      quickchartButtonEl.disabled = true;  // To prevent multiple clicks.\n",
              "      quickchartButtonEl.classList.add('colab-df-spinner');\n",
              "      try {\n",
              "        const charts = await google.colab.kernel.invokeFunction(\n",
              "            'suggestCharts', [key], {});\n",
              "      } catch (error) {\n",
              "        console.error('Error during call to suggestCharts:', error);\n",
              "      }\n",
              "      quickchartButtonEl.classList.remove('colab-df-spinner');\n",
              "      quickchartButtonEl.classList.add('colab-df-quickchart-complete');\n",
              "    }\n",
              "    (() => {\n",
              "      let quickchartButtonEl =\n",
              "        document.querySelector('#df-406d2ae4-aa46-4637-9436-50eda18c851c button');\n",
              "      quickchartButtonEl.style.display =\n",
              "        google.colab.kernel.accessAllowed ? 'block' : 'none';\n",
              "    })();\n",
              "  </script>\n",
              "</div>\n",
              "    </div>\n",
              "  </div>\n"
            ],
            "text/plain": [
              "    Times\n",
              "0    3.03\n",
              "1    6.33\n",
              "2    6.50\n",
              "3    5.22\n",
              "4    3.56\n",
              "5    6.76\n",
              "6    7.98\n",
              "7    4.82\n",
              "8    7.96\n",
              "9    4.54\n",
              "10   5.09\n",
              "11   6.46"
            ]
          },
          "execution_count": 6,
          "metadata": {},
          "output_type": "execute_result"
        }
      ],
      "source": [
        "# Your data as a dataframe\n",
        "times"
      ]
    },
    {
      "cell_type": "markdown",
      "metadata": {
        "id": "s9_E8EQ-Ced9"
      },
      "source": [
        "##**Calculating the mean and standard error of the data**"
      ]
    },
    {
      "cell_type": "code",
      "execution_count": null,
      "metadata": {
        "colab": {
          "base_uri": "https://localhost:8080/"
        },
        "id": "r5G1G8_1BP8K",
        "outputId": "36063182-9c96-48c5-b4fa-e919e5f0dd42"
      },
      "outputs": [
        {
          "name": "stderr",
          "output_type": "stream",
          "text": [
            "/usr/local/lib/python3.10/dist-packages/numpy/core/fromnumeric.py:3430: FutureWarning: In a future version, DataFrame.mean(axis=None) will return a scalar mean over the entire DataFrame. To retain the old behavior, use 'frame.mean(axis=0)' or just 'frame.mean()'\n",
            "  return mean(axis=axis, dtype=dtype, out=out, **kwargs)\n"
          ]
        }
      ],
      "source": [
        "# Calculate the mean\n",
        "mean = np.mean(times)\n",
        "# Calcute the standard error of the mean (SEM)\n",
        "sem = stats.sem(times)"
      ]
    },
    {
      "cell_type": "markdown",
      "metadata": {
        "id": "tKwKQLDTCpCF"
      },
      "source": [
        "##**Calculating degrees of freedom + setting confidence level**"
      ]
    },
    {
      "cell_type": "code",
      "execution_count": null,
      "metadata": {
        "id": "0jkva-WjBP5z"
      },
      "outputs": [],
      "source": [
        "# Calculate the degrees of freedom\n",
        "degrees_of_freedom = len(times) - 1"
      ]
    },
    {
      "cell_type": "code",
      "execution_count": null,
      "metadata": {
        "id": "7g_NF2LHBP3g"
      },
      "outputs": [],
      "source": [
        "# Set the confidence level (95%)\n",
        "confidence_level = 0.95"
      ]
    },
    {
      "cell_type": "markdown",
      "metadata": {
        "id": "Z6uasXTNDEHN"
      },
      "source": [
        "##**Calculating the confidence interval**"
      ]
    },
    {
      "cell_type": "code",
      "execution_count": null,
      "metadata": {
        "id": "a1AGgZXODCMG"
      },
      "outputs": [],
      "source": [
        "# Calculate the confidence interval\n",
        "conf_interval = stats.t.interval(\n",
        "    confidence_level,\n",
        "    df=degrees_of_freedom,\n",
        "    loc=mean,\n",
        "    scale=sem\n",
        "    )"
      ]
    },
    {
      "cell_type": "code",
      "execution_count": null,
      "metadata": {
        "colab": {
          "base_uri": "https://localhost:8080/"
        },
        "id": "_QT4tCoeDKam",
        "outputId": "e4c5c1bd-297c-4b92-bf37-755c4dfe91da"
      },
      "outputs": [
        {
          "name": "stdout",
          "output_type": "stream",
          "text": [
            "95% Confidence Interval is between [4.683381496293203, 6.691618503706797]\n"
          ]
        }
      ],
      "source": [
        "print(f\"95% Confidence Interval is between {[conf_interval[0][0], conf_interval[1][0]]}\")"
      ]
    },
    {
      "cell_type": "markdown",
      "metadata": {
        "id": "xfy3ZU3HCLI3"
      },
      "source": [
        "**You can visualize the data to show the rough distribution using a histogram plot** <br>\n",
        "(Admittedly, this one is not very pretty due to the distribution of the data, and the way Seaborn creates bins)"
      ]
    },
    {
      "cell_type": "code",
      "execution_count": null,
      "metadata": {
        "colab": {
          "base_uri": "https://localhost:8080/",
          "height": 472
        },
        "id": "7nPHUdttohZu",
        "outputId": "d5e6f0ac-61ff-4bba-94d9-110e6f764609"
      },
      "outputs": [
        {
          "data": {
            "image/png": "[encoded data removed]",
            "text/plain": [
              "<Figure size 640x480 with 1 Axes>"
            ]
          },
          "metadata": {},
          "output_type": "display_data"
        }
      ],
      "source": [
        "# Create a histogram plot with Seaborn\n",
        "sns.histplot(times, bins=10, kde=True, color='g')\n",
        "\n",
        "# Add labels and title\n",
        "plt.xlabel('Times')\n",
        "plt.ylabel('Density')\n",
        "plt.title('Histogram Plot of Times')\n",
        "\n",
        "# Show the plot\n",
        "plt.show()"
      ]
    },
    {
      "cell_type": "markdown",
      "metadata": {
        "id": "9x1JpQA7D7_C"
      },
      "source": [
        "#**Your turn to do some work!**"
      ]
    },
    {
      "cell_type": "markdown",
      "metadata": {
        "id": "7oCs7FZmlcIb"
      },
      "source": [
        "##**Start with assignment 12.21 in the book on page 336** <br>\n",
        "How much money do winners go home with from the television quiz show *Jeopardy*? To determine an answer: a random sample of winners was drawn, the recorded amount of money each won is listed in the data below. Estimate with 95% confidence the mean of winnings for all the shows players.\n",
        "\n",
        "Link to data: <br>\n",
        "https://github.com/saoter/AQM2023/raw/main/Workshop%203/data/Xr12-21.xlsx"
      ]
    },
    {
      "cell_type": "code",
      "execution_count": null,
      "metadata": {
        "id": "Yr-l7UDnECIK"
      },
      "outputs": [],
      "source": [
        "# Load in your data\n"
      ]
    },
    {
      "cell_type": "code",
      "execution_count": null,
      "metadata": {
        "id": "LwwFiALlECFM"
      },
      "outputs": [],
      "source": [
        "# Calculate the mean\n",
        "\n",
        "# standard error of the mean (SEM)\n"
      ]
    },
    {
      "cell_type": "code",
      "execution_count": null,
      "metadata": {
        "id": "ayS6BmDVEB-c"
      },
      "outputs": [],
      "source": [
        "# Calculate the degrees of freedom\n"
      ]
    },
    {
      "cell_type": "code",
      "execution_count": null,
      "metadata": {
        "id": "5aCIKJSXEB8D"
      },
      "outputs": [],
      "source": [
        "# Set the confidence level (95%)\n"
      ]
    },
    {
      "cell_type": "code",
      "execution_count": null,
      "metadata": {
        "id": "1IkyZdy8EBKt"
      },
      "outputs": [],
      "source": [
        "# Calculate the confidence interval\n"
      ]
    },
    {
      "cell_type": "code",
      "execution_count": null,
      "metadata": {
        "id": "de-Urfw-EOTS"
      },
      "outputs": [],
      "source": [
        "# Print the results\n"
      ]
    },
    {
      "cell_type": "code",
      "execution_count": null,
      "metadata": {
        "id": "Axiv9nc0oqrR"
      },
      "outputs": [],
      "source": [
        "# Optional: Visualize the distribution\n"
      ]
    },
    {
      "cell_type": "markdown",
      "metadata": {
        "id": "Y375kOtUH_y-"
      },
      "source": [
        "##**Assignment 12.23 in the book on page 336** <br>\n",
        "A parking control officer is conducting an analysis of time left on parking meters. A quick survey of 15 cars that have just left their metered parking spaces produced the following times (in minutes). Estimate with 95% confidence  the mean amount of time left for all the city's meters. <br>\n",
        "\n",
        "Link to data: <br>\n",
        "https://github.com/saoter/AQM2023/raw/main/Workshop%203/data/Xr12-23.xlsx"
      ]
    },
    {
      "cell_type": "code",
      "execution_count": null,
      "metadata": {
        "id": "-ExG8KPWIddt"
      },
      "outputs": [],
      "source": [
        "# Load in your data\n"
      ]
    },
    {
      "cell_type": "code",
      "execution_count": null,
      "metadata": {
        "id": "plOgnfHwIdax"
      },
      "outputs": [],
      "source": [
        "# Calculate the mean\n",
        "\n",
        "# standard error of the mean (SEM)\n"
      ]
    },
    {
      "cell_type": "code",
      "execution_count": null,
      "metadata": {
        "id": "HbBTEG-XIdYv"
      },
      "outputs": [],
      "source": [
        "# Calculate the degrees of freedom\n"
      ]
    },
    {
      "cell_type": "code",
      "execution_count": null,
      "metadata": {
        "id": "pVZac9vIIdWK"
      },
      "outputs": [],
      "source": [
        "# Set the confidence level (95%)\n"
      ]
    },
    {
      "cell_type": "code",
      "execution_count": null,
      "metadata": {
        "id": "f5Yd1o1RIdTo"
      },
      "outputs": [],
      "source": [
        "# Calculate the confidence interval\n"
      ]
    },
    {
      "cell_type": "code",
      "execution_count": null,
      "metadata": {
        "id": "bVpz7z1dIdQ9"
      },
      "outputs": [],
      "source": [
        "# Print the results\n"
      ]
    },
    {
      "cell_type": "code",
      "execution_count": null,
      "metadata": {
        "id": "yBVIA1YEIq5q"
      },
      "outputs": [],
      "source": [
        "# Optional: Visualize the distribution\n"
      ]
    },
    {
      "cell_type": "markdown",
      "metadata": {
        "id": "LEQYRm3xI6tZ"
      },
      "source": [
        "##**Assignment 12.24 in the book on page 336** <br>\n",
        "\n",
        "Part of a university professor's job is to publish his or her research. This task often entails reading a variety of journal articles to keep up to date. To help determine faculty standards, a dean of a business schol surveyed a random sample of 12 professors across the country and asked them to count the number of journal articles they read in a typical month. Estimate with 90% confidence the mean number of journal articles read monthly by professors.<br>\n",
        "\n",
        "Link to data: <br>\n",
        "https://github.com/saoter/AQM2023/raw/main/Workshop%203/data/Xr12-24.xlsx"
      ]
    },
    {
      "cell_type": "code",
      "execution_count": null,
      "metadata": {
        "id": "G--ayhpMI6Rd"
      },
      "outputs": [],
      "source": [
        "# Load in your data\n"
      ]
    },
    {
      "cell_type": "code",
      "execution_count": null,
      "metadata": {
        "id": "cOwBmup7JDoe"
      },
      "outputs": [],
      "source": [
        "# Calculate the mean\n",
        "\n",
        "# standard error of the mean (SEM)\n"
      ]
    },
    {
      "cell_type": "code",
      "execution_count": null,
      "metadata": {
        "id": "iLk92MbNJDj3"
      },
      "outputs": [],
      "source": [
        "# Calculate the degrees of freedom\n"
      ]
    },
    {
      "cell_type": "code",
      "execution_count": null,
      "metadata": {
        "id": "cfBSCIArJDhk"
      },
      "outputs": [],
      "source": [
        "# Set the confidence level (95%)\n"
      ]
    },
    {
      "cell_type": "code",
      "execution_count": null,
      "metadata": {
        "id": "vUP288qxJDfT"
      },
      "outputs": [],
      "source": [
        "# Calculate the confidence interval\n"
      ]
    },
    {
      "cell_type": "code",
      "execution_count": null,
      "metadata": {
        "id": "sujP-IBFJMNr"
      },
      "outputs": [],
      "source": [
        "# Print the results\n"
      ]
    },
    {
      "cell_type": "code",
      "execution_count": null,
      "metadata": {
        "id": "YW8QhGMZJMGH"
      },
      "outputs": [],
      "source": [
        "# Optional: Visualize the distribution\n"
      ]
    }
  ],
  "metadata": {
    "colab": {
      "include_colab_link": true,
      "provenance": []
    },
    "kernelspec": {
      "display_name": "Python 3",
      "name": "python3"
    },
    "language_info": {
      "name": "python"
    }
  },
  "nbformat": 4,
  "nbformat_minor": 0
}
