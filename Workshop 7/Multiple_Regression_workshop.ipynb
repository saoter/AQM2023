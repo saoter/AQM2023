{
  "nbformat": 4,
  "nbformat_minor": 0,
  "metadata": {
    "colab": {
      "provenance": []
    },
    "kernelspec": {
      "name": "python3",
      "display_name": "Python 3"
    },
    "language_info": {
      "name": "python"
    }
  },
  "cells": [
    {
      "cell_type": "markdown",
      "source": [
        "**Importing the needed libraries/modules**"
      ],
      "metadata": {
        "id": "bk2oh7ZXpieg"
      }
    },
    {
      "cell_type": "code",
      "execution_count": 1,
      "metadata": {
        "id": "mseuP89bNXnG"
      },
      "outputs": [],
      "source": [
        "import pandas as pd\n",
        "from scipy import stats\n",
        "from scipy.linalg import lstsq\n",
        "from scipy.stats import f\n",
        "import numpy as np"
      ]
    },
    {
      "cell_type": "markdown",
      "source": [
        "#**Solution example Xr17-01** <br>\n",
        "A developer who specializes in summer cottage properties is considering purchasing a large tract of land adjoining a lake. The current owner of the tract has already subdivided the land into separate building plots and has prepared the plots by removing some of the trees. The developer wants to forecast the value of each plot. From previous experience, she knows that the most important factors affecting the price of a plot are size, number of mature trees and distance to the lake. From a nearby area, she gathers the relevant data for 60 recently sold plots."
      ],
      "metadata": {
        "id": "boYm-mb3Or9z"
      }
    },
    {
      "cell_type": "markdown",
      "source": [
        "##Load in the data"
      ],
      "metadata": {
        "id": "OeK4WOe4ljev"
      }
    },
    {
      "cell_type": "markdown",
      "source": [
        "Link to data: <br>\n",
        "https://github.com/saoter/AQM2023/raw/main/Workshop%207/data/Xr17-01.xlsx"
      ],
      "metadata": {
        "id": "sBHp7ir6Nqqy"
      }
    },
    {
      "cell_type": "markdown",
      "source": [
        "**First load in the data to a pandas dataframe**"
      ],
      "metadata": {
        "id": "k2_U2YD_PZnq"
      }
    },
    {
      "cell_type": "code",
      "source": [
        "df = pd.read_excel('https://github.com/saoter/AQM2023/raw/main/Workshop%207/data/Xr17-01.xlsx')"
      ],
      "metadata": {
        "id": "YJ3rRYXSNdGJ"
      },
      "execution_count": 2,
      "outputs": []
    },
    {
      "cell_type": "code",
      "source": [
        "df.head() #Showing first 5 data observations"
      ],
      "metadata": {
        "colab": {
          "base_uri": "https://localhost:8080/",
          "height": 206
        },
        "id": "V4jcfurCNdEZ",
        "outputId": "74eac00e-0954-46d7-c378-bceadcf991ce"
      },
      "execution_count": 3,
      "outputs": [
        {
          "output_type": "execute_result",
          "data": {
            "text/plain": [
              "   Price  Lot size  Trees  Distance\n",
              "0  105.4      41.2     24        42\n",
              "1   91.2      44.8      5        71\n",
              "2  183.3      21.3     72        43\n",
              "3   93.8      43.9     58        14\n",
              "4  207.5      57.7     52        12"
            ],
            "text/html": [
              "\n",
              "  <div id=\"df-c6fca7bf-8fb0-414f-895a-4422f2a62ff5\" class=\"colab-df-container\">\n",
              "    <div>\n",
              "<style scoped>\n",
              "    .dataframe tbody tr th:only-of-type {\n",
              "        vertical-align: middle;\n",
              "    }\n",
              "\n",
              "    .dataframe tbody tr th {\n",
              "        vertical-align: top;\n",
              "    }\n",
              "\n",
              "    .dataframe thead th {\n",
              "        text-align: right;\n",
              "    }\n",
              "</style>\n",
              "<table border=\"1\" class=\"dataframe\">\n",
              "  <thead>\n",
              "    <tr style=\"text-align: right;\">\n",
              "      <th></th>\n",
              "      <th>Price</th>\n",
              "      <th>Lot size</th>\n",
              "      <th>Trees</th>\n",
              "      <th>Distance</th>\n",
              "    </tr>\n",
              "  </thead>\n",
              "  <tbody>\n",
              "    <tr>\n",
              "      <th>0</th>\n",
              "      <td>105.4</td>\n",
              "      <td>41.2</td>\n",
              "      <td>24</td>\n",
              "      <td>42</td>\n",
              "    </tr>\n",
              "    <tr>\n",
              "      <th>1</th>\n",
              "      <td>91.2</td>\n",
              "      <td>44.8</td>\n",
              "      <td>5</td>\n",
              "      <td>71</td>\n",
              "    </tr>\n",
              "    <tr>\n",
              "      <th>2</th>\n",
              "      <td>183.3</td>\n",
              "      <td>21.3</td>\n",
              "      <td>72</td>\n",
              "      <td>43</td>\n",
              "    </tr>\n",
              "    <tr>\n",
              "      <th>3</th>\n",
              "      <td>93.8</td>\n",
              "      <td>43.9</td>\n",
              "      <td>58</td>\n",
              "      <td>14</td>\n",
              "    </tr>\n",
              "    <tr>\n",
              "      <th>4</th>\n",
              "      <td>207.5</td>\n",
              "      <td>57.7</td>\n",
              "      <td>52</td>\n",
              "      <td>12</td>\n",
              "    </tr>\n",
              "  </tbody>\n",
              "</table>\n",
              "</div>\n",
              "    <div class=\"colab-df-buttons\">\n",
              "\n",
              "  <div class=\"colab-df-container\">\n",
              "    <button class=\"colab-df-convert\" onclick=\"convertToInteractive('df-c6fca7bf-8fb0-414f-895a-4422f2a62ff5')\"\n",
              "            title=\"Convert this dataframe to an interactive table.\"\n",
              "            style=\"display:none;\">\n",
              "\n",
              "  <svg xmlns=\"http://www.w3.org/2000/svg\" height=\"24px\" viewBox=\"0 -960 960 960\">\n",
              "    <path d=\"M120-120v-720h720v720H120Zm60-500h600v-160H180v160Zm220 220h160v-160H400v160Zm0 220h160v-160H400v160ZM180-400h160v-160H180v160Zm440 0h160v-160H620v160ZM180-180h160v-160H180v160Zm440 0h160v-160H620v160Z\"/>\n",
              "  </svg>\n",
              "    </button>\n",
              "\n",
              "  <style>\n",
              "    .colab-df-container {\n",
              "      display:flex;\n",
              "      gap: 12px;\n",
              "    }\n",
              "\n",
              "    .colab-df-convert {\n",
              "      background-color: #E8F0FE;\n",
              "      border: none;\n",
              "      border-radius: 50%;\n",
              "      cursor: pointer;\n",
              "      display: none;\n",
              "      fill: #1967D2;\n",
              "      height: 32px;\n",
              "      padding: 0 0 0 0;\n",
              "      width: 32px;\n",
              "    }\n",
              "\n",
              "    .colab-df-convert:hover {\n",
              "      background-color: #E2EBFA;\n",
              "      box-shadow: 0px 1px 2px rgba(60, 64, 67, 0.3), 0px 1px 3px 1px rgba(60, 64, 67, 0.15);\n",
              "      fill: #174EA6;\n",
              "    }\n",
              "\n",
              "    .colab-df-buttons div {\n",
              "      margin-bottom: 4px;\n",
              "    }\n",
              "\n",
              "    [theme=dark] .colab-df-convert {\n",
              "      background-color: #3B4455;\n",
              "      fill: #D2E3FC;\n",
              "    }\n",
              "\n",
              "    [theme=dark] .colab-df-convert:hover {\n",
              "      background-color: #434B5C;\n",
              "      box-shadow: 0px 1px 3px 1px rgba(0, 0, 0, 0.15);\n",
              "      filter: drop-shadow(0px 1px 2px rgba(0, 0, 0, 0.3));\n",
              "      fill: #FFFFFF;\n",
              "    }\n",
              "  </style>\n",
              "\n",
              "    <script>\n",
              "      const buttonEl =\n",
              "        document.querySelector('#df-c6fca7bf-8fb0-414f-895a-4422f2a62ff5 button.colab-df-convert');\n",
              "      buttonEl.style.display =\n",
              "        google.colab.kernel.accessAllowed ? 'block' : 'none';\n",
              "\n",
              "      async function convertToInteractive(key) {\n",
              "        const element = document.querySelector('#df-c6fca7bf-8fb0-414f-895a-4422f2a62ff5');\n",
              "        const dataTable =\n",
              "          await google.colab.kernel.invokeFunction('convertToInteractive',\n",
              "                                                    [key], {});\n",
              "        if (!dataTable) return;\n",
              "\n",
              "        const docLinkHtml = 'Like what you see? Visit the ' +\n",
              "          '<a target=\"_blank\" href=https://colab.research.google.com/notebooks/data_table.ipynb>data table notebook</a>'\n",
              "          + ' to learn more about interactive tables.';\n",
              "        element.innerHTML = '';\n",
              "        dataTable['output_type'] = 'display_data';\n",
              "        await google.colab.output.renderOutput(dataTable, element);\n",
              "        const docLink = document.createElement('div');\n",
              "        docLink.innerHTML = docLinkHtml;\n",
              "        element.appendChild(docLink);\n",
              "      }\n",
              "    </script>\n",
              "  </div>\n",
              "\n",
              "\n",
              "<div id=\"df-3e481f4d-c617-4364-94ac-b60d2b261397\">\n",
              "  <button class=\"colab-df-quickchart\" onclick=\"quickchart('df-3e481f4d-c617-4364-94ac-b60d2b261397')\"\n",
              "            title=\"Suggest charts.\"\n",
              "            style=\"display:none;\">\n",
              "\n",
              "<svg xmlns=\"http://www.w3.org/2000/svg\" height=\"24px\"viewBox=\"0 0 24 24\"\n",
              "     width=\"24px\">\n",
              "    <g>\n",
              "        <path d=\"M19 3H5c-1.1 0-2 .9-2 2v14c0 1.1.9 2 2 2h14c1.1 0 2-.9 2-2V5c0-1.1-.9-2-2-2zM9 17H7v-7h2v7zm4 0h-2V7h2v10zm4 0h-2v-4h2v4z\"/>\n",
              "    </g>\n",
              "</svg>\n",
              "  </button>\n",
              "\n",
              "<style>\n",
              "  .colab-df-quickchart {\n",
              "      --bg-color: #E8F0FE;\n",
              "      --fill-color: #1967D2;\n",
              "      --hover-bg-color: #E2EBFA;\n",
              "      --hover-fill-color: #174EA6;\n",
              "      --disabled-fill-color: #AAA;\n",
              "      --disabled-bg-color: #DDD;\n",
              "  }\n",
              "\n",
              "  [theme=dark] .colab-df-quickchart {\n",
              "      --bg-color: #3B4455;\n",
              "      --fill-color: #D2E3FC;\n",
              "      --hover-bg-color: #434B5C;\n",
              "      --hover-fill-color: #FFFFFF;\n",
              "      --disabled-bg-color: #3B4455;\n",
              "      --disabled-fill-color: #666;\n",
              "  }\n",
              "\n",
              "  .colab-df-quickchart {\n",
              "    background-color: var(--bg-color);\n",
              "    border: none;\n",
              "    border-radius: 50%;\n",
              "    cursor: pointer;\n",
              "    display: none;\n",
              "    fill: var(--fill-color);\n",
              "    height: 32px;\n",
              "    padding: 0;\n",
              "    width: 32px;\n",
              "  }\n",
              "\n",
              "  .colab-df-quickchart:hover {\n",
              "    background-color: var(--hover-bg-color);\n",
              "    box-shadow: 0 1px 2px rgba(60, 64, 67, 0.3), 0 1px 3px 1px rgba(60, 64, 67, 0.15);\n",
              "    fill: var(--button-hover-fill-color);\n",
              "  }\n",
              "\n",
              "  .colab-df-quickchart-complete:disabled,\n",
              "  .colab-df-quickchart-complete:disabled:hover {\n",
              "    background-color: var(--disabled-bg-color);\n",
              "    fill: var(--disabled-fill-color);\n",
              "    box-shadow: none;\n",
              "  }\n",
              "\n",
              "  .colab-df-spinner {\n",
              "    border: 2px solid var(--fill-color);\n",
              "    border-color: transparent;\n",
              "    border-bottom-color: var(--fill-color);\n",
              "    animation:\n",
              "      spin 1s steps(1) infinite;\n",
              "  }\n",
              "\n",
              "  @keyframes spin {\n",
              "    0% {\n",
              "      border-color: transparent;\n",
              "      border-bottom-color: var(--fill-color);\n",
              "      border-left-color: var(--fill-color);\n",
              "    }\n",
              "    20% {\n",
              "      border-color: transparent;\n",
              "      border-left-color: var(--fill-color);\n",
              "      border-top-color: var(--fill-color);\n",
              "    }\n",
              "    30% {\n",
              "      border-color: transparent;\n",
              "      border-left-color: var(--fill-color);\n",
              "      border-top-color: var(--fill-color);\n",
              "      border-right-color: var(--fill-color);\n",
              "    }\n",
              "    40% {\n",
              "      border-color: transparent;\n",
              "      border-right-color: var(--fill-color);\n",
              "      border-top-color: var(--fill-color);\n",
              "    }\n",
              "    60% {\n",
              "      border-color: transparent;\n",
              "      border-right-color: var(--fill-color);\n",
              "    }\n",
              "    80% {\n",
              "      border-color: transparent;\n",
              "      border-right-color: var(--fill-color);\n",
              "      border-bottom-color: var(--fill-color);\n",
              "    }\n",
              "    90% {\n",
              "      border-color: transparent;\n",
              "      border-bottom-color: var(--fill-color);\n",
              "    }\n",
              "  }\n",
              "</style>\n",
              "\n",
              "  <script>\n",
              "    async function quickchart(key) {\n",
              "      const quickchartButtonEl =\n",
              "        document.querySelector('#' + key + ' button');\n",
              "      quickchartButtonEl.disabled = true;  // To prevent multiple clicks.\n",
              "      quickchartButtonEl.classList.add('colab-df-spinner');\n",
              "      try {\n",
              "        const charts = await google.colab.kernel.invokeFunction(\n",
              "            'suggestCharts', [key], {});\n",
              "      } catch (error) {\n",
              "        console.error('Error during call to suggestCharts:', error);\n",
              "      }\n",
              "      quickchartButtonEl.classList.remove('colab-df-spinner');\n",
              "      quickchartButtonEl.classList.add('colab-df-quickchart-complete');\n",
              "    }\n",
              "    (() => {\n",
              "      let quickchartButtonEl =\n",
              "        document.querySelector('#df-3e481f4d-c617-4364-94ac-b60d2b261397 button');\n",
              "      quickchartButtonEl.style.display =\n",
              "        google.colab.kernel.accessAllowed ? 'block' : 'none';\n",
              "    })();\n",
              "  </script>\n",
              "</div>\n",
              "    </div>\n",
              "  </div>\n"
            ]
          },
          "metadata": {},
          "execution_count": 3
        }
      ]
    },
    {
      "cell_type": "markdown",
      "source": [
        "##**Objective a)** <br>\n",
        "Find the regression equation"
      ],
      "metadata": {
        "id": "1uQQTdSJWY8c"
      }
    },
    {
      "cell_type": "markdown",
      "source": [
        "**This step selects the columns from the DataFrame df that represent your independent variables (Lot size, Trees, Distance) and stores them in a new DataFrame X. Think of X as a table of your predictor variables.**"
      ],
      "metadata": {
        "id": "QJeDMLuYO7Oa"
      }
    },
    {
      "cell_type": "code",
      "source": [
        "X = df[['Lot size', 'Trees','Distance']]\n",
        "X.head()"
      ],
      "metadata": {
        "colab": {
          "base_uri": "https://localhost:8080/",
          "height": 206
        },
        "id": "xdtNDGwGNdAZ",
        "outputId": "3f838df9-190d-4f44-a1c2-34d15c14d296"
      },
      "execution_count": 4,
      "outputs": [
        {
          "output_type": "execute_result",
          "data": {
            "text/plain": [
              "   Lot size  Trees  Distance\n",
              "0      41.2     24        42\n",
              "1      44.8      5        71\n",
              "2      21.3     72        43\n",
              "3      43.9     58        14\n",
              "4      57.7     52        12"
            ],
            "text/html": [
              "\n",
              "  <div id=\"df-15bf806c-bd18-4190-aa69-d2ced9bee058\" class=\"colab-df-container\">\n",
              "    <div>\n",
              "<style scoped>\n",
              "    .dataframe tbody tr th:only-of-type {\n",
              "        vertical-align: middle;\n",
              "    }\n",
              "\n",
              "    .dataframe tbody tr th {\n",
              "        vertical-align: top;\n",
              "    }\n",
              "\n",
              "    .dataframe thead th {\n",
              "        text-align: right;\n",
              "    }\n",
              "</style>\n",
              "<table border=\"1\" class=\"dataframe\">\n",
              "  <thead>\n",
              "    <tr style=\"text-align: right;\">\n",
              "      <th></th>\n",
              "      <th>Lot size</th>\n",
              "      <th>Trees</th>\n",
              "      <th>Distance</th>\n",
              "    </tr>\n",
              "  </thead>\n",
              "  <tbody>\n",
              "    <tr>\n",
              "      <th>0</th>\n",
              "      <td>41.2</td>\n",
              "      <td>24</td>\n",
              "      <td>42</td>\n",
              "    </tr>\n",
              "    <tr>\n",
              "      <th>1</th>\n",
              "      <td>44.8</td>\n",
              "      <td>5</td>\n",
              "      <td>71</td>\n",
              "    </tr>\n",
              "    <tr>\n",
              "      <th>2</th>\n",
              "      <td>21.3</td>\n",
              "      <td>72</td>\n",
              "      <td>43</td>\n",
              "    </tr>\n",
              "    <tr>\n",
              "      <th>3</th>\n",
              "      <td>43.9</td>\n",
              "      <td>58</td>\n",
              "      <td>14</td>\n",
              "    </tr>\n",
              "    <tr>\n",
              "      <th>4</th>\n",
              "      <td>57.7</td>\n",
              "      <td>52</td>\n",
              "      <td>12</td>\n",
              "    </tr>\n",
              "  </tbody>\n",
              "</table>\n",
              "</div>\n",
              "    <div class=\"colab-df-buttons\">\n",
              "\n",
              "  <div class=\"colab-df-container\">\n",
              "    <button class=\"colab-df-convert\" onclick=\"convertToInteractive('df-15bf806c-bd18-4190-aa69-d2ced9bee058')\"\n",
              "            title=\"Convert this dataframe to an interactive table.\"\n",
              "            style=\"display:none;\">\n",
              "\n",
              "  <svg xmlns=\"http://www.w3.org/2000/svg\" height=\"24px\" viewBox=\"0 -960 960 960\">\n",
              "    <path d=\"M120-120v-720h720v720H120Zm60-500h600v-160H180v160Zm220 220h160v-160H400v160Zm0 220h160v-160H400v160ZM180-400h160v-160H180v160Zm440 0h160v-160H620v160ZM180-180h160v-160H180v160Zm440 0h160v-160H620v160Z\"/>\n",
              "  </svg>\n",
              "    </button>\n",
              "\n",
              "  <style>\n",
              "    .colab-df-container {\n",
              "      display:flex;\n",
              "      gap: 12px;\n",
              "    }\n",
              "\n",
              "    .colab-df-convert {\n",
              "      background-color: #E8F0FE;\n",
              "      border: none;\n",
              "      border-radius: 50%;\n",
              "      cursor: pointer;\n",
              "      display: none;\n",
              "      fill: #1967D2;\n",
              "      height: 32px;\n",
              "      padding: 0 0 0 0;\n",
              "      width: 32px;\n",
              "    }\n",
              "\n",
              "    .colab-df-convert:hover {\n",
              "      background-color: #E2EBFA;\n",
              "      box-shadow: 0px 1px 2px rgba(60, 64, 67, 0.3), 0px 1px 3px 1px rgba(60, 64, 67, 0.15);\n",
              "      fill: #174EA6;\n",
              "    }\n",
              "\n",
              "    .colab-df-buttons div {\n",
              "      margin-bottom: 4px;\n",
              "    }\n",
              "\n",
              "    [theme=dark] .colab-df-convert {\n",
              "      background-color: #3B4455;\n",
              "      fill: #D2E3FC;\n",
              "    }\n",
              "\n",
              "    [theme=dark] .colab-df-convert:hover {\n",
              "      background-color: #434B5C;\n",
              "      box-shadow: 0px 1px 3px 1px rgba(0, 0, 0, 0.15);\n",
              "      filter: drop-shadow(0px 1px 2px rgba(0, 0, 0, 0.3));\n",
              "      fill: #FFFFFF;\n",
              "    }\n",
              "  </style>\n",
              "\n",
              "    <script>\n",
              "      const buttonEl =\n",
              "        document.querySelector('#df-15bf806c-bd18-4190-aa69-d2ced9bee058 button.colab-df-convert');\n",
              "      buttonEl.style.display =\n",
              "        google.colab.kernel.accessAllowed ? 'block' : 'none';\n",
              "\n",
              "      async function convertToInteractive(key) {\n",
              "        const element = document.querySelector('#df-15bf806c-bd18-4190-aa69-d2ced9bee058');\n",
              "        const dataTable =\n",
              "          await google.colab.kernel.invokeFunction('convertToInteractive',\n",
              "                                                    [key], {});\n",
              "        if (!dataTable) return;\n",
              "\n",
              "        const docLinkHtml = 'Like what you see? Visit the ' +\n",
              "          '<a target=\"_blank\" href=https://colab.research.google.com/notebooks/data_table.ipynb>data table notebook</a>'\n",
              "          + ' to learn more about interactive tables.';\n",
              "        element.innerHTML = '';\n",
              "        dataTable['output_type'] = 'display_data';\n",
              "        await google.colab.output.renderOutput(dataTable, element);\n",
              "        const docLink = document.createElement('div');\n",
              "        docLink.innerHTML = docLinkHtml;\n",
              "        element.appendChild(docLink);\n",
              "      }\n",
              "    </script>\n",
              "  </div>\n",
              "\n",
              "\n",
              "<div id=\"df-7eab15be-d596-4b53-813f-414540638f31\">\n",
              "  <button class=\"colab-df-quickchart\" onclick=\"quickchart('df-7eab15be-d596-4b53-813f-414540638f31')\"\n",
              "            title=\"Suggest charts.\"\n",
              "            style=\"display:none;\">\n",
              "\n",
              "<svg xmlns=\"http://www.w3.org/2000/svg\" height=\"24px\"viewBox=\"0 0 24 24\"\n",
              "     width=\"24px\">\n",
              "    <g>\n",
              "        <path d=\"M19 3H5c-1.1 0-2 .9-2 2v14c0 1.1.9 2 2 2h14c1.1 0 2-.9 2-2V5c0-1.1-.9-2-2-2zM9 17H7v-7h2v7zm4 0h-2V7h2v10zm4 0h-2v-4h2v4z\"/>\n",
              "    </g>\n",
              "</svg>\n",
              "  </button>\n",
              "\n",
              "<style>\n",
              "  .colab-df-quickchart {\n",
              "      --bg-color: #E8F0FE;\n",
              "      --fill-color: #1967D2;\n",
              "      --hover-bg-color: #E2EBFA;\n",
              "      --hover-fill-color: #174EA6;\n",
              "      --disabled-fill-color: #AAA;\n",
              "      --disabled-bg-color: #DDD;\n",
              "  }\n",
              "\n",
              "  [theme=dark] .colab-df-quickchart {\n",
              "      --bg-color: #3B4455;\n",
              "      --fill-color: #D2E3FC;\n",
              "      --hover-bg-color: #434B5C;\n",
              "      --hover-fill-color: #FFFFFF;\n",
              "      --disabled-bg-color: #3B4455;\n",
              "      --disabled-fill-color: #666;\n",
              "  }\n",
              "\n",
              "  .colab-df-quickchart {\n",
              "    background-color: var(--bg-color);\n",
              "    border: none;\n",
              "    border-radius: 50%;\n",
              "    cursor: pointer;\n",
              "    display: none;\n",
              "    fill: var(--fill-color);\n",
              "    height: 32px;\n",
              "    padding: 0;\n",
              "    width: 32px;\n",
              "  }\n",
              "\n",
              "  .colab-df-quickchart:hover {\n",
              "    background-color: var(--hover-bg-color);\n",
              "    box-shadow: 0 1px 2px rgba(60, 64, 67, 0.3), 0 1px 3px 1px rgba(60, 64, 67, 0.15);\n",
              "    fill: var(--button-hover-fill-color);\n",
              "  }\n",
              "\n",
              "  .colab-df-quickchart-complete:disabled,\n",
              "  .colab-df-quickchart-complete:disabled:hover {\n",
              "    background-color: var(--disabled-bg-color);\n",
              "    fill: var(--disabled-fill-color);\n",
              "    box-shadow: none;\n",
              "  }\n",
              "\n",
              "  .colab-df-spinner {\n",
              "    border: 2px solid var(--fill-color);\n",
              "    border-color: transparent;\n",
              "    border-bottom-color: var(--fill-color);\n",
              "    animation:\n",
              "      spin 1s steps(1) infinite;\n",
              "  }\n",
              "\n",
              "  @keyframes spin {\n",
              "    0% {\n",
              "      border-color: transparent;\n",
              "      border-bottom-color: var(--fill-color);\n",
              "      border-left-color: var(--fill-color);\n",
              "    }\n",
              "    20% {\n",
              "      border-color: transparent;\n",
              "      border-left-color: var(--fill-color);\n",
              "      border-top-color: var(--fill-color);\n",
              "    }\n",
              "    30% {\n",
              "      border-color: transparent;\n",
              "      border-left-color: var(--fill-color);\n",
              "      border-top-color: var(--fill-color);\n",
              "      border-right-color: var(--fill-color);\n",
              "    }\n",
              "    40% {\n",
              "      border-color: transparent;\n",
              "      border-right-color: var(--fill-color);\n",
              "      border-top-color: var(--fill-color);\n",
              "    }\n",
              "    60% {\n",
              "      border-color: transparent;\n",
              "      border-right-color: var(--fill-color);\n",
              "    }\n",
              "    80% {\n",
              "      border-color: transparent;\n",
              "      border-right-color: var(--fill-color);\n",
              "      border-bottom-color: var(--fill-color);\n",
              "    }\n",
              "    90% {\n",
              "      border-color: transparent;\n",
              "      border-bottom-color: var(--fill-color);\n",
              "    }\n",
              "  }\n",
              "</style>\n",
              "\n",
              "  <script>\n",
              "    async function quickchart(key) {\n",
              "      const quickchartButtonEl =\n",
              "        document.querySelector('#' + key + ' button');\n",
              "      quickchartButtonEl.disabled = true;  // To prevent multiple clicks.\n",
              "      quickchartButtonEl.classList.add('colab-df-spinner');\n",
              "      try {\n",
              "        const charts = await google.colab.kernel.invokeFunction(\n",
              "            'suggestCharts', [key], {});\n",
              "      } catch (error) {\n",
              "        console.error('Error during call to suggestCharts:', error);\n",
              "      }\n",
              "      quickchartButtonEl.classList.remove('colab-df-spinner');\n",
              "      quickchartButtonEl.classList.add('colab-df-quickchart-complete');\n",
              "    }\n",
              "    (() => {\n",
              "      let quickchartButtonEl =\n",
              "        document.querySelector('#df-7eab15be-d596-4b53-813f-414540638f31 button');\n",
              "      quickchartButtonEl.style.display =\n",
              "        google.colab.kernel.accessAllowed ? 'block' : 'none';\n",
              "    })();\n",
              "  </script>\n",
              "</div>\n",
              "    </div>\n",
              "  </div>\n"
            ]
          },
          "metadata": {},
          "execution_count": 4
        }
      ]
    },
    {
      "cell_type": "markdown",
      "source": [
        "**Here, we create a variable y and assign it the values from the 'Price' column in the DataFrame df. y is your dependent variable, the one you want to predict or explain.**"
      ],
      "metadata": {
        "id": "j_vJ70BGOvNS"
      }
    },
    {
      "cell_type": "code",
      "source": [
        "y = df['Price']\n",
        "y.head()"
      ],
      "metadata": {
        "colab": {
          "base_uri": "https://localhost:8080/"
        },
        "id": "sqd5yShnNdCR",
        "outputId": "afffb730-afe3-4d8b-9e9a-e3da64a34a20"
      },
      "execution_count": 5,
      "outputs": [
        {
          "output_type": "execute_result",
          "data": {
            "text/plain": [
              "0    105.4\n",
              "1     91.2\n",
              "2    183.3\n",
              "3     93.8\n",
              "4    207.5\n",
              "Name: Price, dtype: float64"
            ]
          },
          "metadata": {},
          "execution_count": 5
        }
      ]
    },
    {
      "cell_type": "markdown",
      "source": [
        "**As you may remember, the equation for multiple regression is;** <br>\n",
        "$$Y = β0 + β1*X1 + β2*X2 + ... + βn*Xn + ε$$\n",
        "<br>\n",
        "**Where β0 is the intercept with the y-axis on a graph.**"
      ],
      "metadata": {
        "id": "pM-_4tpcSB06"
      }
    },
    {
      "cell_type": "markdown",
      "source": [
        "**In this step, we add a new column to the X DataFrame called 'Intercept,' where all the values are set to 1. This is a common practice in regression to account for the constant (intercept) in the equation. Adding the column of 1s (the intercept) to your feature matrix allows your linear regression model to find both the slope (coefficients for other features) and the intercept (the point where the line crosses the Y-axis) during the fitting process. It ensures that the linear equation accounts for the situation when all independent variables are 0.**"
      ],
      "metadata": {
        "id": "NEaETrb6Uqtz"
      }
    },
    {
      "cell_type": "code",
      "source": [
        "X['Intercept'] = 1"
      ],
      "metadata": {
        "id": "uYancbd8QR3L"
      },
      "execution_count": 6,
      "outputs": []
    },
    {
      "cell_type": "markdown",
      "source": [
        "Imagine you have a bunch of data points (like test scores and study hours) and you want to find a simple equation that best explains how they're related. This equation could help you predict one thing based on the other.\n",
        "\n",
        "Here's a quick overview of the underlying math(not that it's important):\n",
        "\n",
        "The Equation: You're trying to find an equation that looks like this:\n",
        "\n",
        "$Test Score=β0+β1xStudy Hours$ <br>\n",
        "\"Test Score\" is what you're trying to predict.<br>\n",
        "\"Study Hours\" is the thing you think affects the test score.<br>\n",
        "β0 and β1 are numbers you want to find that make the equation work best.<br><br>\n",
        "\n",
        "**Matrix Math**: To do this, we use some math that involves matrices (don't worry if you're not familiar with these). The equation becomes:\n",
        "\n",
        "$Y=XβY=Xβ$<br>\n",
        "Y is all the test scores. <br>\n",
        "X is a table with study hours and a bunch of rows (each row is a student).<br>\n",
        "β is a list of numbers (one for the constant and one for study hours).\n",
        "\n",
        "**Best Fit**: We want to find the best numbers in β that make our equation fit our data points as closely as possible. It's like adjusting the equation until it matches the real data.\n",
        "\n",
        "**Least Squares Method**: We use something called the \"least squares method\" to find these best numbers. This method tries different numbers for β and checks how close they get to the real data.\n",
        "\n",
        "**Python Code**: The Python code provided below, coefficients, _, _, _ = lstsq(X, y), is like a magic tool that does the math for us. It finds the best numbers for β that make our equation fit our data points best.\n",
        "\n",
        "**Result**: After running the code, you get the best numbers for β, which are the coefficients. These coefficients tell you how much study hours affect the test score (in this example). You can use this equation to make predictions based on new study hours."
      ],
      "metadata": {
        "id": "1tdNMfQJ5Tjk"
      }
    },
    {
      "cell_type": "markdown",
      "source": [
        "**This line uses the least squares method (lstsq) to find the coefficients for the linear regression equation. The coefficients represent the relationship between the independent variables and the dependent variable. We're assigning these coefficients to the variable coefficients. The underscores _ are used as placeholders for values we don't need in this case.**"
      ],
      "metadata": {
        "id": "-Gz4LDwMU1pz"
      }
    },
    {
      "cell_type": "code",
      "source": [
        "coefficients, _, _, _ = lstsq(X, y)"
      ],
      "metadata": {
        "id": "03fnbM4SNc-h"
      },
      "execution_count": 7,
      "outputs": []
    },
    {
      "cell_type": "code",
      "source": [
        "coefficients"
      ],
      "metadata": {
        "colab": {
          "base_uri": "https://localhost:8080/"
        },
        "id": "0arQ9Rl4QvQS",
        "outputId": "1d02ca3b-5d3f-486f-e877-115d1dcf8442"
      },
      "execution_count": 8,
      "outputs": [
        {
          "output_type": "execute_result",
          "data": {
            "text/plain": [
              "array([ 0.69990446,  0.67881312, -0.3783608 , 51.39121643])"
            ]
          },
          "metadata": {},
          "execution_count": 8
        }
      ]
    },
    {
      "cell_type": "markdown",
      "source": [
        "**intercept = coefficients[-1]**: Here, we extract the last value from the coefficients variable, which represents the intercept (β0) or constant term in the regression equation."
      ],
      "metadata": {
        "id": "OucVCm7KVJGD"
      }
    },
    {
      "cell_type": "code",
      "source": [
        "intercept = coefficients[-1]"
      ],
      "metadata": {
        "id": "4Tj_cU9eNc6h"
      },
      "execution_count": 9,
      "outputs": []
    },
    {
      "cell_type": "code",
      "source": [
        "intercept"
      ],
      "metadata": {
        "colab": {
          "base_uri": "https://localhost:8080/"
        },
        "id": "rvZx_dCWY2cc",
        "outputId": "955e5d00-25b8-4c93-90bd-0be1bde6aefd"
      },
      "execution_count": 10,
      "outputs": [
        {
          "output_type": "execute_result",
          "data": {
            "text/plain": [
              "51.39121642851501"
            ]
          },
          "metadata": {},
          "execution_count": 10
        }
      ]
    },
    {
      "cell_type": "markdown",
      "source": [
        "**coefficients_array = coefficients[:-1]**: This line removes the last value from the coefficients_array variable, leaving you with the coefficients for the independent variables (Lot size, Trees, Distance) in the same order they were in the DataFrame X."
      ],
      "metadata": {
        "id": "IQunnh-BVS4T"
      }
    },
    {
      "cell_type": "code",
      "source": [
        "coefficients_array = coefficients[:-1]\n",
        "coefficients_array"
      ],
      "metadata": {
        "id": "PIOu0SCNVMIJ",
        "colab": {
          "base_uri": "https://localhost:8080/"
        },
        "outputId": "5db4eb95-778a-487e-ff6c-7d24710b45f5"
      },
      "execution_count": 11,
      "outputs": [
        {
          "output_type": "execute_result",
          "data": {
            "text/plain": [
              "array([ 0.69990446,  0.67881312, -0.3783608 ])"
            ]
          },
          "metadata": {},
          "execution_count": 11
        }
      ]
    },
    {
      "cell_type": "markdown",
      "source": [
        "**print(f\"Intercept: {intercept}\")**: Finally, we print out the intercept value, which is the constant in your regression equation. This is the value where the regression line crosses the y-axis when all independent variables are zero. <br><br>\n",
        "**print(f\"Coefficients: {coefficients}\")**: We also print the coefficients for your independent variables. These values tell you how much the dependent variable changes for each unit change in the respective independent variable, while holding all other variables constant."
      ],
      "metadata": {
        "id": "EfxW5suKVjYD"
      }
    },
    {
      "cell_type": "code",
      "source": [
        "# Print the results\n",
        "print(f\"Intercept: {intercept}\")\n",
        "print(f\"Coefficients: {coefficients_array}\")"
      ],
      "metadata": {
        "colab": {
          "base_uri": "https://localhost:8080/"
        },
        "id": "qei6fq1TNc4y",
        "outputId": "248d5e2f-6e43-4e0e-ebb0-2c0c863cf7cb"
      },
      "execution_count": 12,
      "outputs": [
        {
          "output_type": "stream",
          "name": "stdout",
          "text": [
            "Intercept: 51.39121642851501\n",
            "Coefficients: [ 0.69990446  0.67881312 -0.3783608 ]\n"
          ]
        }
      ]
    },
    {
      "cell_type": "markdown",
      "source": [
        "Thus, our equation becomes (rounded coefficient values): <br>\n",
        "$$Price = 51.39 + 0.70 \\cdot \\text{Lot size} + 0.68 \\cdot \\text{Trees} - 0.38 \\cdot \\text{Distance}$$\n"
      ],
      "metadata": {
        "id": "JnwM8SySVzK0"
      }
    },
    {
      "cell_type": "markdown",
      "source": [
        "##**Objective b)** <br>\n",
        "What is the standard error of the estimate?"
      ],
      "metadata": {
        "id": "lu53-BVHWkpk"
      }
    },
    {
      "cell_type": "markdown",
      "source": [
        "**Calculate the number of observations (n)**"
      ],
      "metadata": {
        "id": "ZgYVWtWbbpXF"
      }
    },
    {
      "cell_type": "code",
      "source": [
        "n = len(y)\n",
        "n"
      ],
      "metadata": {
        "colab": {
          "base_uri": "https://localhost:8080/"
        },
        "id": "SOxCrX-9Wy_b",
        "outputId": "79572c53-3451-4954-84a9-fa411cd06fea"
      },
      "execution_count": 13,
      "outputs": [
        {
          "output_type": "execute_result",
          "data": {
            "text/plain": [
              "60"
            ]
          },
          "metadata": {},
          "execution_count": 13
        }
      ]
    },
    {
      "cell_type": "markdown",
      "source": [
        "**Calculate the number of predictors (k)**"
      ],
      "metadata": {
        "id": "4vz0425scA41"
      }
    },
    {
      "cell_type": "code",
      "source": [
        "k = X.shape[1] - 1  # Subtract 1 for the intercept\n",
        "k"
      ],
      "metadata": {
        "colab": {
          "base_uri": "https://localhost:8080/"
        },
        "id": "Y5QCu4utWy9T",
        "outputId": "c231ebd2-e7f3-4955-9caa-572da46b0c69"
      },
      "execution_count": 14,
      "outputs": [
        {
          "output_type": "execute_result",
          "data": {
            "text/plain": [
              "3"
            ]
          },
          "metadata": {},
          "execution_count": 14
        }
      ]
    },
    {
      "cell_type": "markdown",
      "source": [
        "**Calculate the predicted values (y_hat) using the coefficients using matrix dot product**"
      ],
      "metadata": {
        "id": "T5AWrGnHcHDt"
      }
    },
    {
      "cell_type": "code",
      "source": [
        "y_hat = np.dot(X, coefficients)"
      ],
      "metadata": {
        "id": "NBFKNvWOdm4u"
      },
      "execution_count": 15,
      "outputs": []
    },
    {
      "cell_type": "markdown",
      "source": [
        "**Calculate the residuals (differences between observed and predicted values)**"
      ],
      "metadata": {
        "id": "JcpbSTsHesV2"
      }
    },
    {
      "cell_type": "code",
      "source": [
        "residuals = y - y_hat\n",
        "residuals.head()"
      ],
      "metadata": {
        "colab": {
          "base_uri": "https://localhost:8080/"
        },
        "id": "1TFInSGRWytL",
        "outputId": "474ffe41-354d-4ce6-8d28-2b7a31a97252"
      },
      "execution_count": 16,
      "outputs": [
        {
          "output_type": "execute_result",
          "data": {
            "text/plain": [
              "0    24.772359\n",
              "1    31.922615\n",
              "2    84.395789\n",
              "3   -22.391132\n",
              "4    84.966344\n",
              "Name: Price, dtype: float64"
            ]
          },
          "metadata": {},
          "execution_count": 16
        }
      ]
    },
    {
      "cell_type": "markdown",
      "source": [
        "**Calculate the residual sum of squares (SSE)**"
      ],
      "metadata": {
        "id": "n_lojrQBe5Ct"
      }
    },
    {
      "cell_type": "code",
      "source": [
        "sse = np.sum(residuals**2)\n",
        "sse"
      ],
      "metadata": {
        "colab": {
          "base_uri": "https://localhost:8080/"
        },
        "id": "CSnFiB5YeusG",
        "outputId": "4a629b79-3235-4ec6-9123-18935b84d778"
      },
      "execution_count": 17,
      "outputs": [
        {
          "output_type": "execute_result",
          "data": {
            "text/plain": [
              "90694.3330841533"
            ]
          },
          "metadata": {},
          "execution_count": 17
        }
      ]
    },
    {
      "cell_type": "markdown",
      "source": [
        "**Calculate the standard error of the estimate using the provided formula** <br>\n",
        "\n",
        "\n",
        "The standard error of the estimate is calculated as:\n",
        "\n",
        "$$\n",
        "\\text{Standard Error} = \\sqrt{\\frac{SSE}{n - k - 1}}\n",
        "$$\n",
        "\n",
        "Where:\n",
        "- \\(SSE\\) is the residual sum of squares.\n",
        "- \\(n\\) is the number of observations.\n",
        "- \\(k\\) is the number of predictors (independent variables)."
      ],
      "metadata": {
        "id": "YUYWYYwgfCUm"
      }
    },
    {
      "cell_type": "code",
      "source": [
        "std_error = np.sqrt(sse / (n - k - 1))"
      ],
      "metadata": {
        "id": "FIUsX6Tue9QW"
      },
      "execution_count": 18,
      "outputs": []
    },
    {
      "cell_type": "code",
      "source": [
        "print(f\"Standard Error of the Estimate: {std_error}\")"
      ],
      "metadata": {
        "colab": {
          "base_uri": "https://localhost:8080/"
        },
        "id": "YsPUbfvnfTZe",
        "outputId": "c03fd8f8-5d87-4ddf-b9e6-c172c168a35d"
      },
      "execution_count": 19,
      "outputs": [
        {
          "output_type": "stream",
          "name": "stdout",
          "text": [
            "Standard Error of the Estimate: 40.24352944532851\n"
          ]
        }
      ]
    },
    {
      "cell_type": "markdown",
      "source": [
        "**Interpretation**: <br>\n",
        "The standard error of the estimate (SE) is a measure of the accuracy of the regression model in predicting the dependent variable (in this case, \"Price\"). Specifically, it tells you the typical amount by which the actual observed values of the dependent variable are expected to differ from the predicted values produced by your regression model.\n",
        "\n",
        "In this case, we've calculated a standard error of the estimate of approximately 40.24. Here's how you can interpret it:\n",
        "\n",
        "- Accuracy of Predictions: On average, you can expect the predicted values of \"Price\" made by the regression model to be off by about 40.24 units from the actual observed values.\n",
        "\n",
        "- Variability: A lower standard error of the estimate indicates that the predicted values are closer to the actual values, implying a more accurate model. Conversely, a higher SE suggests greater variability in the predictions, indicating a less accurate model.\n",
        "\n",
        "- R-squared Relationship: The SE is related to the R-squared value of your regression model. R-squared measures the proportion of variance in the dependent variable that is explained by the independent variables. The SEE is the square root of the residual sum of squares (SSE) divided by the degrees of freedom, where the degrees of freedom is (n - k - 1), with 'n' being the number of observations and 'k' being the number of predictors. R-squared is equal to 1 minus the ratio of SSE to the total sum of squares (SST). Therefore, a lower SE typically corresponds to a higher R-squared value, indicating a better-fitting model.\n",
        "\n",
        "- Prediction Intervals: The SE can be used to construct prediction intervals for individual predictions. For instance, if your model predicts a house price of 200,000, you might say that you are 95% confident that the actual house price falls within $40.24 of that prediction (assuming normality and other assumptions hold).\n",
        "\n",
        "In summary, a lower standard error of the estimate is desirable because it suggests that your regression model provides more accurate predictions of the dependent variable. Conversely, a higher SE indicates less accuracy and greater variability in the predictions."
      ],
      "metadata": {
        "id": "mZyjqCJ5ggUf"
      }
    },
    {
      "cell_type": "markdown",
      "source": [
        "##**Objective c)**<br>\n",
        "What is the coefficient of determination? What does this statistic tell you?"
      ],
      "metadata": {
        "id": "At4Z_tEzgPO-"
      }
    },
    {
      "cell_type": "markdown",
      "source": [
        "**So we need to calculate the R-squared, aka the coefficient of determination**"
      ],
      "metadata": {
        "id": "FMdse6Kxj30w"
      }
    },
    {
      "cell_type": "markdown",
      "source": [
        "The formula for calculating the coefficient of determination R-squared is:\n",
        "\n",
        "\n",
        "$$R^2 = 1 - \\frac{SSE}{SST}$$\n",
        "\n",
        "\n",
        "Where:\n",
        "- R-squared is the coefficient of determination.\n",
        "- SSE is the residual sum of squares, representing unexplained variability.\n",
        "- SST is the total sum of squares, representing total variability."
      ],
      "metadata": {
        "id": "KXEfSDchi1eG"
      }
    },
    {
      "cell_type": "markdown",
      "source": [
        "**We have already calculated SSE, so we only need to calculate SST**"
      ],
      "metadata": {
        "id": "OnR1bkjrkEA4"
      }
    },
    {
      "cell_type": "markdown",
      "source": [
        "The formula for calculating the total sum of squares SST is:\n",
        "\n",
        "\n",
        "$$SST = \\sum_{i=1}^{n} (y_i - \\bar{y})^2$$\n",
        "\n",
        "\n",
        "Where:\n",
        "- SST is the total sum of squares.\n",
        "- n is the number of observations.\n",
        "- y_i represents the individual observed values of the dependent variable.\n",
        "- y_bar is the mean (average) of the observed values."
      ],
      "metadata": {
        "id": "unnjlz0xjcV3"
      }
    },
    {
      "cell_type": "code",
      "source": [
        "#Calculate mean value of y (aka y_bar)\n",
        "mean_y = np.mean(y)\n",
        "#Calculate the squared sum of difference between observed values y and the y-bar (mean values)\n",
        "sst = np.sum((y - mean_y)**2)"
      ],
      "metadata": {
        "id": "QQnir4vOfUk-"
      },
      "execution_count": 20,
      "outputs": []
    },
    {
      "cell_type": "code",
      "source": [
        "# Calculate the R-squared (coefficient of determination)\n",
        "r_squared = 1 - (sse / sst)"
      ],
      "metadata": {
        "id": "T5uyPD7WiupY"
      },
      "execution_count": 21,
      "outputs": []
    },
    {
      "cell_type": "code",
      "source": [
        "# Print the R-squared value\n",
        "print(f\"R-squared (Coefficient of Determination): {r_squared}\")"
      ],
      "metadata": {
        "colab": {
          "base_uri": "https://localhost:8080/"
        },
        "id": "oxxJov0Kiwi_",
        "outputId": "c8b1b799-3e68-4a08-95db-cea2106bf500"
      },
      "execution_count": 22,
      "outputs": [
        {
          "output_type": "stream",
          "name": "stdout",
          "text": [
            "R-squared (Coefficient of Determination): 0.24247188773540462\n"
          ]
        }
      ]
    },
    {
      "cell_type": "markdown",
      "source": [
        "**What does this statistic tell us?** <br>\n",
        "The coefficient of determination, often denoted as R-squared, is a measure of how well the independent variables in your regression model explain the variability in the dependent variable. In this case, you've calculated an R-squared value of approximately 0.2425. Here's what this statistic tells you:\n",
        "\n",
        "- **Proportion of Explained Variance**: R-squared measures the proportion of the total variability in the dependent variable (\"Price\" in your case) that is explained by the independent variables (Lot size, Trees, and Distance) included in your regression model. In your model, about 24.25% of the variability in house prices is explained by these three independent variables.\n",
        "\n",
        "- **Model Fit**: An R-squared value of 0.2425 suggests that your regression model explains a relatively modest proportion of the variability in house prices. This means that there are other factors or sources of variation that are not accounted for by the model. In other words, the model does not fit the data very well.\n",
        "\n",
        "- **Predictive Power**: The R-squared value can also serve as an indicator of the model's predictive power. A higher R-squared indicates that the model's predictions are better at explaining the observed variation in house prices, while a lower R-squared suggests that the model's predictions have limited explanatory power.\n",
        "\n",
        "- **Interpretation**: An R-squared value of 0.2425 suggests that, in your model, only about 24.25% of the variation in house prices can be attributed to Lot size, Trees, and Distance. The remaining 75.75% of the variation is due to other factors not included in the model or random variation.\n",
        "\n",
        "- **Considerations**: While R-squared provides valuable information, it's important to note that a low R-squared does not necessarily mean your model is useless. It depends on the context and the research question. Additionally, R-squared should be interpreted in conjunction with other diagnostic measures and domain knowledge.\n",
        "\n",
        "In summary, an R-squared value of 0.2425 indicates that your regression model has limited explanatory power and does not account for a substantial portion of the variability in house prices. Further exploration and consideration of additional variables may be necessary to improve the model's performance."
      ],
      "metadata": {
        "id": "0_LXmlsFk4eo"
      }
    },
    {
      "cell_type": "markdown",
      "source": [
        "##**Objective d)**<br>\n",
        "What is the coefficient of determination (R-squared), adjusted for degrees of freedom? Why does this value differ from the R-squared value? what does this tell us about the model?"
      ],
      "metadata": {
        "id": "c5EUpgBul6-v"
      }
    },
    {
      "cell_type": "markdown",
      "source": [
        "The formula for calculating the adjusted coefficient of determination is:\n",
        "\n",
        "\n",
        "$$R^2_{\\text{adj}} = 1 - \\frac{(1 - R^2) \\cdot (n - 1)}{n - k - 1}$$\n",
        "\n",
        "\n",
        "Where:\n",
        "- R^2_adj is the adjusted coefficient of determination.\n",
        "- R^2 is the regular coefficient of determination.\n",
        "- n is the number of observations.\n",
        "- k is the number of predictors (independent variables) in the model.\n"
      ],
      "metadata": {
        "id": "z1SS7J6MmdSQ"
      }
    },
    {
      "cell_type": "markdown",
      "source": [
        "We've already calculated all the variables needed for the equation, so we simply need to put them together like so:"
      ],
      "metadata": {
        "id": "XjM9xtwZmxyP"
      }
    },
    {
      "cell_type": "code",
      "source": [
        "r_squared_adj = 1 - ((1 - r_squared) * (n - 1) / (n - k - 1))"
      ],
      "metadata": {
        "id": "RV2Wrg8OmMLo"
      },
      "execution_count": 23,
      "outputs": []
    },
    {
      "cell_type": "code",
      "source": [
        "print(f\"Adjusted R-squared: {r_squared_adj}\")"
      ],
      "metadata": {
        "colab": {
          "base_uri": "https://localhost:8080/"
        },
        "id": "_MtPq_OUmMJn",
        "outputId": "15c5fd41-2f07-4b43-c8e4-d6469141ea88"
      },
      "execution_count": 24,
      "outputs": [
        {
          "output_type": "stream",
          "name": "stdout",
          "text": [
            "Adjusted R-squared: 0.20189002457837268\n"
          ]
        }
      ]
    },
    {
      "cell_type": "markdown",
      "source": [
        "**Why does this value differ from the R-squared value?** <br>\n",
        "- **Regular R-squared**: Regular R-squared measures the proportion of the total variance in the dependent variable that is explained by the predictors in the model. It increases as you add more predictors, even if those additional predictors do not significantly improve the model's explanatory power. Therefore, regular R2R2 may overestimate the goodness of fit when you include unnecessary predictors.\n",
        "\n",
        "- **Adjusted R-squared**: Adjusted R-squared adjusts the regular R-squared to account for the number of predictors in the model. It penalizes the inclusion of unnecessary predictors by subtracting a term that depends on the number of predictors (k) and the number of observations (n). This adjustment ensures that the adjusted R-squared increases only when the addition of a new predictor significantly improves the model's fit. As a result, adjusted R-squared is typically lower than regular R-squared when you have more predictors"
      ],
      "metadata": {
        "id": "v4TiIL9-nBQv"
      }
    },
    {
      "cell_type": "markdown",
      "source": [
        "**What does this tell us about the model?**<br>\n",
        "- **Model Fit**: The adjusted R2R2 value indicates the goodness of fit of the regression model. In this case, the adjusted R2R2 is approximately 0.2019, which means that the model explains about 20.19% of the total variance in the dependent variable (Price) based on the independent variables (Lot size, Trees, and Distance).\n",
        "\n",
        "- **Model Complexity**: The adjusted R2R2 adjusts for model complexity by penalizing the inclusion of unnecessary predictors. It takes into account both the explanatory power of the model and the number of predictors. In your case, it appears that while the model does have some explanatory power, it is relatively simple compared to the number of predictors included.\n",
        "\n",
        "- **Limited Explained Variance**: The adjusted R2R2 value of 0.2019 suggests that the model explains a relatively modest portion of the variability in house prices. This means that there are other factors or sources of variation not included in the model that contribute to the variation in prices. It's important to acknowledge that a substantial portion of the variation remains unexplained.\n",
        "\n",
        "- **Room for Improvement**: An adjusted R2R2 of 0.2019 indicates that there may be room for improvement in the model's predictive accuracy. You might consider exploring additional predictors or refining the model to better explain the variance in house prices.\n",
        "\n",
        "- **Interpretation**: In practical terms, this adjusted R2R2 value means that only about 20.19% of the variability in house prices can be attributed to Lot size, Trees, and Distance in the model. The remaining 79.81% of the variability is due to other factors or random variation.\n",
        "\n",
        "In summary, the adjusted R2R2 value of 0.2019 suggests that while your regression model has some explanatory power, it is relatively simple and does not account for a large portion of the variability in house prices. Further model refinement or the inclusion of additional predictors may be necessary to improve its performance. Additionally, it's important to consider domain knowledge and other diagnostic measures when interpreting the results."
      ],
      "metadata": {
        "id": "6Nat_idtnW6A"
      }
    },
    {
      "cell_type": "markdown",
      "source": [
        "##**Objective e)**<br>\n",
        "Test the validity of the model. What does the p-value of the test statistic tell you?"
      ],
      "metadata": {
        "id": "7E-uC3MTpvhX"
      }
    },
    {
      "cell_type": "markdown",
      "source": [
        "The formula for the F-test is:\n",
        "\n",
        "$$F = \\frac{{\\text{Mean Square Regression (MSR)}}}{{\\text{Mean Square Error (MSE)}}} = \\frac{{\\left(\\sum_{i=1}^{n} (y_i - \\bar{y})^2 - \\text{SSE}\\right) / k}}{{\\text{SSE} / (n - k - 1)}} $$\n",
        "\n",
        "Where:\n",
        "- \\( F \\) is the F-statistic.\n",
        "- \"Mean Square Regression (MSR)\" represents the variance explained by the regression model.\n",
        "- \"Mean Square Error (MSE)\" represents the unexplained variance (residuals) in the model.\n",
        "- \\( y_i \\) represents individual observed values.\n",
        "- \\(y_bar \\) represents the mean of observed values.\n",
        "- \"SSE\" is the residual sum of squares.\n",
        "- \\( k \\) is the number of predictor variables.\n",
        "- \\( n \\) is the number of observations."
      ],
      "metadata": {
        "id": "Bi0_sGCytmaZ"
      }
    },
    {
      "cell_type": "code",
      "source": [
        "mean_square_regression = ((np.sum((y - np.mean(y))**2) - sse) / k)"
      ],
      "metadata": {
        "id": "wYrMx9-luQBK"
      },
      "execution_count": 25,
      "outputs": []
    },
    {
      "cell_type": "code",
      "source": [
        "mean_square_error = sse / (n - k - 1)"
      ],
      "metadata": {
        "id": "B6-xR492uUfS"
      },
      "execution_count": 26,
      "outputs": []
    },
    {
      "cell_type": "code",
      "source": [
        "F_statistic = mean_square_regression / mean_square_error"
      ],
      "metadata": {
        "id": "BMt_IidEuXpq"
      },
      "execution_count": 27,
      "outputs": []
    },
    {
      "cell_type": "code",
      "source": [
        "print(f\"F-statistic: {F_statistic}\")"
      ],
      "metadata": {
        "colab": {
          "base_uri": "https://localhost:8080/"
        },
        "id": "yneyJGQDuaO6",
        "outputId": "b9bffda4-e509-49e6-bc4c-8e43dfa4bd4e"
      },
      "execution_count": 28,
      "outputs": [
        {
          "output_type": "stream",
          "name": "stdout",
          "text": [
            "F-statistic: 5.974883085016509\n"
          ]
        }
      ]
    },
    {
      "cell_type": "code",
      "source": [
        "# Set the desired significance level (e.g., alpha = 0.05 for a 95% confidence level)\n",
        "alpha = 0.05\n",
        "# Calculate the critical F-value for the given degrees of freedom\n",
        "df2 = n - k - 1\n",
        "# df1 is our k = 3 from earlier, df2 is calculated as: n - k - 1\n",
        "critical_f_value = f.ppf(1 - alpha, k, df2)\n",
        "\n",
        "print(f\"Critical F-value: {critical_f_value}\")"
      ],
      "metadata": {
        "colab": {
          "base_uri": "https://localhost:8080/"
        },
        "id": "ok87eKPYv2zK",
        "outputId": "aa5a01d8-961a-4fd8-90b8-725a2c14d637"
      },
      "execution_count": 29,
      "outputs": [
        {
          "output_type": "stream",
          "name": "stdout",
          "text": [
            "Critical F-value: 2.7694309320231345\n"
          ]
        }
      ]
    },
    {
      "cell_type": "markdown",
      "source": [
        "**Null Hypothesis (H0​)**: The null hypothesis for the F-test is that the model has no predictive power, meaning that all the regression coefficients (including the intercept) are equal to zero. In other words, the independent variables (Lot size, Trees, and Distance) do not have any significant effect on the dependent variable (Price).\n",
        "\n",
        "**Alternative Hypothesis (H1​)**: The alternative hypothesis is that the model does have predictive power, meaning that at least one of the regression coefficients is not equal to zero. In this case, at least one of the independent variables has a significant effect on the dependent variable."
      ],
      "metadata": {
        "id": "6vU0GqnXrDpR"
      }
    },
    {
      "cell_type": "code",
      "source": [
        "if F_statistic > critical_f_value:\n",
        "  print(f'Nullhypothesis H0 rejected due to F-value({F_statistic}) being higher than the critical F-value({critical_f_value})')\n",
        "elif F_statistic < critical_f_value:\n",
        "  print(f'Nullhypothesis H0 accepted due to F-value({F_statistic}) being lesser than the critical F-value({critical_f_value})')"
      ],
      "metadata": {
        "colab": {
          "base_uri": "https://localhost:8080/"
        },
        "id": "rlO9YN4AxARK",
        "outputId": "aefe8d0c-96f9-4c03-8dbb-feb6bed03c9b"
      },
      "execution_count": 30,
      "outputs": [
        {
          "output_type": "stream",
          "name": "stdout",
          "text": [
            "Nullhypothesis H0 rejected due to F-value(5.974883085016509) being higher than the critical F-value(2.7694309320231345)\n"
          ]
        }
      ]
    },
    {
      "cell_type": "markdown",
      "source": [
        "**Result of hypothesis test:**<br>\n",
        "Since our calculated F-value is higher than the critical value, we have sufficient evidence to reject the null-hypothesis. This suggests that at least one of the independent variables has a significant effect on the dependent variable."
      ],
      "metadata": {
        "id": "6rX-Dcaywiei"
      }
    },
    {
      "cell_type": "markdown",
      "source": [
        "##**Objective f)**<br>\n",
        "Interpret each of the coefficients"
      ],
      "metadata": {
        "id": "yi9Fe7s5x72U"
      }
    },
    {
      "cell_type": "markdown",
      "source": [
        "We can simply show the variable names like so:<br>\n",
        "(I add [:-1] to not show the last index, which is the Intercept variable we added)"
      ],
      "metadata": {
        "id": "tAa2Fd1W1B77"
      }
    },
    {
      "cell_type": "code",
      "source": [
        "X.columns[:-1]"
      ],
      "metadata": {
        "colab": {
          "base_uri": "https://localhost:8080/"
        },
        "id": "9xVOTFTV0c1j",
        "outputId": "d4358960-2140-46c7-c000-8b0edce6c527"
      },
      "execution_count": 31,
      "outputs": [
        {
          "output_type": "execute_result",
          "data": {
            "text/plain": [
              "Index(['Lot size', 'Trees', 'Distance'], dtype='object')"
            ]
          },
          "metadata": {},
          "execution_count": 31
        }
      ]
    },
    {
      "cell_type": "markdown",
      "source": [
        "Then we can show the coefficients_array we created earlier that contains our variable coefficients."
      ],
      "metadata": {
        "id": "58dtmR8a1bOb"
      }
    },
    {
      "cell_type": "code",
      "source": [
        "coefficients_array"
      ],
      "metadata": {
        "colab": {
          "base_uri": "https://localhost:8080/"
        },
        "id": "VTfDZ-S4yJsj",
        "outputId": "e5c9d7c6-cf50-40ed-e927-470370f02e7d"
      },
      "execution_count": 32,
      "outputs": [
        {
          "output_type": "execute_result",
          "data": {
            "text/plain": [
              "array([ 0.69990446,  0.67881312, -0.3783608 ])"
            ]
          },
          "metadata": {},
          "execution_count": 32
        }
      ]
    },
    {
      "cell_type": "markdown",
      "source": [
        "Alternatively we can show it in a more nicely formatted way;"
      ],
      "metadata": {
        "id": "yWgurAnc1juT"
      }
    },
    {
      "cell_type": "code",
      "source": [
        "print(f'Coefficient for {X.columns[0]}: {coefficients_array[0]}\\n') # \\n to add space between the prints\n",
        "print(f'Coefficient for {X.columns[1]}: {coefficients_array[1]}\\n') # \\n to add space between the prints\n",
        "print(f'Coefficient for {X.columns[2]}: {coefficients_array[2]}')"
      ],
      "metadata": {
        "colab": {
          "base_uri": "https://localhost:8080/"
        },
        "id": "8CEo7-010UFy",
        "outputId": "8c35d2ea-c57a-452b-ab90-461c6930685c"
      },
      "execution_count": 33,
      "outputs": [
        {
          "output_type": "stream",
          "name": "stdout",
          "text": [
            "Coefficient for Lot size: 0.6999044587005427\n",
            "\n",
            "Coefficient for Trees: 0.6788131166439563\n",
            "\n",
            "Coefficient for Distance: -0.3783607979932825\n"
          ]
        }
      ]
    },
    {
      "cell_type": "markdown",
      "source": [
        "**Interpretation of Lot size coefficient**: For each one-unit increase in Lot size (e.g., if Lot size increases by one square meter), and while holding Trees and Distance constant, we expect Price to increase by β1 units. <br>\n",
        "**Example**: If β1 is 0.6999, it means that, on average, for every additional square meter of Lot size, the Price is expected to increase by 0.6999 units, assuming Trees and Distance remain constant.<br><br>\n",
        "\n",
        "**Interpretation of Trees coefficient**: For each one-unit increase in Trees (e.g., if the number of Trees increases by one), and while holding Lot size and Distance constant, we expect Price to increase by β2 units. <br>\n",
        "**Example**: If β2 is 0.6788, it means that, on average, for every additional tree on the property, the Price is expected to increase by 0.6788 units, assuming Lot size and Distance remain constant. <br><br>\n",
        "\n",
        "**Interpretation of Distance coefficient**: For each one-unit increase in Distance (e.g., if the distance from a certain location increases by one unit), and while holding Lot size and Trees constant, we expect Price to change by β3 units.<br>\n",
        "**Example**: If β3 is -0.3784, it means that, on average, for every one-unit increase in Distance (e.g., one mile farther from a reference point), the Price is expected to decrease by 0.3784 units, assuming Lot size and Trees remain constant."
      ],
      "metadata": {
        "id": "8jzv03eB1yqS"
      }
    },
    {
      "cell_type": "markdown",
      "source": [
        "##**Objective g)** <br>\n",
        "Test to determine whether each of the independent variables is linearly related to the price of the plot in the model."
      ],
      "metadata": {
        "id": "6dPAI_DQ3WYN"
      }
    },
    {
      "cell_type": "markdown",
      "source": [
        "Hypothesis test"
      ],
      "metadata": {
        "id": "95J_I0ZZ5DUF"
      }
    },
    {
      "cell_type": "markdown",
      "source": [
        "- H0: Our independent variable has a significant linear relationship with our dependant variable.\n",
        "- H1: Our independent variable does not have a significant linear relationship with our dependant variable."
      ],
      "metadata": {
        "id": "58qwOCYZ79Xl"
      }
    },
    {
      "cell_type": "code",
      "source": [
        "t_stat_lot_size, p_value_lot_size = stats.pearsonr(df['Lot size'], df['Price'])\n",
        "# Print the results for Lot size\n",
        "print(f\"Lot size vs. Price:\")\n",
        "print(f\" - t-statistic: {t_stat_lot_size:.4f}\")\n",
        "print(f\" - p-value: {p_value_lot_size:.4f}\")"
      ],
      "metadata": {
        "colab": {
          "base_uri": "https://localhost:8080/"
        },
        "id": "867PiiM15ZS9",
        "outputId": "9cb269f6-0b59-4c73-c6b5-47934f32f846"
      },
      "execution_count": 34,
      "outputs": [
        {
          "output_type": "stream",
          "name": "stdout",
          "text": [
            "Lot size vs. Price:\n",
            " - t-statistic: 0.3035\n",
            " - p-value: 0.0184\n"
          ]
        }
      ]
    },
    {
      "cell_type": "markdown",
      "source": [
        "Since the p-value is **lower** than our significance level (0.05 or 5%) we **can conclude** that there is a linear relationship between this independent variable and the dependent one. **We accept the nullhypothesis for Lot size**"
      ],
      "metadata": {
        "id": "zLJgn8037fsP"
      }
    },
    {
      "cell_type": "code",
      "source": [
        "t_stat_trees, p_value_trees = stats.pearsonr(df['Trees'], df['Price'])\n",
        "# Print the results for Lot size\n",
        "print(f\"Trees vs. Price:\")\n",
        "print(f\" - t-statistic: {t_stat_trees:.4f}\")\n",
        "print(f\" - p-value: {p_value_trees:.4f}\")"
      ],
      "metadata": {
        "colab": {
          "base_uri": "https://localhost:8080/"
        },
        "id": "2TZ-N4OA6Zal",
        "outputId": "1b1993a8-ab70-4c8d-c5d7-02a119d2d67c"
      },
      "execution_count": 35,
      "outputs": [
        {
          "output_type": "stream",
          "name": "stdout",
          "text": [
            "Trees vs. Price:\n",
            " - t-statistic: 0.3891\n",
            " - p-value: 0.0021\n"
          ]
        }
      ]
    },
    {
      "cell_type": "markdown",
      "source": [
        "Since the p-value is **lower** than our significance level (0.05 or 5%) we **can conclude** that there is a linear relationship between this independent variable and the dependent one. **We accept the nullhypothesis for Trees**"
      ],
      "metadata": {
        "id": "7_jURv5Z7uYF"
      }
    },
    {
      "cell_type": "code",
      "source": [
        "t_stat_Distance, p_value_Distance = stats.pearsonr(df['Distance'], df['Price'])\n",
        "# Print the results for Lot size\n",
        "print(f\"Distance vs. Price:\")\n",
        "print(f\" - t-statistic: {t_stat_Distance:.4f}\")\n",
        "print(f\" - p-value: {p_value_Distance:.4f}\")"
      ],
      "metadata": {
        "colab": {
          "base_uri": "https://localhost:8080/"
        },
        "id": "lOt5fvET6ZXV",
        "outputId": "15e50045-8f91-4ab4-f60b-46dd70d17325"
      },
      "execution_count": 36,
      "outputs": [
        {
          "output_type": "stream",
          "name": "stdout",
          "text": [
            "Distance vs. Price:\n",
            " - t-statistic: -0.2326\n",
            " - p-value: 0.0737\n"
          ]
        }
      ]
    },
    {
      "cell_type": "markdown",
      "source": [
        "Since the p-value is **higher** than our significance level (0.05 or 5%) we **can not conclude** that there is a linear relationship between this independent variable and the dependent one. **We reject the nullhypothesis for Distance**"
      ],
      "metadata": {
        "id": "FABwu_rw7v5V"
      }
    },
    {
      "cell_type": "markdown",
      "source": [
        "##**Objective h)** <br>\n",
        "Predict with 90% confidence the selling price of a 40.000 square foot plot that has 50 mature trees and is 25 feet away from the lake"
      ],
      "metadata": {
        "id": "HJRzT-6-8bo9"
      }
    },
    {
      "cell_type": "markdown",
      "source": [
        "For the sake of simplifying what is going on here, we will load them in from our earlier variables:"
      ],
      "metadata": {
        "id": "DKk-omt89k5F"
      }
    },
    {
      "cell_type": "code",
      "source": [
        "coefficients"
      ],
      "metadata": {
        "colab": {
          "base_uri": "https://localhost:8080/"
        },
        "id": "0B7OrDA3-Qim",
        "outputId": "15428261-4b97-4563-c0d0-bef60dd50d8c"
      },
      "execution_count": 37,
      "outputs": [
        {
          "output_type": "execute_result",
          "data": {
            "text/plain": [
              "array([ 0.69990446,  0.67881312, -0.3783608 , 51.39121643])"
            ]
          },
          "metadata": {},
          "execution_count": 37
        }
      ]
    },
    {
      "cell_type": "code",
      "source": [
        "coeff_lot_size = coefficients[0]\n",
        "coeff_Trees = coefficients[1]\n",
        "coeff_Distance = coefficients[2]\n",
        "intercept = coefficients[3]"
      ],
      "metadata": {
        "id": "7O-3UDgZ7D4F"
      },
      "execution_count": 38,
      "outputs": []
    },
    {
      "cell_type": "markdown",
      "source": [
        "We plug in the values from the assignment objective as their own variables"
      ],
      "metadata": {
        "id": "6hVbQGcy-fj2"
      }
    },
    {
      "cell_type": "code",
      "source": [
        "lot_size = 40000\n",
        "trees = 50\n",
        "distance = 25"
      ],
      "metadata": {
        "id": "37axYZp1-O6u"
      },
      "execution_count": 39,
      "outputs": []
    },
    {
      "cell_type": "code",
      "source": [
        "predicted_price = intercept + coeff_lot_size * lot_size + coeff_Trees * trees + coeff_Distance * distance\n",
        "predicted_price"
      ],
      "metadata": {
        "colab": {
          "base_uri": "https://localhost:8080/"
        },
        "id": "CNMTITdX-O0O",
        "outputId": "5047f629-4a7c-4f5d-b29b-bc42453f6360"
      },
      "execution_count": 40,
      "outputs": [
        {
          "output_type": "execute_result",
          "data": {
            "text/plain": [
              "28072.05120033259"
            ]
          },
          "metadata": {},
          "execution_count": 40
        }
      ]
    },
    {
      "cell_type": "markdown",
      "source": [
        "We use the sse variable from earlier to calculate standard error of estimate (SE)"
      ],
      "metadata": {
        "id": "YKU6V91C-5QO"
      }
    },
    {
      "cell_type": "code",
      "source": [
        "SE = np.sqrt(sse / (n - k - 1))"
      ],
      "metadata": {
        "id": "GgDiiEoa-Oxm"
      },
      "execution_count": 41,
      "outputs": []
    },
    {
      "cell_type": "markdown",
      "source": [
        "We set the significance level and calculate our critical value for a two-tailed interval (alpha / 2)"
      ],
      "metadata": {
        "id": "bQaYpEqA_Ck2"
      }
    },
    {
      "cell_type": "code",
      "source": [
        "alpha = 0.10  # 10% significance level\n",
        "critical_value = stats.t.ppf(1 - alpha / 2, df=n - k - 1)"
      ],
      "metadata": {
        "id": "IiXlFwF---5_"
      },
      "execution_count": 42,
      "outputs": []
    },
    {
      "cell_type": "markdown",
      "source": [
        "Calculate margin of error (ME)"
      ],
      "metadata": {
        "id": "cwWu7kgo_SUW"
      }
    },
    {
      "cell_type": "code",
      "source": [
        "ME = critical_value * SE"
      ],
      "metadata": {
        "id": "ShYvczsj_PD2"
      },
      "execution_count": 43,
      "outputs": []
    },
    {
      "cell_type": "code",
      "source": [
        "# Calculate the lower and upper bounds of the confidence interval\n",
        "lower_bound = predicted_price - ME\n",
        "upper_bound = predicted_price + ME"
      ],
      "metadata": {
        "id": "p32LGgE3_VY2"
      },
      "execution_count": 44,
      "outputs": []
    },
    {
      "cell_type": "code",
      "source": [
        "print(f\"Predicted Price: {predicted_price} \\n\")\n",
        "print(f\"90% Confidence Interval: ({lower_bound}, {upper_bound})\")"
      ],
      "metadata": {
        "colab": {
          "base_uri": "https://localhost:8080/"
        },
        "id": "GlUIA62i_Y1H",
        "outputId": "2e161a07-08ce-445f-c14f-71b2a25a126e"
      },
      "execution_count": 45,
      "outputs": [
        {
          "output_type": "stream",
          "name": "stdout",
          "text": [
            "Predicted Price: 28072.05120033259 \n",
            "\n",
            "90% Confidence Interval: (28004.742999795257, 28139.359400869922)\n"
          ]
        }
      ]
    },
    {
      "cell_type": "markdown",
      "source": [
        "##**Objective i)**<br>\n",
        "Estimate with 90% confidence the average selling price of 50.000 square foot plots that have ten mature trees and are 75 feet from the lake"
      ],
      "metadata": {
        "id": "7_vyoa7V_kRu"
      }
    },
    {
      "cell_type": "markdown",
      "source": [
        "We repeat the process from objective h), but we can reuse a lot of the variables we created;"
      ],
      "metadata": {
        "id": "ffCC0KPNAP9u"
      }
    },
    {
      "cell_type": "code",
      "source": [
        "lot_size = 50000\n",
        "trees = 10\n",
        "distance = 75"
      ],
      "metadata": {
        "id": "wwZrTFVL_0dO"
      },
      "execution_count": 46,
      "outputs": []
    },
    {
      "cell_type": "code",
      "source": [
        "predicted_price = intercept + coeff_lot_size * lot_size + coeff_Trees * trees + coeff_Distance * distance\n",
        "predicted_price"
      ],
      "metadata": {
        "colab": {
          "base_uri": "https://localhost:8080/"
        },
        "id": "ESC2Sps__7eO",
        "outputId": "01ae7ca9-230b-49af-c662-c2687d2458ed"
      },
      "execution_count": 47,
      "outputs": [
        {
          "output_type": "execute_result",
          "data": {
            "text/plain": [
              "35025.025222772594"
            ]
          },
          "metadata": {},
          "execution_count": 47
        }
      ]
    },
    {
      "cell_type": "code",
      "source": [
        "# Calculate the lower and upper bounds of the confidence interval\n",
        "lower_bound = predicted_price - ME\n",
        "upper_bound = predicted_price + ME"
      ],
      "metadata": {
        "id": "qKjgJvvY_7bu"
      },
      "execution_count": 48,
      "outputs": []
    },
    {
      "cell_type": "code",
      "source": [
        "print(f\"Predicted Price: {predicted_price} \\n\")\n",
        "print(f\"90% Confidence Interval: ({lower_bound}, {upper_bound})\")"
      ],
      "metadata": {
        "colab": {
          "base_uri": "https://localhost:8080/"
        },
        "id": "fBMPYTKGAKpG",
        "outputId": "8dd03d9f-51d5-41c1-d4ce-c49b6aa71c2f"
      },
      "execution_count": 49,
      "outputs": [
        {
          "output_type": "stream",
          "name": "stdout",
          "text": [
            "Predicted Price: 35025.025222772594 \n",
            "\n",
            "90% Confidence Interval: (34957.71702223526, 35092.33342330993)\n"
          ]
        }
      ]
    },
    {
      "cell_type": "markdown",
      "source": [
        "#**I know that was a lot to process, but now it's your turn:**"
      ],
      "metadata": {
        "id": "pThiuWlCAhR_"
      }
    },
    {
      "cell_type": "markdown",
      "source": [
        "##**Assignment Xr17-02**<br>\n",
        "Pat Statsdud, a student ranking near bottom of the statistics class decided that a certain amount of studying could actually improve final grades. However, too much studying would not be warranted because Pat's ambition (if that's what one could call it) was to ultimately graduate with the absolute minimum level of work. Pat was registered in a statistics course that had only 3 weeks to go before the final exam and for which the final grade was determined in the following way:<br><br>\n",
        "Total mark = 20% (Assignment) + 30% (Midterm test) + 50% (Final exam) <br><br>\n",
        "To determine how much work to do in the remaining 3 weeks, Pat needed to be able to predict the final exam mark on the basis of the assignment mark (worth 20 points) and the midterm mark (worth 30 points). Pat's marks on these were 12/20 and 14/30 respectively. Accordingly, Pat undertook the following analysis. The final exam mark, assignment mark and midterm mark for 30 students who took the statistics course last year were collected."
      ],
      "metadata": {
        "id": "donXi_2kCUxG"
      }
    },
    {
      "cell_type": "markdown",
      "source": [
        "First load in the data; <br>\n",
        "link: https://github.com/saoter/AQM2023/raw/main/Workshop%207/data/Xr17-02.xlsx"
      ],
      "metadata": {
        "id": "lcUa6FiyEUWH"
      }
    },
    {
      "cell_type": "code",
      "source": [],
      "metadata": {
        "id": "lUyP_UcDEgln"
      },
      "execution_count": 49,
      "outputs": []
    },
    {
      "cell_type": "markdown",
      "source": [
        "**a)** Determine the regression equation"
      ],
      "metadata": {
        "id": "NBNMn2SiELCP"
      }
    },
    {
      "cell_type": "code",
      "source": [],
      "metadata": {
        "id": "IstXgwhNAlPN"
      },
      "execution_count": 49,
      "outputs": []
    },
    {
      "cell_type": "markdown",
      "source": [
        "**b)** What is the standard error of the estimate? Briefly describe how you interpret this statistic"
      ],
      "metadata": {
        "id": "sbnKLAcrCVYn"
      }
    },
    {
      "cell_type": "code",
      "source": [],
      "metadata": {
        "id": "OGiTeLMECV-_"
      },
      "execution_count": 49,
      "outputs": []
    },
    {
      "cell_type": "markdown",
      "source": [
        "**c)** What is the coefficient of determination? (R-squared) What does this statistic tell you?"
      ],
      "metadata": {
        "id": "RrpkQrHDErqX"
      }
    },
    {
      "cell_type": "code",
      "source": [],
      "metadata": {
        "id": "crAfBcxLCWXn"
      },
      "execution_count": 49,
      "outputs": []
    },
    {
      "cell_type": "markdown",
      "source": [
        "**d)** Test the validity of the model"
      ],
      "metadata": {
        "id": "CT7mrmw1E5M_"
      }
    },
    {
      "cell_type": "code",
      "source": [],
      "metadata": {
        "id": "xf7Bzs7ZCWVP"
      },
      "execution_count": 49,
      "outputs": []
    },
    {
      "cell_type": "markdown",
      "source": [
        "**e)** Interpret each of the coefficients"
      ],
      "metadata": {
        "id": "j_SHTCnjE9FY"
      }
    },
    {
      "cell_type": "code",
      "source": [],
      "metadata": {
        "id": "PBZJeghfCWS3"
      },
      "execution_count": 49,
      "outputs": []
    },
    {
      "cell_type": "markdown",
      "source": [
        "**f)** Can Pat infer that the assignment mark is linearly related to the final grade in this model?"
      ],
      "metadata": {
        "id": "sJJ3JwemFCJ4"
      }
    },
    {
      "cell_type": "code",
      "source": [],
      "metadata": {
        "id": "ZWZI6do9FCew"
      },
      "execution_count": 49,
      "outputs": []
    },
    {
      "cell_type": "markdown",
      "source": [
        "**g)** Can Pat infer that the midterm mark is linearly related to the final grade in this model?"
      ],
      "metadata": {
        "id": "uVWdIzPhFUSo"
      }
    },
    {
      "cell_type": "code",
      "source": [],
      "metadata": {
        "id": "fEQKN5NuFYWQ"
      },
      "execution_count": 49,
      "outputs": []
    },
    {
      "cell_type": "markdown",
      "source": [
        "**h)** Predict Pats final exam mark with 95% confidence"
      ],
      "metadata": {
        "id": "HooLq2nPFaE3"
      }
    },
    {
      "cell_type": "code",
      "source": [],
      "metadata": {
        "id": "3XpyCaJkFhlo"
      },
      "execution_count": 49,
      "outputs": []
    },
    {
      "cell_type": "markdown",
      "source": [
        "**i)** Predict Pats final exam mark with 90% confidence"
      ],
      "metadata": {
        "id": "Yahwt0YmFjCY"
      }
    },
    {
      "cell_type": "code",
      "source": [],
      "metadata": {
        "id": "slpFQRmmFldo"
      },
      "execution_count": 49,
      "outputs": []
    },
    {
      "cell_type": "markdown",
      "source": [
        "##**Assignment Xr17-03 (for the quick ones)**: <br>\n",
        "The CEO of a company that manufactures dry-wall wants to analyze the variables that affect demand for his product. Drywall is used to construct walls in houses and offices. The CEO decides to develop a regression model in which the dependent variable is monthly sales of drywall (in hundreds of 4x8 sheets) and the independent variables are as follows:\n",
        "- Number of building permits issued in the country\n",
        "- Five year mortgage rates (in percentage points)\n",
        "- Vacancy rate in apartments (in percentage points)\n",
        "- Vacancy rate in office buildings (in percentage points) <br>\n",
        "To estimate a regression model he took monthly observations from the past 2 years."
      ],
      "metadata": {
        "id": "OoO0G1hfFx7g"
      }
    },
    {
      "cell_type": "markdown",
      "source": [
        "Link to data: https://github.com/saoter/AQM2023/raw/main/Workshop%207/data/Xr17-03.xlsx"
      ],
      "metadata": {
        "id": "OCVIJd9QHJSQ"
      }
    },
    {
      "cell_type": "markdown",
      "source": [
        "Load in the data"
      ],
      "metadata": {
        "id": "h_fasB0AHPNQ"
      }
    },
    {
      "cell_type": "code",
      "source": [],
      "metadata": {
        "id": "K5z0flDDHJzw"
      },
      "execution_count": 49,
      "outputs": []
    },
    {
      "cell_type": "markdown",
      "source": [
        "**a)** Analyse the data using multiple regression"
      ],
      "metadata": {
        "id": "07sd71EwHQ23"
      }
    },
    {
      "cell_type": "code",
      "source": [],
      "metadata": {
        "id": "mv4ZiKsJHVnH"
      },
      "execution_count": 49,
      "outputs": []
    },
    {
      "cell_type": "markdown",
      "source": [
        "**b)** What is the standard error of the estimate? Can you use this statistic to assess the models fit? If so, how?"
      ],
      "metadata": {
        "id": "RSAIRn1-HV4_"
      }
    },
    {
      "cell_type": "code",
      "source": [],
      "metadata": {
        "id": "w8wXW-ffHWJg"
      },
      "execution_count": 49,
      "outputs": []
    },
    {
      "cell_type": "markdown",
      "source": [
        "**c)** What is the coefficient of determination? (R-squared), and what does it tell you about the regression model?"
      ],
      "metadata": {
        "id": "zhZlFHOgHWl_"
      }
    },
    {
      "cell_type": "code",
      "source": [],
      "metadata": {
        "id": "7dNtpkzPHW2v"
      },
      "execution_count": 49,
      "outputs": []
    },
    {
      "cell_type": "markdown",
      "source": [
        "**d)** Test the overall validity of the model"
      ],
      "metadata": {
        "id": "lptO4Ej4HXGX"
      }
    },
    {
      "cell_type": "code",
      "source": [],
      "metadata": {
        "id": "IxXlWKo7HXX3"
      },
      "execution_count": 49,
      "outputs": []
    },
    {
      "cell_type": "markdown",
      "source": [
        "**e)** Interpret each of the coefficients"
      ],
      "metadata": {
        "id": "ts3RdCxBH6OJ"
      }
    },
    {
      "cell_type": "code",
      "source": [],
      "metadata": {
        "id": "EkQH7pazH-e4"
      },
      "execution_count": 49,
      "outputs": []
    },
    {
      "cell_type": "markdown",
      "source": [
        "**f)** Test to determine whether each of the independent variables is linearly related to drywall demand in this model"
      ],
      "metadata": {
        "id": "5tT2TUApH_ER"
      }
    },
    {
      "cell_type": "code",
      "source": [],
      "metadata": {
        "id": "OnTx9rA0ILfg"
      },
      "execution_count": 49,
      "outputs": []
    },
    {
      "cell_type": "markdown",
      "source": [
        "**g)** Predict next months drywall sales with 95% confidence if the number of building permits is 50, the 5 year mortgage rate i 9.0% and the vacancry rates are 3.6% in apartments and 14.3% in office buildings"
      ],
      "metadata": {
        "id": "8lFp5lhDIOH4"
      }
    },
    {
      "cell_type": "code",
      "source": [],
      "metadata": {
        "id": "j6F5OzicIfRA"
      },
      "execution_count": 49,
      "outputs": []
    }
  ]
}