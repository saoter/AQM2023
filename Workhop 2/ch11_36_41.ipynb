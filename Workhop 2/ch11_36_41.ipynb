{
  "nbformat": 4,
  "nbformat_minor": 0,
  "metadata": {
    "colab": {
      "provenance": [],
      "authorship_tag": "ABX9TyMRbSCouJ/a2/1qnHJZd7GZ",
      "include_colab_link": true
    },
    "kernelspec": {
      "name": "python3",
      "display_name": "Python 3"
    },
    "language_info": {
      "name": "python"
    }
  },
  "cells": [
    {
      "cell_type": "markdown",
      "metadata": {
        "id": "view-in-github",
        "colab_type": "text"
      },
      "source": [
        "<a href=\"https://colab.research.google.com/github/saoter/AQM2023/blob/main/Workhop%202/ch11_36_41.ipynb\" target=\"_parent\"><img src=\"https://colab.research.google.com/assets/colab-badge.svg\" alt=\"Open In Colab\"/></a>"
      ]
    },
    {
      "cell_type": "code",
      "execution_count": 33,
      "metadata": {
        "id": "K22OtmUCMCJM"
      },
      "outputs": [],
      "source": [
        "# Import packages\n",
        "import numpy as np\n",
        "import pandas as pd\n",
        "from scipy import stats\n",
        "import matplotlib.pyplot as plt #for visualisation\n",
        "\n",
        "\n",
        "from IPython.display import display, Math #This allow us to make subscripts\n",
        "\n"
      ]
    },
    {
      "cell_type": "markdown",
      "source": [
        "# **Exercise 11.36**\n",
        "\n",
        "A random sample of 18 young adult men  (20–30 years old) was sampled. Each person was asked how many minutes of sports he watched on television daily. The responses are listed here. It is known that σ = 10. Test to determine at the 5% significance level whether there is enough statistical evidence to infer that the mean amount of television watched daily by all young adult men is greater than 50 minutes.\n",
        "\n",
        "Times = 50, 48, 65, 74, 66, 37, 45, 68, 64, 65, 58, 55, 52, 63, 59, 57, 74, 65"
      ],
      "metadata": {
        "id": "vrIDciQGMXOu"
      }
    },
    {
      "cell_type": "code",
      "source": [
        "# Here we clone GitHub repository\n",
        "from google.colab import drive\n",
        "drive.mount('/content/drive')\n",
        "!git clone \"https://github.com/saoter/AQM2023.git\""
      ],
      "metadata": {
        "colab": {
          "base_uri": "https://localhost:8080/"
        },
        "id": "YmGJLW8xriaN",
        "outputId": "4fa638e7-1f06-49c2-979b-7bcb704b0cfb"
      },
      "execution_count": 48,
      "outputs": [
        {
          "output_type": "stream",
          "name": "stdout",
          "text": [
            "Drive already mounted at /content/drive; to attempt to forcibly remount, call drive.mount(\"/content/drive\", force_remount=True).\n",
            "fatal: destination path 'AQM2023' already exists and is not an empty directory.\n"
          ]
        }
      ]
    },
    {
      "cell_type": "code",
      "source": [
        "# as alternative, you can also upload file from you computer\n",
        "#import dataset\n",
        "\n",
        "\n",
        "#from google.colab import files\n",
        "#uploaded = files.upload()\n"
      ],
      "metadata": {
        "id": "avtkRX1n1sni"
      },
      "execution_count": 49,
      "outputs": []
    },
    {
      "cell_type": "code",
      "source": [
        "%cd /content/AQM2023/Workshop 2/data"
      ],
      "metadata": {
        "colab": {
          "base_uri": "https://localhost:8080/"
        },
        "id": "aFXbZ-jHs9ag",
        "outputId": "7311c23a-b53c-4992-f749-e72d18538ae8"
      },
      "execution_count": 50,
      "outputs": [
        {
          "output_type": "stream",
          "name": "stdout",
          "text": [
            "/content/AQM2023/Workshop 2/data\n"
          ]
        }
      ]
    },
    {
      "cell_type": "code",
      "source": [
        "df = pd.read_excel('Xr11-36.xlsx')\n",
        "data = df['Times']\n"
      ],
      "metadata": {
        "id": "QHJF6RLu2lrn"
      },
      "execution_count": 51,
      "outputs": []
    },
    {
      "cell_type": "code",
      "source": [
        "# Define Hypothesises\n",
        "display(Math('H_{0}'), \"The mean amount of television watched daily by all young adult men is not greater than 50 minutes (μ ≤ 50)\")\n",
        "display(Math('H_{1}'), \"The mean amount of television watched daily by all young adult men is greater than 50 minutes (μ > 50).\")\n",
        "\n"
      ],
      "metadata": {
        "colab": {
          "base_uri": "https://localhost:8080/",
          "height": 98
        },
        "id": "_1DUf_1DMifq",
        "outputId": "53fd1dec-78be-4c5c-9848-eb0e9ebb688c"
      },
      "execution_count": 52,
      "outputs": [
        {
          "output_type": "display_data",
          "data": {
            "text/plain": [
              "<IPython.core.display.Math object>"
            ],
            "text/latex": "$\\displaystyle H_{0}$"
          },
          "metadata": {}
        },
        {
          "output_type": "display_data",
          "data": {
            "text/plain": [
              "'The mean amount of television watched daily by all young adult men is not greater than 50 minutes (μ ≤ 50)'"
            ],
            "application/vnd.google.colaboratory.intrinsic+json": {
              "type": "string"
            }
          },
          "metadata": {}
        },
        {
          "output_type": "display_data",
          "data": {
            "text/plain": [
              "<IPython.core.display.Math object>"
            ],
            "text/latex": "$\\displaystyle H_{1}$"
          },
          "metadata": {}
        },
        {
          "output_type": "display_data",
          "data": {
            "text/plain": [
              "'The mean amount of television watched daily by all young adult men is greater than 50 minutes (μ > 50).'"
            ],
            "application/vnd.google.colaboratory.intrinsic+json": {
              "type": "string"
            }
          },
          "metadata": {}
        }
      ]
    },
    {
      "cell_type": "code",
      "source": [
        "# Variables\n",
        "sample_mean = np.mean(data)\n",
        "stddev = 10 #we can do our own calculation, see last cell in this exercise\n",
        "z = (sample_mean - 50) / (stddev / np.sqrt(len(data)))\n",
        "alpha = 0.05\n",
        "p_value = 1 - stats.t.cdf(z, df=len(data)-1)\n"
      ],
      "metadata": {
        "id": "umdar3HePvuG"
      },
      "execution_count": 53,
      "outputs": []
    },
    {
      "cell_type": "code",
      "source": [
        "print(\"z value = \",z)\n",
        "print(\"p-value = \", p_value)"
      ],
      "metadata": {
        "colab": {
          "base_uri": "https://localhost:8080/"
        },
        "id": "-kHrpjgURL3U",
        "outputId": "62840f9f-dd9d-4e21-b1e7-5914f3fee8d8"
      },
      "execution_count": 54,
      "outputs": [
        {
          "output_type": "stream",
          "name": "stdout",
          "text": [
            "z value =  3.8890872965260104\n",
            "p-value =  0.000589643654909211\n"
          ]
        }
      ]
    },
    {
      "cell_type": "code",
      "source": [
        "\n",
        "\n",
        "p_value < alpha\n"
      ],
      "metadata": {
        "colab": {
          "base_uri": "https://localhost:8080/"
        },
        "id": "25dQJcSnQtH2",
        "outputId": "760f7637-98f5-4a7a-eeae-9a0259dfdab2"
      },
      "execution_count": 55,
      "outputs": [
        {
          "output_type": "execute_result",
          "data": {
            "text/plain": [
              "True"
            ]
          },
          "metadata": {},
          "execution_count": 55
        }
      ]
    },
    {
      "cell_type": "markdown",
      "source": [
        "P-value is smaller than the level of significance, thus we can reject the null hypothesis. There is enough evidence to infer that the mean amount of sport watched on television daily by all young adult men is greater than 50 minutes."
      ],
      "metadata": {
        "id": "HH52xp2b370C"
      }
    },
    {
      "cell_type": "markdown",
      "source": [
        "# Exercise 11.41\n",
        "\n",
        "A  manufacturer  of  light  bulbs  advertises  that, on average, its long life bulb will last more than 5,000 hours. To test the claim, a statistician took a random sample of 100 bulbs and measured the amount of time until each bulb burned out. If we assume that the lifetime of this type of bulb has a standard deviation of 400 hours, can we conclude at the 5% significance level that the claim is true?"
      ],
      "metadata": {
        "id": "0h7ldRgm7eTD"
      }
    },
    {
      "cell_type": "code",
      "source": [
        "#import dataset\n",
        "df = pd.read_excel('Xr11-41.xlsx')\n",
        "data = df['Bulbs']"
      ],
      "metadata": {
        "colab": {
          "base_uri": "https://localhost:8080/"
        },
        "id": "NZmtee_c8aZ_",
        "outputId": "bed4ce72-9ce0-4db8-c0c6-438d699674a1"
      },
      "execution_count": 56,
      "outputs": [
        {
          "output_type": "stream",
          "name": "stderr",
          "text": [
            "/usr/local/lib/python3.10/dist-packages/openpyxl/worksheet/header_footer.py:48: UserWarning: Cannot parse header or footer so it will be ignored\n",
            "  warn(\"\"\"Cannot parse header or footer so it will be ignored\"\"\")\n"
          ]
        }
      ]
    },
    {
      "cell_type": "code",
      "source": [
        "# Define Hypothesises\n",
        "display(Math('H_{0}'), \"The average lifetime of the long-life bulbs is 5,000 hours (μ = 5000).\")\n",
        "display(Math('H_{1}'), \"The average lifetime of the long-life bulbs is greater than 5,000 hours (μ > 5000).\")"
      ],
      "metadata": {
        "colab": {
          "base_uri": "https://localhost:8080/",
          "height": 98
        },
        "id": "Rraf8DST89Bg",
        "outputId": "6ffb5c23-3747-48ff-8c29-927220c0386d"
      },
      "execution_count": 57,
      "outputs": [
        {
          "output_type": "display_data",
          "data": {
            "text/plain": [
              "<IPython.core.display.Math object>"
            ],
            "text/latex": "$\\displaystyle H_{0}$"
          },
          "metadata": {}
        },
        {
          "output_type": "display_data",
          "data": {
            "text/plain": [
              "'The average lifetime of the long-life bulbs is 5,000 hours (μ = 5000).'"
            ],
            "application/vnd.google.colaboratory.intrinsic+json": {
              "type": "string"
            }
          },
          "metadata": {}
        },
        {
          "output_type": "display_data",
          "data": {
            "text/plain": [
              "<IPython.core.display.Math object>"
            ],
            "text/latex": "$\\displaystyle H_{1}$"
          },
          "metadata": {}
        },
        {
          "output_type": "display_data",
          "data": {
            "text/plain": [
              "'The average lifetime of the long-life bulbs is greater than 5,000 hours (μ > 5000).'"
            ],
            "application/vnd.google.colaboratory.intrinsic+json": {
              "type": "string"
            }
          },
          "metadata": {}
        }
      ]
    },
    {
      "cell_type": "code",
      "source": [
        "# Variables\n",
        "sample_mean = np.mean(data)\n",
        "stddev = 400 #we can do our own calculation, see last cell in this exercise\n",
        "z = (sample_mean - 5000) / (stddev / np.sqrt(len(data)))\n",
        "alpha = 0.05\n",
        "p_value = 1 - stats.t.cdf(z, df=len(data)-1)\n"
      ],
      "metadata": {
        "id": "0aedP5wd929f"
      },
      "execution_count": 58,
      "outputs": []
    },
    {
      "cell_type": "code",
      "source": [
        "print(\"z value = \",z)\n",
        "print(\"p-value = \", p_value)"
      ],
      "metadata": {
        "colab": {
          "base_uri": "https://localhost:8080/"
        },
        "id": "Latk0ubz-D4B",
        "outputId": "b3267727-1953-4333-84f9-e34dc2254c6f"
      },
      "execution_count": 59,
      "outputs": [
        {
          "output_type": "stream",
          "name": "stdout",
          "text": [
            "z value =  1.624000000000001\n",
            "p-value =  0.053777838639939235\n"
          ]
        }
      ]
    },
    {
      "cell_type": "code",
      "source": [
        "p_value < alpha"
      ],
      "metadata": {
        "colab": {
          "base_uri": "https://localhost:8080/"
        },
        "id": "0gczmmDL-VaR",
        "outputId": "0cd33040-1f5c-48bc-966b-86278e7ee75b"
      },
      "execution_count": 60,
      "outputs": [
        {
          "output_type": "execute_result",
          "data": {
            "text/plain": [
              "False"
            ]
          },
          "metadata": {},
          "execution_count": 60
        }
      ]
    },
    {
      "cell_type": "markdown",
      "source": [
        "P-value is not smaller than 5% so there is not enough evidence to conclude that manufacturers advertisment is correct."
      ],
      "metadata": {
        "id": "XUGnWH_r_OUg"
      }
    }
  ]
}